{
 "cells": [
  {
   "cell_type": "code",
   "execution_count": 14,
   "metadata": {},
   "outputs": [
    {
     "name": "stdout",
     "output_type": "stream",
     "text": [
      "          X          y\n",
      "0  1.860516  10.698633\n",
      "1  1.346428   5.231753\n",
      "2  0.880642   6.463784\n",
      "3  0.409490   6.633855\n",
      "4  1.781533   8.909542\n",
      "---------\n",
      "theta= [[4.37294426]\n",
      " [3.09147092]]\n",
      "------\n",
      "[4.16779099 2.94296484]\n"
     ]
    }
   ],
   "source": [
    "# PT HQ: y=4+3X (Tr 127)\n",
    "import numpy as np\n",
    "from xlwt import Workbook\n",
    "import pandas as pd\n",
    "xl = pd.ExcelFile('demo_data.xls')\n",
    "# get the first sheet as an object\n",
    "df = pd.read_excel(xl, 0, header=0)\n",
    "print(df.head())\n",
    "X=df.iloc[:, 0]\n",
    "X_b = np.c_[np.ones((100, 1)), X] #add 1\n",
    "\n",
    "yy=df.iloc[:,1]\n",
    "y=np.ones((100, 1))\n",
    "y[:,0]=yy\n",
    "print('---------')\n",
    "n_epochs = 30\n",
    "m=len(y)\n",
    "eta=0.05\n",
    "t0, t1 = 2, 50  # learning schedule hyperparameters\n",
    "\n",
    "theta = np.random.randn(2,1)  # random initialization\n",
    "for epoch in range(n_epochs):\n",
    "    for i in range(m):\n",
    "        random_index = np.random.randint(m)\n",
    "        xi = X_b[random_index:random_index+7]\n",
    "        yi = y[random_index:random_index+7]\n",
    "        gradients = 2 * xi.T.dot(xi.dot(theta) - yi)\n",
    "        \n",
    "    theta = theta - eta * gradients # cập nhật tham số của mô hình\n",
    "\n",
    "print('theta=',theta)\n",
    "print('------')\n",
    "\n",
    "from sklearn.linear_model import SGDRegressor\n",
    "sgd_reg = SGDRegressor(max_iter=10000, tol=1e-3, penalty=None, eta0=0.1, fit_intercept=False)\n",
    "\n",
    "\n",
    "sgd_reg.fit(X_b, y.ravel())\n",
    "print(sgd_reg.coef_)"
   ]
  },
  {
   "cell_type": "code",
   "execution_count": null,
   "metadata": {},
   "outputs": [],
   "source": []
  }
 ],
 "metadata": {
  "kernelspec": {
   "display_name": "Python 3",
   "language": "python",
   "name": "python3"
  },
  "language_info": {
   "codemirror_mode": {
    "name": "ipython",
    "version": 3
   },
   "file_extension": ".py",
   "mimetype": "text/x-python",
   "name": "python",
   "nbconvert_exporter": "python",
   "pygments_lexer": "ipython3",
   "version": "3.7.6"
  }
 },
 "nbformat": 4,
 "nbformat_minor": 4
}
