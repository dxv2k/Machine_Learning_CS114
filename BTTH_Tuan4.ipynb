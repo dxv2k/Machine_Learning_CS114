{
 "cells": [
  {
   "cell_type": "markdown",
   "metadata": {},
   "source": [
    "### Bài tập 1. Cho hàm số một biến $f(x) = x^2 + 4x + 3$\n",
    "\n",
    "1. Chúng ta sẽ thấy ngay hàm số đạt cực tiểu tại điểm $x^* = −2$. Bạn hãy giải thích tại sao bằng toán học. (*Gợi ý: Các bạn có thể dùng kiến thức môn Giải Tích đã học tại chương trình THPT*).\n",
    "2. Viết chương trình máy tính sử dụng thuật toán Gradient Descent tìm giá trị gần đúng của $x^*$.\n",
    "3. Thay đổi nghiệm (điểm cực tiểu) ban đầu khi thực hiện thuật toán Gradient Descent và nhận xét.\n",
    "4. Bạn có thể chạy thuật toán Gradient Descent bằng tay cho $2$ vòng lặp được không?"
   ]
  },
  {
   "cell_type": "markdown",
   "metadata": {},
   "source": [
    "### Bài tập 2. Cho hàm số hai biến $f(x_1, x_2) = x_1^2 + 3x_2^2 + 1$\n",
    "\n",
    "1. Chúng ta sẽ tìm được một điểm cực trị $x^* = (0, 0)$. Bạn hãy giải thích tại sao bằng toán học (*Gợi ý: Các bạn có thể dùng kiến thức môn Giải Tích đã học tại chương trình Đại học*).\n",
    "2. Viết chương trình máy tính sử dụng thuật toán Gradient Descent tìm giá trị gần đúng của $x^*$.\n",
    "3. Thay đổi nghiệm (điểm cực tiểu) ban đầu khi thực hiện thuật toán Gradient Descent và nhận xét.\n",
    "4. Bạn có thể chạy thuật toán Gradient Descent bằng tay cho $2$ vòng lặp được không?"
   ]
  },
  {
   "cell_type": "markdown",
   "metadata": {},
   "source": [
    "### Bài tập 3. Thuật toán Batch Gradient Descent\n",
    "1. Cài đặt thuật toán Batch Gradient Descent cho bài toán Linear Regression trên dữ liệu `data-demo.xls` bằng cách sử dụng chương trình Python tại trang `122` và in ra màn hình kết quả của `theta`.\n",
    "\n",
    "        eta = 0.1 # learning rate\n",
    "        n_iterations = 1000\n",
    "        m = 100\n",
    "        theta = np.random.randn(2,1) # random initialization\n",
    "        for iteration in range(n_iterations):\n",
    "            gradients = 2/m * X_b.T.dot(X_b.dot(theta) - y)\n",
    "            theta = theta - eta * gradients\n",
    "\n",
    "2. Bỏ hằng số $2$ trong biểu thức $(2/m)$, sau đó chạy chương trình đã đề cập ở `Bài tập 3.1.` và nhận xét.\n",
    "3. Bỏ số tham số $m$ trong biểu thức $(2/m)$, sau đó chạy chương trình đã đề cập ở `Bài tập 3.1.` và nhận xét.\n",
    "4. Thay đổi giá trị của `eta` (ký hiệu toán học $\\eta$: độ học), giá trị khởi tạo của `theta` có sự khác biệt so với ban đầu và nhận xét kết quả đạt được.\n",
    "5. Thay đổi điều kiện dừng bằng cách sử dụng điều kiện `gradient` < `epsilon`. (Gợi ý: Các bạn khởi tạo biến `epsilon` có giá trị thật nhỏ bằng dòng lệnh, ví dụ `epsilon = 1e-5` tương đương với epsilion = 0.00001)."
   ]
  },
  {
   "cell_type": "markdown",
   "metadata": {},
   "source": [
    "### Bài tập 4. Thuật toán Stochastic Gradient Descent\n",
    "1. Cài đặt thuật toán Stochastic Gradient Descent cho bài toán Linear Regression trên dữ liệu `data-demo.xls` bằng cách sử dụng chương trình Python tại trang `125` và in ra màn hình kết quả của `theta`.\n",
    "\n",
    "        n_epochs = 50\n",
    "        t0, t1 = 5, 50 # learning schedule hyperparameters\n",
    "        def learning_schedule(t):\n",
    "            return t0 / (t + t1)\n",
    "        theta = np.random.randn(2,1) # random initialization\n",
    "        for epoch in range(n_epochs):\n",
    "            for i in range(m):\n",
    "                random_index = np.random.randint(m)\n",
    "                xi = X_b[random_index:random_index+1]\n",
    "                yi = y[random_index:random_index+1]\n",
    "                gradients = 2 * xi.T.dot(xi.dot(theta) - yi)\n",
    "                eta = learning_schedule(epoch * m + i)\n",
    "                theta = theta - eta * gradients\n",
    "\n",
    "2. So sánh nhanh hai chương trình Python đã đề cập ở `Bài tập 3.1.` và `Bài tập 4.1.`.\n",
    "3. Vai trò của hàm `learning_schedule` trong chương trình Python đã đề cập ở `Bài tập 4.1.`. Nếu không sử dụng hàm này thì kết quả của bài tập sẽ như thế nào.\n",
    "4. Sử dùng lớp [SGDRegressor](https://scikit-learn.org/stable/modules/generated/sklearn.linear_model.SGDRegressor.html) để cài đặt thuật toán Stochastic Gradient Descent thay cho chương trình Python đã đề cập ở `Bài tập 4.1.`."
   ]
  },
  {
   "cell_type": "markdown",
   "metadata": {},
   "source": [
    "### Bài tập 5. Thuật toán Mini-Batch Gradient Descent\n",
    "1. Cài đặt thuật toán `Mini-Batch Gradient Descent` cho bài toán `Linear Regression` trên dữ liệu `data-demo.xls` bằng cách `chỉnh sửa` chương trình Python tại trang `125` và in ra màn hình kết quả của `theta`.\n",
    "\n",
    "        n_epochs = 50\n",
    "        t0, t1 = 5, 50 # learning schedule hyperparameters\n",
    "        def learning_schedule(t):\n",
    "            return t0 / (t + t1)\n",
    "        theta = np.random.randn(2,1) # random initialization\n",
    "        for epoch in range(n_epochs):\n",
    "            for i in range(m):\n",
    "                random_index = np.random.randint(m)\n",
    "                xi = X_b[random_index:random_index+1]\n",
    "                yi = y[random_index:random_index+1]\n",
    "                gradients = 2 * xi.T.dot(xi.dot(theta) - yi)\n",
    "                eta = learning_schedule(epoch * m + i)\n",
    "                theta = theta - eta * gradients\n",
    "\n",
    "2. Sử dùng lớp [SGDRegressor](https://scikit-learn.org/stable/modules/generated/sklearn.linear_model.SGDRegressor.html) để cài đặt thuật toán Stochastic Gradient Descent thay cho chương trình Python đã đề cập ở `Bài tập 5.1.`. *Gợi ý*: Khác với yêu cầu trong `Bài tập 4.4.`, các bạn sẽ chia bộ dữ liệu huấn luyện ban đầu thành các bộ dữ liệu nhỏ có kích cỡ gọi là `Mini-Batch Size`, ví dụ các bạn có thể sử dụng $4$ chẳng hạn. Cuối cùng, thay vì các bạn sử dụng phương thức [`fit`](https://scikit-learn.org/stable/modules/generated/sklearn.linear_model.SGDRegressor.html#sklearn.linear_model.SGDRegressor.fit) của [SGDRegressor](https://scikit-learn.org/stable/modules/generated/sklearn.linear_model.SGDRegressor.html) thì các bạn sẽ sử dụng phương thức [`partial_fit`](https://scikit-learn.org/stable/modules/generated/sklearn.linear_model.SGDRegressor.html#sklearn.linear_model.SGDRegressor.partial_fit) cho các bộ dữ liệu nhỏ thành phần."
   ]
  }
 ],
 "metadata": {
  "kernelspec": {
   "display_name": "Python 3",
   "language": "python",
   "name": "python3"
  },
  "language_info": {
   "codemirror_mode": {
    "name": "ipython",
    "version": 3
   },
   "file_extension": ".py",
   "mimetype": "text/x-python",
   "name": "python",
   "nbconvert_exporter": "python",
   "pygments_lexer": "ipython3",
   "version": "3.7.6"
  }
 },
 "nbformat": 4,
 "nbformat_minor": 4
}
