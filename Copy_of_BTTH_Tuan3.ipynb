{
  "nbformat": 4,
  "nbformat_minor": 0,
  "metadata": {
    "kernelspec": {
      "display_name": "Python 3",
      "language": "python",
      "name": "python3"
    },
    "language_info": {
      "codemirror_mode": {
        "name": "ipython",
        "version": 3
      },
      "file_extension": ".py",
      "mimetype": "text/x-python",
      "name": "python",
      "nbconvert_exporter": "python",
      "pygments_lexer": "ipython3",
      "version": "3.7.6"
    },
    "colab": {
      "name": "Copy of BTTH_Tuan3.ipynb",
      "provenance": [],
      "collapsed_sections": [],
      "toc_visible": true,
      "include_colab_link": true
    }
  },
  "cells": [
    {
      "cell_type": "markdown",
      "metadata": {
        "id": "view-in-github",
        "colab_type": "text"
      },
      "source": [
        "<a href=\"https://colab.research.google.com/github/dxv2k/Machine_Learning_CS114/blob/LAB02/Copy_of_BTTH_Tuan3.ipynb\" target=\"_parent\"><img src=\"https://colab.research.google.com/assets/colab-badge.svg\" alt=\"Open In Colab\"/></a>"
      ]
    },
    {
      "cell_type": "code",
      "metadata": {
        "id": "pFCsMVqsam7z",
        "colab_type": "code",
        "colab": {}
      },
      "source": [
        "import pandas as pd\n",
        "import numpy as np\n",
        "import statsmodels.api as sm\n",
        "from sklearn.metrics import mean_squared_error\n",
        "from sklearn.impute import SimpleImputer\n",
        "from sklearn.preprocessing import LabelEncoder"
      ],
      "execution_count": 0,
      "outputs": []
    },
    {
      "cell_type": "markdown",
      "metadata": {
        "id": "3xj4eU94am8J",
        "colab_type": "text"
      },
      "source": [
        "# Đọc dữ liệu và quan sát nhanh dữ liệu California Housing Prices đã được chia thành 3 tập Train, Dev, và Test\n",
        "* Lệnh ``pd.read_csv()`` tham khảo tại trang 47 trong sách Hands-on Machine Learning with Scikit-Learn, Keras, and TensorFlow\n",
        "* Lệnh ``df.head()`` tham khảo tại trang 47 trong sách Hands-on Machine Learning with Scikit-Learn, Keras, and TensorFlow\n",
        "* Lệnh ``df.info()`` tham khảo tại trang 47 trong sách Hands-on Machine Learning with Scikit-Learn, Keras, and TensorFlow"
      ]
    },
    {
      "cell_type": "code",
      "metadata": {
        "id": "ro0ov20oam8L",
        "colab_type": "code",
        "colab": {
          "base_uri": "https://localhost:8080/",
          "height": 510
        },
        "outputId": "88758a44-3a9a-4bc9-a460-0dba763111ad"
      },
      "source": [
        "# df_train = pd.read_csv('housing_train.csv') # Đọc dữ liệu tập Train (Tập dữ liệu việc huấn luyện mô hình)\n",
        "# df_dev = pd.read_csv('housing_dev.csv')     # Đọc dữ liệu tập Dev   (Tập dữ liệu dành cho việc phát triển/tinh chỉnh mô hình)\n",
        "# df_test = pd.read_csv('housing_test.csv')   # Đọc dữ liệu tập Test  (Tập dữ liệu dành cho việc kiểm tra mô hình)\n",
        "# Cách ở dưới đây được dùng để chạy trên Colab\n",
        "df_train = pd.read_csv('https://github.com/dxv2k/Machine_Learning_CS114/blob/LAB02/housing_train.csv')\n",
        "df_dev = pd.read_csv('https://github.com/dxv2k/Machine_Learning_CS114/blob/LAB02/housing_dev.csv')\n",
        "df_test = pd.read_csv('https://github.com/dxv2k/Machine_Learning_CS114/blob/LAB02/housing_test.csv')"
      ],
      "execution_count": 3,
      "outputs": [
        {
          "output_type": "error",
          "ename": "ParserError",
          "evalue": "ignored",
          "traceback": [
            "\u001b[0;31m---------------------------------------------------------------------------\u001b[0m",
            "\u001b[0;31mParserError\u001b[0m                               Traceback (most recent call last)",
            "\u001b[0;32m<ipython-input-3-1dcd55b503c2>\u001b[0m in \u001b[0;36m<module>\u001b[0;34m()\u001b[0m\n\u001b[0;32m----> 1\u001b[0;31m \u001b[0mdf_train\u001b[0m \u001b[0;34m=\u001b[0m \u001b[0mpd\u001b[0m\u001b[0;34m.\u001b[0m\u001b[0mread_csv\u001b[0m\u001b[0;34m(\u001b[0m\u001b[0;34m'https://github.com/dxv2k/Machine_Learning_CS114/blob/LAB02/housing_train.csv'\u001b[0m\u001b[0;34m)\u001b[0m\u001b[0;34m\u001b[0m\u001b[0;34m\u001b[0m\u001b[0m\n\u001b[0m\u001b[1;32m      2\u001b[0m \u001b[0mdf_dev\u001b[0m \u001b[0;34m=\u001b[0m \u001b[0mpd\u001b[0m\u001b[0;34m.\u001b[0m\u001b[0mread_csv\u001b[0m\u001b[0;34m(\u001b[0m\u001b[0;34m'https://github.com/dxv2k/Machine_Learning_CS114/blob/LAB02/housing_dev.csv'\u001b[0m\u001b[0;34m)\u001b[0m\u001b[0;34m\u001b[0m\u001b[0;34m\u001b[0m\u001b[0m\n\u001b[1;32m      3\u001b[0m \u001b[0mdf_test\u001b[0m \u001b[0;34m=\u001b[0m \u001b[0mpd\u001b[0m\u001b[0;34m.\u001b[0m\u001b[0mread_csv\u001b[0m\u001b[0;34m(\u001b[0m\u001b[0;34m'https://github.com/dxv2k/Machine_Learning_CS114/blob/LAB02/housing_test.csv'\u001b[0m\u001b[0;34m)\u001b[0m\u001b[0;34m\u001b[0m\u001b[0;34m\u001b[0m\u001b[0m\n",
            "\u001b[0;32m/usr/local/lib/python3.6/dist-packages/pandas/io/parsers.py\u001b[0m in \u001b[0;36mparser_f\u001b[0;34m(filepath_or_buffer, sep, delimiter, header, names, index_col, usecols, squeeze, prefix, mangle_dupe_cols, dtype, engine, converters, true_values, false_values, skipinitialspace, skiprows, skipfooter, nrows, na_values, keep_default_na, na_filter, verbose, skip_blank_lines, parse_dates, infer_datetime_format, keep_date_col, date_parser, dayfirst, cache_dates, iterator, chunksize, compression, thousands, decimal, lineterminator, quotechar, quoting, doublequote, escapechar, comment, encoding, dialect, error_bad_lines, warn_bad_lines, delim_whitespace, low_memory, memory_map, float_precision)\u001b[0m\n\u001b[1;32m    683\u001b[0m         )\n\u001b[1;32m    684\u001b[0m \u001b[0;34m\u001b[0m\u001b[0m\n\u001b[0;32m--> 685\u001b[0;31m         \u001b[0;32mreturn\u001b[0m \u001b[0m_read\u001b[0m\u001b[0;34m(\u001b[0m\u001b[0mfilepath_or_buffer\u001b[0m\u001b[0;34m,\u001b[0m \u001b[0mkwds\u001b[0m\u001b[0;34m)\u001b[0m\u001b[0;34m\u001b[0m\u001b[0;34m\u001b[0m\u001b[0m\n\u001b[0m\u001b[1;32m    686\u001b[0m \u001b[0;34m\u001b[0m\u001b[0m\n\u001b[1;32m    687\u001b[0m     \u001b[0mparser_f\u001b[0m\u001b[0;34m.\u001b[0m\u001b[0m__name__\u001b[0m \u001b[0;34m=\u001b[0m \u001b[0mname\u001b[0m\u001b[0;34m\u001b[0m\u001b[0;34m\u001b[0m\u001b[0m\n",
            "\u001b[0;32m/usr/local/lib/python3.6/dist-packages/pandas/io/parsers.py\u001b[0m in \u001b[0;36m_read\u001b[0;34m(filepath_or_buffer, kwds)\u001b[0m\n\u001b[1;32m    461\u001b[0m \u001b[0;34m\u001b[0m\u001b[0m\n\u001b[1;32m    462\u001b[0m     \u001b[0;32mtry\u001b[0m\u001b[0;34m:\u001b[0m\u001b[0;34m\u001b[0m\u001b[0;34m\u001b[0m\u001b[0m\n\u001b[0;32m--> 463\u001b[0;31m         \u001b[0mdata\u001b[0m \u001b[0;34m=\u001b[0m \u001b[0mparser\u001b[0m\u001b[0;34m.\u001b[0m\u001b[0mread\u001b[0m\u001b[0;34m(\u001b[0m\u001b[0mnrows\u001b[0m\u001b[0;34m)\u001b[0m\u001b[0;34m\u001b[0m\u001b[0;34m\u001b[0m\u001b[0m\n\u001b[0m\u001b[1;32m    464\u001b[0m     \u001b[0;32mfinally\u001b[0m\u001b[0;34m:\u001b[0m\u001b[0;34m\u001b[0m\u001b[0;34m\u001b[0m\u001b[0m\n\u001b[1;32m    465\u001b[0m         \u001b[0mparser\u001b[0m\u001b[0;34m.\u001b[0m\u001b[0mclose\u001b[0m\u001b[0;34m(\u001b[0m\u001b[0;34m)\u001b[0m\u001b[0;34m\u001b[0m\u001b[0;34m\u001b[0m\u001b[0m\n",
            "\u001b[0;32m/usr/local/lib/python3.6/dist-packages/pandas/io/parsers.py\u001b[0m in \u001b[0;36mread\u001b[0;34m(self, nrows)\u001b[0m\n\u001b[1;32m   1152\u001b[0m     \u001b[0;32mdef\u001b[0m \u001b[0mread\u001b[0m\u001b[0;34m(\u001b[0m\u001b[0mself\u001b[0m\u001b[0;34m,\u001b[0m \u001b[0mnrows\u001b[0m\u001b[0;34m=\u001b[0m\u001b[0;32mNone\u001b[0m\u001b[0;34m)\u001b[0m\u001b[0;34m:\u001b[0m\u001b[0;34m\u001b[0m\u001b[0;34m\u001b[0m\u001b[0m\n\u001b[1;32m   1153\u001b[0m         \u001b[0mnrows\u001b[0m \u001b[0;34m=\u001b[0m \u001b[0m_validate_integer\u001b[0m\u001b[0;34m(\u001b[0m\u001b[0;34m\"nrows\"\u001b[0m\u001b[0;34m,\u001b[0m \u001b[0mnrows\u001b[0m\u001b[0;34m)\u001b[0m\u001b[0;34m\u001b[0m\u001b[0;34m\u001b[0m\u001b[0m\n\u001b[0;32m-> 1154\u001b[0;31m         \u001b[0mret\u001b[0m \u001b[0;34m=\u001b[0m \u001b[0mself\u001b[0m\u001b[0;34m.\u001b[0m\u001b[0m_engine\u001b[0m\u001b[0;34m.\u001b[0m\u001b[0mread\u001b[0m\u001b[0;34m(\u001b[0m\u001b[0mnrows\u001b[0m\u001b[0;34m)\u001b[0m\u001b[0;34m\u001b[0m\u001b[0;34m\u001b[0m\u001b[0m\n\u001b[0m\u001b[1;32m   1155\u001b[0m \u001b[0;34m\u001b[0m\u001b[0m\n\u001b[1;32m   1156\u001b[0m         \u001b[0;31m# May alter columns / col_dict\u001b[0m\u001b[0;34m\u001b[0m\u001b[0;34m\u001b[0m\u001b[0;34m\u001b[0m\u001b[0m\n",
            "\u001b[0;32m/usr/local/lib/python3.6/dist-packages/pandas/io/parsers.py\u001b[0m in \u001b[0;36mread\u001b[0;34m(self, nrows)\u001b[0m\n\u001b[1;32m   2057\u001b[0m     \u001b[0;32mdef\u001b[0m \u001b[0mread\u001b[0m\u001b[0;34m(\u001b[0m\u001b[0mself\u001b[0m\u001b[0;34m,\u001b[0m \u001b[0mnrows\u001b[0m\u001b[0;34m=\u001b[0m\u001b[0;32mNone\u001b[0m\u001b[0;34m)\u001b[0m\u001b[0;34m:\u001b[0m\u001b[0;34m\u001b[0m\u001b[0;34m\u001b[0m\u001b[0m\n\u001b[1;32m   2058\u001b[0m         \u001b[0;32mtry\u001b[0m\u001b[0;34m:\u001b[0m\u001b[0;34m\u001b[0m\u001b[0;34m\u001b[0m\u001b[0m\n\u001b[0;32m-> 2059\u001b[0;31m             \u001b[0mdata\u001b[0m \u001b[0;34m=\u001b[0m \u001b[0mself\u001b[0m\u001b[0;34m.\u001b[0m\u001b[0m_reader\u001b[0m\u001b[0;34m.\u001b[0m\u001b[0mread\u001b[0m\u001b[0;34m(\u001b[0m\u001b[0mnrows\u001b[0m\u001b[0;34m)\u001b[0m\u001b[0;34m\u001b[0m\u001b[0;34m\u001b[0m\u001b[0m\n\u001b[0m\u001b[1;32m   2060\u001b[0m         \u001b[0;32mexcept\u001b[0m \u001b[0mStopIteration\u001b[0m\u001b[0;34m:\u001b[0m\u001b[0;34m\u001b[0m\u001b[0;34m\u001b[0m\u001b[0m\n\u001b[1;32m   2061\u001b[0m             \u001b[0;32mif\u001b[0m \u001b[0mself\u001b[0m\u001b[0;34m.\u001b[0m\u001b[0m_first_chunk\u001b[0m\u001b[0;34m:\u001b[0m\u001b[0;34m\u001b[0m\u001b[0;34m\u001b[0m\u001b[0m\n",
            "\u001b[0;32mpandas/_libs/parsers.pyx\u001b[0m in \u001b[0;36mpandas._libs.parsers.TextReader.read\u001b[0;34m()\u001b[0m\n",
            "\u001b[0;32mpandas/_libs/parsers.pyx\u001b[0m in \u001b[0;36mpandas._libs.parsers.TextReader._read_low_memory\u001b[0;34m()\u001b[0m\n",
            "\u001b[0;32mpandas/_libs/parsers.pyx\u001b[0m in \u001b[0;36mpandas._libs.parsers.TextReader._read_rows\u001b[0;34m()\u001b[0m\n",
            "\u001b[0;32mpandas/_libs/parsers.pyx\u001b[0m in \u001b[0;36mpandas._libs.parsers.TextReader._tokenize_rows\u001b[0;34m()\u001b[0m\n",
            "\u001b[0;32mpandas/_libs/parsers.pyx\u001b[0m in \u001b[0;36mpandas._libs.parsers.raise_parser_error\u001b[0;34m()\u001b[0m\n",
            "\u001b[0;31mParserError\u001b[0m: Error tokenizing data. C error: Expected 1 fields in line 49, saw 2\n"
          ]
        }
      ]
    },
    {
      "cell_type": "code",
      "metadata": {
        "id": "hVA5-SQQam8c",
        "colab_type": "code",
        "outputId": "2c1a22b6-f4fd-4630-97d8-85c700804c92",
        "colab": {}
      },
      "source": [
        "df_train.info() # Kiểm tra thông tin ban đầu dữ liệu (số dòng, số cột, kiểu dữ liệu của các cột)"
      ],
      "execution_count": 0,
      "outputs": [
        {
          "output_type": "stream",
          "text": [
            "<class 'pandas.core.frame.DataFrame'>\n",
            "RangeIndex: 14447 entries, 0 to 14446\n",
            "Data columns (total 10 columns):\n",
            " #   Column              Non-Null Count  Dtype  \n",
            "---  ------              --------------  -----  \n",
            " 0   longitude           14447 non-null  float64\n",
            " 1   latitude            14447 non-null  float64\n",
            " 2   housing_median_age  14447 non-null  float64\n",
            " 3   total_rooms         14447 non-null  float64\n",
            " 4   total_bedrooms      14287 non-null  float64\n",
            " 5   population          14447 non-null  float64\n",
            " 6   households          14447 non-null  float64\n",
            " 7   median_income       14447 non-null  float64\n",
            " 8   median_house_value  14447 non-null  float64\n",
            " 9   ocean_proximity     14447 non-null  object \n",
            "dtypes: float64(9), object(1)\n",
            "memory usage: 1.1+ MB\n"
          ],
          "name": "stdout"
        }
      ]
    },
    {
      "cell_type": "code",
      "metadata": {
        "id": "WTAh0beCam83",
        "colab_type": "code",
        "outputId": "ef9d70ea-54e2-4787-9ffd-cf88b5b492f8",
        "colab": {}
      },
      "source": [
        "df_train.head() # Quan sát nhanh 5 dòng dữ liệu đầu tiên"
      ],
      "execution_count": 0,
      "outputs": [
        {
          "output_type": "execute_result",
          "data": {
            "text/html": [
              "<div>\n",
              "<style scoped>\n",
              "    .dataframe tbody tr th:only-of-type {\n",
              "        vertical-align: middle;\n",
              "    }\n",
              "\n",
              "    .dataframe tbody tr th {\n",
              "        vertical-align: top;\n",
              "    }\n",
              "\n",
              "    .dataframe thead th {\n",
              "        text-align: right;\n",
              "    }\n",
              "</style>\n",
              "<table border=\"1\" class=\"dataframe\">\n",
              "  <thead>\n",
              "    <tr style=\"text-align: right;\">\n",
              "      <th></th>\n",
              "      <th>longitude</th>\n",
              "      <th>latitude</th>\n",
              "      <th>housing_median_age</th>\n",
              "      <th>total_rooms</th>\n",
              "      <th>total_bedrooms</th>\n",
              "      <th>population</th>\n",
              "      <th>households</th>\n",
              "      <th>median_income</th>\n",
              "      <th>median_house_value</th>\n",
              "      <th>ocean_proximity</th>\n",
              "    </tr>\n",
              "  </thead>\n",
              "  <tbody>\n",
              "    <tr>\n",
              "      <th>0</th>\n",
              "      <td>-117.83</td>\n",
              "      <td>34.15</td>\n",
              "      <td>20.0</td>\n",
              "      <td>2421.0</td>\n",
              "      <td>306.0</td>\n",
              "      <td>1023.0</td>\n",
              "      <td>298.0</td>\n",
              "      <td>8.0683</td>\n",
              "      <td>451500.0</td>\n",
              "      <td>INLAND</td>\n",
              "    </tr>\n",
              "    <tr>\n",
              "      <th>1</th>\n",
              "      <td>-119.85</td>\n",
              "      <td>36.77</td>\n",
              "      <td>27.0</td>\n",
              "      <td>1510.0</td>\n",
              "      <td>344.0</td>\n",
              "      <td>847.0</td>\n",
              "      <td>295.0</td>\n",
              "      <td>2.9315</td>\n",
              "      <td>83200.0</td>\n",
              "      <td>INLAND</td>\n",
              "    </tr>\n",
              "    <tr>\n",
              "      <th>2</th>\n",
              "      <td>-122.13</td>\n",
              "      <td>37.67</td>\n",
              "      <td>40.0</td>\n",
              "      <td>1748.0</td>\n",
              "      <td>318.0</td>\n",
              "      <td>914.0</td>\n",
              "      <td>317.0</td>\n",
              "      <td>3.8676</td>\n",
              "      <td>184000.0</td>\n",
              "      <td>NEAR BAY</td>\n",
              "    </tr>\n",
              "    <tr>\n",
              "      <th>3</th>\n",
              "      <td>-119.81</td>\n",
              "      <td>34.46</td>\n",
              "      <td>22.0</td>\n",
              "      <td>3488.0</td>\n",
              "      <td>452.0</td>\n",
              "      <td>1479.0</td>\n",
              "      <td>458.0</td>\n",
              "      <td>7.1687</td>\n",
              "      <td>384400.0</td>\n",
              "      <td>NEAR OCEAN</td>\n",
              "    </tr>\n",
              "    <tr>\n",
              "      <th>4</th>\n",
              "      <td>-120.47</td>\n",
              "      <td>34.65</td>\n",
              "      <td>32.0</td>\n",
              "      <td>2193.0</td>\n",
              "      <td>430.0</td>\n",
              "      <td>1074.0</td>\n",
              "      <td>377.0</td>\n",
              "      <td>2.3333</td>\n",
              "      <td>130200.0</td>\n",
              "      <td>NEAR OCEAN</td>\n",
              "    </tr>\n",
              "  </tbody>\n",
              "</table>\n",
              "</div>"
            ],
            "text/plain": [
              "   longitude  latitude  housing_median_age  total_rooms  total_bedrooms  \\\n",
              "0    -117.83     34.15                20.0       2421.0           306.0   \n",
              "1    -119.85     36.77                27.0       1510.0           344.0   \n",
              "2    -122.13     37.67                40.0       1748.0           318.0   \n",
              "3    -119.81     34.46                22.0       3488.0           452.0   \n",
              "4    -120.47     34.65                32.0       2193.0           430.0   \n",
              "\n",
              "   population  households  median_income  median_house_value ocean_proximity  \n",
              "0      1023.0       298.0         8.0683            451500.0          INLAND  \n",
              "1       847.0       295.0         2.9315             83200.0          INLAND  \n",
              "2       914.0       317.0         3.8676            184000.0        NEAR BAY  \n",
              "3      1479.0       458.0         7.1687            384400.0      NEAR OCEAN  \n",
              "4      1074.0       377.0         2.3333            130200.0      NEAR OCEAN  "
            ]
          },
          "metadata": {
            "tags": []
          },
          "execution_count": 4
        }
      ]
    },
    {
      "cell_type": "code",
      "metadata": {
        "id": "TTnw5Vzpam9K",
        "colab_type": "code",
        "outputId": "4af7d98d-ef86-468c-f282-96d9f36031d9",
        "colab": {}
      },
      "source": [
        "df_dev.info() # Kiểm tra thông tin ban đầu dữ liệu (số dòng, số cột, kiểu dữ liệu của các cột)"
      ],
      "execution_count": 0,
      "outputs": [
        {
          "output_type": "stream",
          "text": [
            "<class 'pandas.core.frame.DataFrame'>\n",
            "RangeIndex: 2065 entries, 0 to 2064\n",
            "Data columns (total 10 columns):\n",
            " #   Column              Non-Null Count  Dtype  \n",
            "---  ------              --------------  -----  \n",
            " 0   longitude           2065 non-null   float64\n",
            " 1   latitude            2065 non-null   float64\n",
            " 2   housing_median_age  2065 non-null   float64\n",
            " 3   total_rooms         2065 non-null   float64\n",
            " 4   total_bedrooms      2048 non-null   float64\n",
            " 5   population          2065 non-null   float64\n",
            " 6   households          2065 non-null   float64\n",
            " 7   median_income       2065 non-null   float64\n",
            " 8   median_house_value  2065 non-null   float64\n",
            " 9   ocean_proximity     2065 non-null   object \n",
            "dtypes: float64(9), object(1)\n",
            "memory usage: 161.5+ KB\n"
          ],
          "name": "stdout"
        }
      ]
    },
    {
      "cell_type": "code",
      "metadata": {
        "id": "xbI8HxvAam9l",
        "colab_type": "code",
        "outputId": "01d1d759-5e5d-4a69-a778-ebaa53a4dd88",
        "colab": {}
      },
      "source": [
        "df_dev.head() # Quan sát nhanh 5 dòng dữ liệu đầu tiên"
      ],
      "execution_count": 0,
      "outputs": [
        {
          "output_type": "execute_result",
          "data": {
            "text/html": [
              "<div>\n",
              "<style scoped>\n",
              "    .dataframe tbody tr th:only-of-type {\n",
              "        vertical-align: middle;\n",
              "    }\n",
              "\n",
              "    .dataframe tbody tr th {\n",
              "        vertical-align: top;\n",
              "    }\n",
              "\n",
              "    .dataframe thead th {\n",
              "        text-align: right;\n",
              "    }\n",
              "</style>\n",
              "<table border=\"1\" class=\"dataframe\">\n",
              "  <thead>\n",
              "    <tr style=\"text-align: right;\">\n",
              "      <th></th>\n",
              "      <th>longitude</th>\n",
              "      <th>latitude</th>\n",
              "      <th>housing_median_age</th>\n",
              "      <th>total_rooms</th>\n",
              "      <th>total_bedrooms</th>\n",
              "      <th>population</th>\n",
              "      <th>households</th>\n",
              "      <th>median_income</th>\n",
              "      <th>median_house_value</th>\n",
              "      <th>ocean_proximity</th>\n",
              "    </tr>\n",
              "  </thead>\n",
              "  <tbody>\n",
              "    <tr>\n",
              "      <th>0</th>\n",
              "      <td>-118.36</td>\n",
              "      <td>33.92</td>\n",
              "      <td>26.0</td>\n",
              "      <td>3695.0</td>\n",
              "      <td>1144.0</td>\n",
              "      <td>2308.0</td>\n",
              "      <td>1009.0</td>\n",
              "      <td>2.6667</td>\n",
              "      <td>229300.0</td>\n",
              "      <td>&lt;1H OCEAN</td>\n",
              "    </tr>\n",
              "    <tr>\n",
              "      <th>1</th>\n",
              "      <td>-118.41</td>\n",
              "      <td>34.19</td>\n",
              "      <td>45.0</td>\n",
              "      <td>1106.0</td>\n",
              "      <td>225.0</td>\n",
              "      <td>595.0</td>\n",
              "      <td>228.0</td>\n",
              "      <td>3.6625</td>\n",
              "      <td>190700.0</td>\n",
              "      <td>&lt;1H OCEAN</td>\n",
              "    </tr>\n",
              "    <tr>\n",
              "      <th>2</th>\n",
              "      <td>-122.48</td>\n",
              "      <td>37.73</td>\n",
              "      <td>38.0</td>\n",
              "      <td>3195.0</td>\n",
              "      <td>828.0</td>\n",
              "      <td>2410.0</td>\n",
              "      <td>778.0</td>\n",
              "      <td>3.1359</td>\n",
              "      <td>350000.0</td>\n",
              "      <td>NEAR OCEAN</td>\n",
              "    </tr>\n",
              "    <tr>\n",
              "      <th>3</th>\n",
              "      <td>-117.18</td>\n",
              "      <td>32.76</td>\n",
              "      <td>8.0</td>\n",
              "      <td>3694.0</td>\n",
              "      <td>997.0</td>\n",
              "      <td>1297.0</td>\n",
              "      <td>807.0</td>\n",
              "      <td>3.6492</td>\n",
              "      <td>158900.0</td>\n",
              "      <td>NEAR OCEAN</td>\n",
              "    </tr>\n",
              "    <tr>\n",
              "      <th>4</th>\n",
              "      <td>-117.15</td>\n",
              "      <td>33.14</td>\n",
              "      <td>15.0</td>\n",
              "      <td>1070.0</td>\n",
              "      <td>208.0</td>\n",
              "      <td>470.0</td>\n",
              "      <td>217.0</td>\n",
              "      <td>2.3062</td>\n",
              "      <td>158900.0</td>\n",
              "      <td>&lt;1H OCEAN</td>\n",
              "    </tr>\n",
              "  </tbody>\n",
              "</table>\n",
              "</div>"
            ],
            "text/plain": [
              "   longitude  latitude  housing_median_age  total_rooms  total_bedrooms  \\\n",
              "0    -118.36     33.92                26.0       3695.0          1144.0   \n",
              "1    -118.41     34.19                45.0       1106.0           225.0   \n",
              "2    -122.48     37.73                38.0       3195.0           828.0   \n",
              "3    -117.18     32.76                 8.0       3694.0           997.0   \n",
              "4    -117.15     33.14                15.0       1070.0           208.0   \n",
              "\n",
              "   population  households  median_income  median_house_value ocean_proximity  \n",
              "0      2308.0      1009.0         2.6667            229300.0       <1H OCEAN  \n",
              "1       595.0       228.0         3.6625            190700.0       <1H OCEAN  \n",
              "2      2410.0       778.0         3.1359            350000.0      NEAR OCEAN  \n",
              "3      1297.0       807.0         3.6492            158900.0      NEAR OCEAN  \n",
              "4       470.0       217.0         2.3062            158900.0       <1H OCEAN  "
            ]
          },
          "metadata": {
            "tags": []
          },
          "execution_count": 6
        }
      ]
    },
    {
      "cell_type": "code",
      "metadata": {
        "id": "_XD-InX8am98",
        "colab_type": "code",
        "outputId": "7fd18364-09d0-49bc-ca01-31c568c91e1d",
        "colab": {}
      },
      "source": [
        "df_test.info() # Kiểm tra thông tin ban đầu dữ liệu (số dòng, số cột, kiểu dữ liệu của các cột)"
      ],
      "execution_count": 0,
      "outputs": [
        {
          "output_type": "stream",
          "text": [
            "<class 'pandas.core.frame.DataFrame'>\n",
            "RangeIndex: 4128 entries, 0 to 4127\n",
            "Data columns (total 10 columns):\n",
            " #   Column              Non-Null Count  Dtype  \n",
            "---  ------              --------------  -----  \n",
            " 0   longitude           4128 non-null   float64\n",
            " 1   latitude            4128 non-null   float64\n",
            " 2   housing_median_age  4128 non-null   float64\n",
            " 3   total_rooms         4128 non-null   float64\n",
            " 4   total_bedrooms      4098 non-null   float64\n",
            " 5   population          4128 non-null   float64\n",
            " 6   households          4128 non-null   float64\n",
            " 7   median_income       4128 non-null   float64\n",
            " 8   median_house_value  4128 non-null   float64\n",
            " 9   ocean_proximity     4128 non-null   object \n",
            "dtypes: float64(9), object(1)\n",
            "memory usage: 322.6+ KB\n"
          ],
          "name": "stdout"
        }
      ]
    },
    {
      "cell_type": "code",
      "metadata": {
        "id": "C2q-pVWjam-Q",
        "colab_type": "code",
        "outputId": "c1b22335-4ff2-443d-d64b-e0550da69adf",
        "colab": {}
      },
      "source": [
        "df_test.head() # Quan sát nhanh 5 dòng dữ liệu đầu tiên"
      ],
      "execution_count": 0,
      "outputs": [
        {
          "output_type": "execute_result",
          "data": {
            "text/html": [
              "<div>\n",
              "<style scoped>\n",
              "    .dataframe tbody tr th:only-of-type {\n",
              "        vertical-align: middle;\n",
              "    }\n",
              "\n",
              "    .dataframe tbody tr th {\n",
              "        vertical-align: top;\n",
              "    }\n",
              "\n",
              "    .dataframe thead th {\n",
              "        text-align: right;\n",
              "    }\n",
              "</style>\n",
              "<table border=\"1\" class=\"dataframe\">\n",
              "  <thead>\n",
              "    <tr style=\"text-align: right;\">\n",
              "      <th></th>\n",
              "      <th>longitude</th>\n",
              "      <th>latitude</th>\n",
              "      <th>housing_median_age</th>\n",
              "      <th>total_rooms</th>\n",
              "      <th>total_bedrooms</th>\n",
              "      <th>population</th>\n",
              "      <th>households</th>\n",
              "      <th>median_income</th>\n",
              "      <th>median_house_value</th>\n",
              "      <th>ocean_proximity</th>\n",
              "    </tr>\n",
              "  </thead>\n",
              "  <tbody>\n",
              "    <tr>\n",
              "      <th>0</th>\n",
              "      <td>-122.41</td>\n",
              "      <td>37.65</td>\n",
              "      <td>32.0</td>\n",
              "      <td>3436.0</td>\n",
              "      <td>868.0</td>\n",
              "      <td>2583.0</td>\n",
              "      <td>817.0</td>\n",
              "      <td>3.5039</td>\n",
              "      <td>232400.0</td>\n",
              "      <td>NEAR OCEAN</td>\n",
              "    </tr>\n",
              "    <tr>\n",
              "      <th>1</th>\n",
              "      <td>-117.91</td>\n",
              "      <td>33.84</td>\n",
              "      <td>25.0</td>\n",
              "      <td>1021.0</td>\n",
              "      <td>252.0</td>\n",
              "      <td>975.0</td>\n",
              "      <td>258.0</td>\n",
              "      <td>3.1250</td>\n",
              "      <td>168100.0</td>\n",
              "      <td>&lt;1H OCEAN</td>\n",
              "    </tr>\n",
              "    <tr>\n",
              "      <th>2</th>\n",
              "      <td>-118.35</td>\n",
              "      <td>34.08</td>\n",
              "      <td>52.0</td>\n",
              "      <td>1801.0</td>\n",
              "      <td>313.0</td>\n",
              "      <td>714.0</td>\n",
              "      <td>293.0</td>\n",
              "      <td>4.6838</td>\n",
              "      <td>479000.0</td>\n",
              "      <td>&lt;1H OCEAN</td>\n",
              "    </tr>\n",
              "    <tr>\n",
              "      <th>3</th>\n",
              "      <td>-121.02</td>\n",
              "      <td>37.61</td>\n",
              "      <td>33.0</td>\n",
              "      <td>1469.0</td>\n",
              "      <td>370.0</td>\n",
              "      <td>1318.0</td>\n",
              "      <td>349.0</td>\n",
              "      <td>1.7104</td>\n",
              "      <td>59000.0</td>\n",
              "      <td>INLAND</td>\n",
              "    </tr>\n",
              "    <tr>\n",
              "      <th>4</th>\n",
              "      <td>-117.65</td>\n",
              "      <td>34.10</td>\n",
              "      <td>30.0</td>\n",
              "      <td>1461.0</td>\n",
              "      <td>341.0</td>\n",
              "      <td>1014.0</td>\n",
              "      <td>345.0</td>\n",
              "      <td>2.4667</td>\n",
              "      <td>106000.0</td>\n",
              "      <td>INLAND</td>\n",
              "    </tr>\n",
              "  </tbody>\n",
              "</table>\n",
              "</div>"
            ],
            "text/plain": [
              "   longitude  latitude  housing_median_age  total_rooms  total_bedrooms  \\\n",
              "0    -122.41     37.65                32.0       3436.0           868.0   \n",
              "1    -117.91     33.84                25.0       1021.0           252.0   \n",
              "2    -118.35     34.08                52.0       1801.0           313.0   \n",
              "3    -121.02     37.61                33.0       1469.0           370.0   \n",
              "4    -117.65     34.10                30.0       1461.0           341.0   \n",
              "\n",
              "   population  households  median_income  median_house_value ocean_proximity  \n",
              "0      2583.0       817.0         3.5039            232400.0      NEAR OCEAN  \n",
              "1       975.0       258.0         3.1250            168100.0       <1H OCEAN  \n",
              "2       714.0       293.0         4.6838            479000.0       <1H OCEAN  \n",
              "3      1318.0       349.0         1.7104             59000.0          INLAND  \n",
              "4      1014.0       345.0         2.4667            106000.0          INLAND  "
            ]
          },
          "metadata": {
            "tags": []
          },
          "execution_count": 8
        }
      ]
    },
    {
      "cell_type": "markdown",
      "metadata": {
        "id": "M8FD9S_iam-g",
        "colab_type": "text"
      },
      "source": [
        "# Tách thuộc tính \"median_house_value\" để làm thuộc tính cần dự đoán  cho bài toán hồi quy tuyến tính (Y), các thuộc tính còn lại là dữ kiện (X).\n",
        "* Lệnh ``df.drop()`` tham khảo tại trang sách số 63 sách tham khảo Hands-on Machine Learning with Scikit-Learn, Keras, and TensorFlow"
      ]
    },
    {
      "cell_type": "code",
      "metadata": {
        "id": "OQk2srnGam-i",
        "colab_type": "code",
        "colab": {}
      },
      "source": [
        "train_X = df_train.drop(\"median_house_value\", axis=1)\n",
        "train_Y = df_train[\"median_house_value\"].copy()\n",
        "del df_train\n",
        "\n",
        "dev_X = df_dev.drop(\"median_house_value\", axis=1)\n",
        "dev_Y = df_dev[\"median_house_value\"].copy()\n",
        "del df_dev\n",
        "\n",
        "test_X = df_test.drop(\"median_house_value\", axis=1)\n",
        "test_Y = df_test[\"median_house_value\"].copy()\n",
        "del df_test"
      ],
      "execution_count": 0,
      "outputs": []
    },
    {
      "cell_type": "markdown",
      "metadata": {
        "id": "hskpKk5Iam-y",
        "colab_type": "text"
      },
      "source": [
        "# Kiểm tra các thuộc tính bị khuyết giá trị trong tập Train\n",
        "* Chúng ta có thể cả các lệnh ``df.isnull()`` hoặc ``df.isna()`` để chỉ giá trị bị khuyết (``True``) / không bị khuyết (``False``)\n",
        "* Chúng ta dùng tiếp lệnh ``arr.any(axis=1)`` để trả về các dòng chỉ chứa một cột có giá trị ``True``/``False`` nếu các cột chỉ cần tồn tại một thuộc tính ``True``\n",
        "* Chúng ta tính tổng các dòng kết quả trên bằng lệnh ``arr.sum(axis=0)`` sẽ biết được số trường hợp bị khuyết của mỗi thuộc tính"
      ]
    },
    {
      "cell_type": "code",
      "metadata": {
        "id": "y-9qyI3Nam-0",
        "colab_type": "code",
        "outputId": "1df66abe-cf0a-4c62-c0ee-50c4d225bf3d",
        "colab": {}
      },
      "source": [
        "train_X.isnull()"
      ],
      "execution_count": 0,
      "outputs": [
        {
          "output_type": "execute_result",
          "data": {
            "text/html": [
              "<div>\n",
              "<style scoped>\n",
              "    .dataframe tbody tr th:only-of-type {\n",
              "        vertical-align: middle;\n",
              "    }\n",
              "\n",
              "    .dataframe tbody tr th {\n",
              "        vertical-align: top;\n",
              "    }\n",
              "\n",
              "    .dataframe thead th {\n",
              "        text-align: right;\n",
              "    }\n",
              "</style>\n",
              "<table border=\"1\" class=\"dataframe\">\n",
              "  <thead>\n",
              "    <tr style=\"text-align: right;\">\n",
              "      <th></th>\n",
              "      <th>longitude</th>\n",
              "      <th>latitude</th>\n",
              "      <th>housing_median_age</th>\n",
              "      <th>total_rooms</th>\n",
              "      <th>total_bedrooms</th>\n",
              "      <th>population</th>\n",
              "      <th>households</th>\n",
              "      <th>median_income</th>\n",
              "      <th>ocean_proximity</th>\n",
              "    </tr>\n",
              "  </thead>\n",
              "  <tbody>\n",
              "    <tr>\n",
              "      <th>0</th>\n",
              "      <td>False</td>\n",
              "      <td>False</td>\n",
              "      <td>False</td>\n",
              "      <td>False</td>\n",
              "      <td>False</td>\n",
              "      <td>False</td>\n",
              "      <td>False</td>\n",
              "      <td>False</td>\n",
              "      <td>False</td>\n",
              "    </tr>\n",
              "    <tr>\n",
              "      <th>1</th>\n",
              "      <td>False</td>\n",
              "      <td>False</td>\n",
              "      <td>False</td>\n",
              "      <td>False</td>\n",
              "      <td>False</td>\n",
              "      <td>False</td>\n",
              "      <td>False</td>\n",
              "      <td>False</td>\n",
              "      <td>False</td>\n",
              "    </tr>\n",
              "    <tr>\n",
              "      <th>2</th>\n",
              "      <td>False</td>\n",
              "      <td>False</td>\n",
              "      <td>False</td>\n",
              "      <td>False</td>\n",
              "      <td>False</td>\n",
              "      <td>False</td>\n",
              "      <td>False</td>\n",
              "      <td>False</td>\n",
              "      <td>False</td>\n",
              "    </tr>\n",
              "    <tr>\n",
              "      <th>3</th>\n",
              "      <td>False</td>\n",
              "      <td>False</td>\n",
              "      <td>False</td>\n",
              "      <td>False</td>\n",
              "      <td>False</td>\n",
              "      <td>False</td>\n",
              "      <td>False</td>\n",
              "      <td>False</td>\n",
              "      <td>False</td>\n",
              "    </tr>\n",
              "    <tr>\n",
              "      <th>4</th>\n",
              "      <td>False</td>\n",
              "      <td>False</td>\n",
              "      <td>False</td>\n",
              "      <td>False</td>\n",
              "      <td>False</td>\n",
              "      <td>False</td>\n",
              "      <td>False</td>\n",
              "      <td>False</td>\n",
              "      <td>False</td>\n",
              "    </tr>\n",
              "    <tr>\n",
              "      <th>...</th>\n",
              "      <td>...</td>\n",
              "      <td>...</td>\n",
              "      <td>...</td>\n",
              "      <td>...</td>\n",
              "      <td>...</td>\n",
              "      <td>...</td>\n",
              "      <td>...</td>\n",
              "      <td>...</td>\n",
              "      <td>...</td>\n",
              "    </tr>\n",
              "    <tr>\n",
              "      <th>14442</th>\n",
              "      <td>False</td>\n",
              "      <td>False</td>\n",
              "      <td>False</td>\n",
              "      <td>False</td>\n",
              "      <td>False</td>\n",
              "      <td>False</td>\n",
              "      <td>False</td>\n",
              "      <td>False</td>\n",
              "      <td>False</td>\n",
              "    </tr>\n",
              "    <tr>\n",
              "      <th>14443</th>\n",
              "      <td>False</td>\n",
              "      <td>False</td>\n",
              "      <td>False</td>\n",
              "      <td>False</td>\n",
              "      <td>False</td>\n",
              "      <td>False</td>\n",
              "      <td>False</td>\n",
              "      <td>False</td>\n",
              "      <td>False</td>\n",
              "    </tr>\n",
              "    <tr>\n",
              "      <th>14444</th>\n",
              "      <td>False</td>\n",
              "      <td>False</td>\n",
              "      <td>False</td>\n",
              "      <td>False</td>\n",
              "      <td>False</td>\n",
              "      <td>False</td>\n",
              "      <td>False</td>\n",
              "      <td>False</td>\n",
              "      <td>False</td>\n",
              "    </tr>\n",
              "    <tr>\n",
              "      <th>14445</th>\n",
              "      <td>False</td>\n",
              "      <td>False</td>\n",
              "      <td>False</td>\n",
              "      <td>False</td>\n",
              "      <td>False</td>\n",
              "      <td>False</td>\n",
              "      <td>False</td>\n",
              "      <td>False</td>\n",
              "      <td>False</td>\n",
              "    </tr>\n",
              "    <tr>\n",
              "      <th>14446</th>\n",
              "      <td>False</td>\n",
              "      <td>False</td>\n",
              "      <td>False</td>\n",
              "      <td>False</td>\n",
              "      <td>False</td>\n",
              "      <td>False</td>\n",
              "      <td>False</td>\n",
              "      <td>False</td>\n",
              "      <td>False</td>\n",
              "    </tr>\n",
              "  </tbody>\n",
              "</table>\n",
              "<p>14447 rows × 9 columns</p>\n",
              "</div>"
            ],
            "text/plain": [
              "       longitude  latitude  housing_median_age  total_rooms  total_bedrooms  \\\n",
              "0          False     False               False        False           False   \n",
              "1          False     False               False        False           False   \n",
              "2          False     False               False        False           False   \n",
              "3          False     False               False        False           False   \n",
              "4          False     False               False        False           False   \n",
              "...          ...       ...                 ...          ...             ...   \n",
              "14442      False     False               False        False           False   \n",
              "14443      False     False               False        False           False   \n",
              "14444      False     False               False        False           False   \n",
              "14445      False     False               False        False           False   \n",
              "14446      False     False               False        False           False   \n",
              "\n",
              "       population  households  median_income  ocean_proximity  \n",
              "0           False       False          False            False  \n",
              "1           False       False          False            False  \n",
              "2           False       False          False            False  \n",
              "3           False       False          False            False  \n",
              "4           False       False          False            False  \n",
              "...           ...         ...            ...              ...  \n",
              "14442       False       False          False            False  \n",
              "14443       False       False          False            False  \n",
              "14444       False       False          False            False  \n",
              "14445       False       False          False            False  \n",
              "14446       False       False          False            False  \n",
              "\n",
              "[14447 rows x 9 columns]"
            ]
          },
          "metadata": {
            "tags": []
          },
          "execution_count": 10
        }
      ]
    },
    {
      "cell_type": "code",
      "metadata": {
        "id": "XdMcYQjOam_N",
        "colab_type": "code",
        "outputId": "a9ff9689-3686-499a-9dae-b3555799efad",
        "colab": {}
      },
      "source": [
        "train_X.isnull().any(axis=1)\n",
        "# train_X.isna().any(axis=1)"
      ],
      "execution_count": 0,
      "outputs": [
        {
          "output_type": "execute_result",
          "data": {
            "text/plain": [
              "0        False\n",
              "1        False\n",
              "2        False\n",
              "3        False\n",
              "4        False\n",
              "         ...  \n",
              "14442    False\n",
              "14443    False\n",
              "14444    False\n",
              "14445    False\n",
              "14446    False\n",
              "Length: 14447, dtype: bool"
            ]
          },
          "metadata": {
            "tags": []
          },
          "execution_count": 11
        }
      ]
    },
    {
      "cell_type": "code",
      "metadata": {
        "id": "zNWKkT6iam_h",
        "colab_type": "code",
        "outputId": "d2bd4bc6-ab47-48f7-b584-d260f6a3308c",
        "colab": {}
      },
      "source": [
        "train_X[train_X.isnull().any(axis=1)]\n",
        "# train_X[train_X.isna().any(axis=1)]"
      ],
      "execution_count": 0,
      "outputs": [
        {
          "output_type": "execute_result",
          "data": {
            "text/html": [
              "<div>\n",
              "<style scoped>\n",
              "    .dataframe tbody tr th:only-of-type {\n",
              "        vertical-align: middle;\n",
              "    }\n",
              "\n",
              "    .dataframe tbody tr th {\n",
              "        vertical-align: top;\n",
              "    }\n",
              "\n",
              "    .dataframe thead th {\n",
              "        text-align: right;\n",
              "    }\n",
              "</style>\n",
              "<table border=\"1\" class=\"dataframe\">\n",
              "  <thead>\n",
              "    <tr style=\"text-align: right;\">\n",
              "      <th></th>\n",
              "      <th>longitude</th>\n",
              "      <th>latitude</th>\n",
              "      <th>housing_median_age</th>\n",
              "      <th>total_rooms</th>\n",
              "      <th>total_bedrooms</th>\n",
              "      <th>population</th>\n",
              "      <th>households</th>\n",
              "      <th>median_income</th>\n",
              "      <th>ocean_proximity</th>\n",
              "    </tr>\n",
              "  </thead>\n",
              "  <tbody>\n",
              "    <tr>\n",
              "      <th>41</th>\n",
              "      <td>-124.00</td>\n",
              "      <td>40.92</td>\n",
              "      <td>29.0</td>\n",
              "      <td>1429.0</td>\n",
              "      <td>NaN</td>\n",
              "      <td>672.0</td>\n",
              "      <td>266.0</td>\n",
              "      <td>2.9485</td>\n",
              "      <td>&lt;1H OCEAN</td>\n",
              "    </tr>\n",
              "    <tr>\n",
              "      <th>204</th>\n",
              "      <td>-120.97</td>\n",
              "      <td>37.43</td>\n",
              "      <td>27.0</td>\n",
              "      <td>1380.0</td>\n",
              "      <td>NaN</td>\n",
              "      <td>810.0</td>\n",
              "      <td>262.0</td>\n",
              "      <td>2.1875</td>\n",
              "      <td>INLAND</td>\n",
              "    </tr>\n",
              "    <tr>\n",
              "      <th>403</th>\n",
              "      <td>-118.27</td>\n",
              "      <td>34.07</td>\n",
              "      <td>27.0</td>\n",
              "      <td>1190.0</td>\n",
              "      <td>NaN</td>\n",
              "      <td>1795.0</td>\n",
              "      <td>422.0</td>\n",
              "      <td>1.7016</td>\n",
              "      <td>&lt;1H OCEAN</td>\n",
              "    </tr>\n",
              "    <tr>\n",
              "      <th>413</th>\n",
              "      <td>-119.45</td>\n",
              "      <td>36.61</td>\n",
              "      <td>24.0</td>\n",
              "      <td>1302.0</td>\n",
              "      <td>NaN</td>\n",
              "      <td>693.0</td>\n",
              "      <td>243.0</td>\n",
              "      <td>3.7917</td>\n",
              "      <td>INLAND</td>\n",
              "    </tr>\n",
              "    <tr>\n",
              "      <th>586</th>\n",
              "      <td>-121.30</td>\n",
              "      <td>38.58</td>\n",
              "      <td>16.0</td>\n",
              "      <td>1537.0</td>\n",
              "      <td>NaN</td>\n",
              "      <td>1125.0</td>\n",
              "      <td>375.0</td>\n",
              "      <td>2.6471</td>\n",
              "      <td>INLAND</td>\n",
              "    </tr>\n",
              "    <tr>\n",
              "      <th>...</th>\n",
              "      <td>...</td>\n",
              "      <td>...</td>\n",
              "      <td>...</td>\n",
              "      <td>...</td>\n",
              "      <td>...</td>\n",
              "      <td>...</td>\n",
              "      <td>...</td>\n",
              "      <td>...</td>\n",
              "      <td>...</td>\n",
              "    </tr>\n",
              "    <tr>\n",
              "      <th>13865</th>\n",
              "      <td>-121.75</td>\n",
              "      <td>37.11</td>\n",
              "      <td>18.0</td>\n",
              "      <td>3167.0</td>\n",
              "      <td>NaN</td>\n",
              "      <td>1414.0</td>\n",
              "      <td>482.0</td>\n",
              "      <td>6.8773</td>\n",
              "      <td>&lt;1H OCEAN</td>\n",
              "    </tr>\n",
              "    <tr>\n",
              "      <th>13918</th>\n",
              "      <td>-118.10</td>\n",
              "      <td>33.74</td>\n",
              "      <td>32.0</td>\n",
              "      <td>2035.0</td>\n",
              "      <td>NaN</td>\n",
              "      <td>934.0</td>\n",
              "      <td>512.0</td>\n",
              "      <td>4.2287</td>\n",
              "      <td>NEAR OCEAN</td>\n",
              "    </tr>\n",
              "    <tr>\n",
              "      <th>14004</th>\n",
              "      <td>-122.08</td>\n",
              "      <td>37.37</td>\n",
              "      <td>29.0</td>\n",
              "      <td>1229.0</td>\n",
              "      <td>NaN</td>\n",
              "      <td>707.0</td>\n",
              "      <td>194.0</td>\n",
              "      <td>7.1108</td>\n",
              "      <td>NEAR BAY</td>\n",
              "    </tr>\n",
              "    <tr>\n",
              "      <th>14168</th>\n",
              "      <td>-119.38</td>\n",
              "      <td>36.53</td>\n",
              "      <td>38.0</td>\n",
              "      <td>1281.0</td>\n",
              "      <td>NaN</td>\n",
              "      <td>1423.0</td>\n",
              "      <td>293.0</td>\n",
              "      <td>1.9602</td>\n",
              "      <td>INLAND</td>\n",
              "    </tr>\n",
              "    <tr>\n",
              "      <th>14371</th>\n",
              "      <td>-117.91</td>\n",
              "      <td>33.87</td>\n",
              "      <td>29.0</td>\n",
              "      <td>1121.0</td>\n",
              "      <td>NaN</td>\n",
              "      <td>762.0</td>\n",
              "      <td>276.0</td>\n",
              "      <td>2.5000</td>\n",
              "      <td>&lt;1H OCEAN</td>\n",
              "    </tr>\n",
              "  </tbody>\n",
              "</table>\n",
              "<p>160 rows × 9 columns</p>\n",
              "</div>"
            ],
            "text/plain": [
              "       longitude  latitude  housing_median_age  total_rooms  total_bedrooms  \\\n",
              "41       -124.00     40.92                29.0       1429.0             NaN   \n",
              "204      -120.97     37.43                27.0       1380.0             NaN   \n",
              "403      -118.27     34.07                27.0       1190.0             NaN   \n",
              "413      -119.45     36.61                24.0       1302.0             NaN   \n",
              "586      -121.30     38.58                16.0       1537.0             NaN   \n",
              "...          ...       ...                 ...          ...             ...   \n",
              "13865    -121.75     37.11                18.0       3167.0             NaN   \n",
              "13918    -118.10     33.74                32.0       2035.0             NaN   \n",
              "14004    -122.08     37.37                29.0       1229.0             NaN   \n",
              "14168    -119.38     36.53                38.0       1281.0             NaN   \n",
              "14371    -117.91     33.87                29.0       1121.0             NaN   \n",
              "\n",
              "       population  households  median_income ocean_proximity  \n",
              "41          672.0       266.0         2.9485       <1H OCEAN  \n",
              "204         810.0       262.0         2.1875          INLAND  \n",
              "403        1795.0       422.0         1.7016       <1H OCEAN  \n",
              "413         693.0       243.0         3.7917          INLAND  \n",
              "586        1125.0       375.0         2.6471          INLAND  \n",
              "...           ...         ...            ...             ...  \n",
              "13865      1414.0       482.0         6.8773       <1H OCEAN  \n",
              "13918       934.0       512.0         4.2287      NEAR OCEAN  \n",
              "14004       707.0       194.0         7.1108        NEAR BAY  \n",
              "14168      1423.0       293.0         1.9602          INLAND  \n",
              "14371       762.0       276.0         2.5000       <1H OCEAN  \n",
              "\n",
              "[160 rows x 9 columns]"
            ]
          },
          "metadata": {
            "tags": []
          },
          "execution_count": 12
        }
      ]
    },
    {
      "cell_type": "code",
      "metadata": {
        "id": "_r5VFND0am_v",
        "colab_type": "code",
        "outputId": "597bde96-25f3-42ae-9844-0ef27c367093",
        "colab": {}
      },
      "source": [
        "train_X.isnull().sum(axis = 0)\n",
        "# train_X.isna().sum(axis = 0)"
      ],
      "execution_count": 0,
      "outputs": [
        {
          "output_type": "execute_result",
          "data": {
            "text/plain": [
              "longitude               0\n",
              "latitude                0\n",
              "housing_median_age      0\n",
              "total_rooms             0\n",
              "total_bedrooms        160\n",
              "population              0\n",
              "households              0\n",
              "median_income           0\n",
              "ocean_proximity         0\n",
              "dtype: int64"
            ]
          },
          "metadata": {
            "tags": []
          },
          "execution_count": 13
        }
      ]
    },
    {
      "cell_type": "markdown",
      "metadata": {
        "id": "HcIvk4Ksam_8",
        "colab_type": "text"
      },
      "source": [
        "# Xử lý các cột bị khuyết dữ liệu trên tập Train\n",
        "1. Phương án 1: Xóa toàn bộ một dòng có cột dữ liệu bị khuyết\n",
        "2. Phương án 2: Thay thế giá trị số bằng cách dùng trung bình cộng (``mean``) của toàn cột dữ liệu đó\n",
        "    * Cách xử lý 1: Dùng lớp ``SimpleImputer`` từ thư viện ``sklearn.impute``\n",
        "    * Cách xử lý 2: Cách hai thực hiện một số thao tác trên cột\n",
        "\n",
        "Các bạn có thể tham khảo tại trang số 63 sách Hands-on Machine Learning with Scikit-Learn, Keras, and TensorFlow"
      ]
    },
    {
      "cell_type": "code",
      "metadata": {
        "id": "TN0AAoY7am__",
        "colab_type": "code",
        "colab": {}
      },
      "source": [
        "# Cách 1:\n",
        "imputer_mean = SimpleImputer(missing_values=np.nan, strategy='mean')\n",
        "imputer_mean.fit(train_X[\"total_bedrooms\"].values.reshape(-1, 1))\n",
        "tmp_total_bedrooms = imputer_mean.transform(train_X['total_bedrooms'].values.reshape(-1, 1))"
      ],
      "execution_count": 0,
      "outputs": []
    },
    {
      "cell_type": "code",
      "metadata": {
        "id": "ZjspAv7NanAJ",
        "colab_type": "code",
        "outputId": "0a3cec22-d67a-44d4-b431-571f71df9ab0",
        "colab": {}
      },
      "source": [
        "# Cách 2:\n",
        "idx_null = train_X[\"total_bedrooms\"].isnull() # kiểm tra giá trị khuyết\n",
        "mean_total_bedrooms = train_X[\"total_bedrooms\"][train_X[\"total_bedrooms\"].isna() == False].mean() # tính trung bình cộng các giá trị không bị khuyết\n",
        "train_X[\"total_bedrooms\"].fillna(mean_total_bedrooms, inplace=True) # thay thế các dòng không bị khuyết bởi giá trị trung bình\n",
        "print(train_X[\"total_bedrooms\"][idx_null == True]) # in ra màn hình giá trị các dòng bị khuyết ban đầu để kiểm tra"
      ],
      "execution_count": 0,
      "outputs": [
        {
          "output_type": "stream",
          "text": [
            "41       538.66578\n",
            "204      538.66578\n",
            "403      538.66578\n",
            "413      538.66578\n",
            "586      538.66578\n",
            "           ...    \n",
            "13865    538.66578\n",
            "13918    538.66578\n",
            "14004    538.66578\n",
            "14168    538.66578\n",
            "14371    538.66578\n",
            "Name: total_bedrooms, Length: 160, dtype: float64\n"
          ],
          "name": "stdout"
        }
      ]
    },
    {
      "cell_type": "code",
      "metadata": {
        "id": "ok1NF6EcanAV",
        "colab_type": "code",
        "outputId": "6a5694b2-d7a7-46cb-c387-7765add1b8c6",
        "colab": {}
      },
      "source": [
        "print((train_X[\"total_bedrooms\"] == tmp_total_bedrooms.squeeze()).all()) # Kiểm tra kết quả Cách 1 và Cách 2 có giống nhau hay không?\n",
        "\n",
        "print((train_X[\"total_bedrooms\"].isna() == False).all()) # Kiểm tra kết quả sau khi áp dụng Cách 2 còn giá trị nào bị khuyết hay không?"
      ],
      "execution_count": 0,
      "outputs": [
        {
          "output_type": "stream",
          "text": [
            "True\n",
            "True\n"
          ],
          "name": "stdout"
        }
      ]
    },
    {
      "cell_type": "markdown",
      "metadata": {
        "id": "_GhC0l8ZanAl",
        "colab_type": "text"
      },
      "source": [
        "# Yêu cầu 1: Xử lý các cột bị khuyết dữ liệu trên tập Dev/Test"
      ]
    },
    {
      "cell_type": "code",
      "metadata": {
        "id": "Kf5vSF9ganAo",
        "colab_type": "code",
        "colab": {}
      },
      "source": [
        "# Các bạn code tại đây\n"
      ],
      "execution_count": 0,
      "outputs": []
    },
    {
      "cell_type": "code",
      "metadata": {
        "id": "H_oxUNpXanA0",
        "colab_type": "code",
        "colab": {}
      },
      "source": [
        "# Các bạn code tại đây\n"
      ],
      "execution_count": 0,
      "outputs": []
    },
    {
      "cell_type": "code",
      "metadata": {
        "id": "hwi8kl6NanA6",
        "colab_type": "code",
        "colab": {}
      },
      "source": [
        "# Các bạn code tại đây\n"
      ],
      "execution_count": 0,
      "outputs": []
    },
    {
      "cell_type": "markdown",
      "metadata": {
        "id": "DhYpu27oanBI",
        "colab_type": "text"
      },
      "source": [
        "# Yêu cầu 2: Thực hiện các thí nghiệm với việc thêm các thuộc tính tích lũy dẫn\n",
        "Chúng ta có danh sách các thuộc tính: ``longitude``, ``latitude``, ``housing_median_age``, ``total_rooms``, ``total_bedrooms``, ``population``, ``households``, ``median_income``, ``ocean_proximity``\n",
        "\n",
        "1. Thí nghiệm 1: ``longitude``\n",
        "2. Thí nghiệm 2: ``longitude``, ``latitude``\n",
        "3. Thí nghiêm 3: ``longitude``, ``latitude``, ``housing_median_age``\n",
        "4. Thí nghiệm 4: v.v...\n",
        "\n",
        "Lưu ý: Trong quá trình làm, các bạn sẽ tham khảo cách xử lý thuộc tính ``ocean_proximity`` bằng lớp ``LabelEncoder`` từ thư viện ``sklearn.preprocessing``"
      ]
    },
    {
      "cell_type": "code",
      "metadata": {
        "id": "WzyVAqVYanBJ",
        "colab_type": "code",
        "colab": {}
      },
      "source": [
        "features_list_1 = [\"longitude\"]\n",
        "model_1 = sm.OLS(train_Y, train_X[features_list_1]).fit()\n",
        "rmse_train_1 = mean_squared_error(train_Y, model_1.predict(train_X[features_list_1]), squared=False)\n",
        "# If True returns MSE value, if False returns RMSE value.\n",
        "rmse_dev_1 = mean_squared_error(dev_Y, model_1.predict(dev_X[features_list_1]), squared=False)\n",
        "rmse_test_1 = mean_squared_error(test_Y, model_1.predict(test_X[features_list_1]), squared=False)"
      ],
      "execution_count": 0,
      "outputs": []
    },
    {
      "cell_type": "code",
      "metadata": {
        "id": "qnBcP6teanBU",
        "colab_type": "code",
        "colab": {}
      },
      "source": [
        "features_list_2 = [\"longitude\", \"latitude\"]\n",
        "model_2 = sm.OLS(train_Y, train_X[features_list_2]).fit()\n",
        "rmse_train_2 = mean_squared_error(train_Y, model_2.predict(train_X[features_list_2]), squared=False)\n",
        "rmse_dev_2 = mean_squared_error(dev_Y, model_2.predict(dev_X[features_list_2]), squared=False)\n",
        "rmse_test_2 = mean_squared_error(test_Y, model_2.predict(test_X[features_list_2]), squared=False)"
      ],
      "execution_count": 0,
      "outputs": []
    },
    {
      "cell_type": "code",
      "metadata": {
        "id": "qZiBCtBkanBh",
        "colab_type": "code",
        "colab": {}
      },
      "source": [
        "# Các bạn code tại đây"
      ],
      "execution_count": 0,
      "outputs": []
    },
    {
      "cell_type": "code",
      "metadata": {
        "id": "X4rHuFb6anBu",
        "colab_type": "code",
        "colab": {}
      },
      "source": [
        "# Các bạn code tại đây. Các bạn có thể dùng thao tác Insert -> Insert Cell Bellow/Above để chèn thêm ô để nhập code"
      ],
      "execution_count": 0,
      "outputs": []
    },
    {
      "cell_type": "markdown",
      "metadata": {
        "id": "8rTzO8KCanB2",
        "colab_type": "text"
      },
      "source": [
        "# Yêu cầu 3: Trình bày kết quả mô hình vào một bảng bằng thư viện Pandas"
      ]
    },
    {
      "cell_type": "code",
      "metadata": {
        "scrolled": true,
        "id": "sXfwmJPvanB4",
        "colab_type": "code",
        "outputId": "e4104513-f825-4604-92b0-9698938b45a4",
        "colab": {}
      },
      "source": [
        "df_result = pd.DataFrame(data = {'RMSE_Train': [rmse_train_1, rmse_train_2],\n",
        "                                 'RMSE_Dev': [rmse_dev_1, rmse_dev_2],\n",
        "                                 'RMSE_Test': [rmse_test_1, rmse_test_2]},\n",
        "                         index = ['longitude', 'longitude + latitude'])\n",
        "\n",
        "display(df_result.round(3))"
      ],
      "execution_count": 0,
      "outputs": [
        {
          "output_type": "display_data",
          "data": {
            "text/html": [
              "<div>\n",
              "<style scoped>\n",
              "    .dataframe tbody tr th:only-of-type {\n",
              "        vertical-align: middle;\n",
              "    }\n",
              "\n",
              "    .dataframe tbody tr th {\n",
              "        vertical-align: top;\n",
              "    }\n",
              "\n",
              "    .dataframe thead th {\n",
              "        text-align: right;\n",
              "    }\n",
              "</style>\n",
              "<table border=\"1\" class=\"dataframe\">\n",
              "  <thead>\n",
              "    <tr style=\"text-align: right;\">\n",
              "      <th></th>\n",
              "      <th>RMSE_Train</th>\n",
              "      <th>RMSE_Dev</th>\n",
              "      <th>RMSE_Test</th>\n",
              "    </tr>\n",
              "  </thead>\n",
              "  <tbody>\n",
              "    <tr>\n",
              "      <th>longitude</th>\n",
              "      <td>114808.126</td>\n",
              "      <td>114556.560</td>\n",
              "      <td>117298.758</td>\n",
              "    </tr>\n",
              "    <tr>\n",
              "      <th>longitude + latitude</th>\n",
              "      <td>111492.090</td>\n",
              "      <td>112236.757</td>\n",
              "      <td>113827.915</td>\n",
              "    </tr>\n",
              "  </tbody>\n",
              "</table>\n",
              "</div>"
            ],
            "text/plain": [
              "                      RMSE_Train    RMSE_Dev   RMSE_Test\n",
              "longitude             114808.126  114556.560  117298.758\n",
              "longitude + latitude  111492.090  112236.757  113827.915"
            ]
          },
          "metadata": {
            "tags": []
          }
        }
      ]
    },
    {
      "cell_type": "markdown",
      "metadata": {
        "id": "gjuRGuPfanCO",
        "colab_type": "text"
      },
      "source": [
        "# Yêu cầu 4: Nhận xét các kết quả trên\n",
        "Các bạn vui lòng nhận xét tại đây nha, ví dụ như giá trị hiệu suất ``RMSE`` thay đổi như thế nào?\n",
        "Các bạn nên dùng ``Markdown`` như thế này để nhận xét."
      ]
    },
    {
      "cell_type": "markdown",
      "metadata": {
        "id": "_hduQFpXanCQ",
        "colab_type": "text"
      },
      "source": [
        "# Yêu cầu 5: Thực hiện lại các Yêu cầu 2, 3, 4 khi dùng mô hình ``Support Vector Machine regressor`` (``sklearn.svm.SVR``) để giải quyết bài toán hồi quy tuyến tính "
      ]
    }
  ]
}