{
  "nbformat": 4,
  "nbformat_minor": 0,
  "metadata": {
    "orig_nbformat": 2,
    "file_extension": ".py",
    "mimetype": "text/x-python",
    "name": "python",
    "npconvert_exporter": "python",
    "pygments_lexer": "ipython3",
    "version": 3,
    "colab": {
      "name": "Copy of Exercise2.ipynb",
      "provenance": [],
      "collapsed_sections": [],
      "include_colab_link": true
    },
    "kernelspec": {
      "name": "python3",
      "display_name": "Python 3"
    }
  },
  "cells": [
    {
      "cell_type": "markdown",
      "metadata": {
        "id": "view-in-github",
        "colab_type": "text"
      },
      "source": [
        "<a href=\"https://colab.research.google.com/github/dxv2k/Machine_Learning_CS114/blob/LAB01/Copy_of_Exercise2.ipynb\" target=\"_parent\"><img src=\"https://colab.research.google.com/assets/colab-badge.svg\" alt=\"Open In Colab\"/></a>"
      ]
    },
    {
      "cell_type": "markdown",
      "metadata": {
        "id": "sf6bTzteKkw7",
        "colab_type": "text"
      },
      "source": [
        " # Bài tập thực hành tuần 2\n",
        " ## Bài tập 2\n",
        "  * Sử dụng chương trình Python trang 114 - 117 sách Hands-on Machine Learning with Scikit-Learn, Keras & TensorFlow, 2nd Edition tính lại ví dụ mô phỏng ở slides 11 thuộc Tuần 2."
      ]
    },
    {
      "cell_type": "markdown",
      "metadata": {
        "id": "yQHEfjptKkxA",
        "colab_type": "text"
      },
      "source": [
        "  Ở bài tập 1 ta nhận thấy rằng chỉ xét đối với ${\\theta}_0$ và ${\\theta}_1$\n",
        "  vì vậy ta sẽ trường hợp đối với hàm tồn tại nhiều ${\\theta}$ hơn\n",
        "  ta sẽ sử dụng $y(x,$${\\theta}$$)$ = ${\\theta}_0$ + ${\\theta}_1$$x_1$ + ${\\theta}_2$$x_2$ + ${\\theta}_3$$x_3$ + ${\\mu}$.\n",
        "  Lý do chỉ sử dụng 3 tham số ${\\theta}$ để ta có thể dể dàng biểu thị đồ thị.\n",
        "  Tương tự ta cũng sẽ sử dụng 2 cách: áp dụng thư viện và tự viết thuật toán."
      ]
    },
    {
      "cell_type": "markdown",
      "metadata": {
        "id": "EYzXRCQvKkxC",
        "colab_type": "text"
      },
      "source": [
        "  ### Import thư viện"
      ]
    },
    {
      "cell_type": "code",
      "metadata": {
        "id": "FI_xkLaWKkxD",
        "colab_type": "code",
        "outputId": "8b00f825-8260-481e-c6c4-335741c7f6e4",
        "colab": {
          "base_uri": "https://localhost:8080/",
          "height": 34
        }
      },
      "source": [
        "import numpy as np\n",
        "print('Import numpy as np successfully')\n"
      ],
      "execution_count": 2,
      "outputs": [
        {
          "output_type": "stream",
          "text": [
            "Import numpy as np successfully\n"
          ],
          "name": "stdout"
        }
      ]
    },
    {
      "cell_type": "markdown",
      "metadata": {
        "id": "hbYMteKXKkxN",
        "colab_type": "text"
      },
      "source": [
        "  ### Tạo dataset\n",
        "  #### Ta sẽ thử tạo dataset từ phương trình\n",
        "  #### $y(x,$${\\theta}$$)$ = 4 + 3$x_1$ + 5$x_2$ + 2$x_3$ + ${\\mu}$\n",
        "  #### ${\\mu}$ = Gaussian noise sẽ được tạo ra từ hàm random trong thư viện numpy"
      ]
    },
    {
      "cell_type": "code",
      "metadata": {
        "id": "67qGVpsGKkxO",
        "colab_type": "code",
        "colab": {}
      },
      "source": [
        "x1 = 2 * np.random.rand(100,1)\n",
        "x2 = 3 * np.random.rand(100,1)\n",
        "x3 = 4 * np.random.rand(100,1)\n",
        "y = 4 + 3*x1 + 5*x2 + 2*x3 + np.random.randn(100,1)\n"
      ],
      "execution_count": 0,
      "outputs": []
    },
    {
      "cell_type": "markdown",
      "metadata": {
        "id": "sGXzazjyKkxS",
        "colab_type": "text"
      },
      "source": [
        "  ### Tổng quát về dataset vừa được tạo ra\n",
        "  #### x1,x2,x3 vừa được tạo ra"
      ]
    },
    {
      "cell_type": "code",
      "metadata": {
        "id": "JU3dUiayKkxU",
        "colab_type": "code",
        "outputId": "9e4711da-2f43-4646-c0e0-e3aabe8cb2ed",
        "colab": {
          "base_uri": "https://localhost:8080/",
          "height": 123
        }
      },
      "source": [
        "print('x1           x2              x3')\n",
        "for i in range(5): print(x1[i],x2[i],x3[i])\n"
      ],
      "execution_count": 4,
      "outputs": [
        {
          "output_type": "stream",
          "text": [
            "x1           x2              x3\n",
            "[1.81120668] [2.26444432] [3.09865909]\n",
            "[1.38191739] [0.34799311] [0.14670436]\n",
            "[0.56583782] [0.37623617] [1.74123888]\n",
            "[0.14251007] [1.73901637] [1.62911776]\n",
            "[0.92929746] [2.59819222] [2.00771164]\n"
          ],
          "name": "stdout"
        }
      ]
    },
    {
      "cell_type": "markdown",
      "metadata": {
        "id": "7NCS0DiHKkxZ",
        "colab_type": "text"
      },
      "source": [
        "  #### y vừa được tạo ra"
      ]
    },
    {
      "cell_type": "code",
      "metadata": {
        "id": "YOp2JA_oKkxb",
        "colab_type": "code",
        "outputId": "8b7306dd-e1b7-4f24-d573-ea1d222de3c4",
        "colab": {
          "base_uri": "https://localhost:8080/",
          "height": 105
        }
      },
      "source": [
        "for i in range(5): print(y[i])\n"
      ],
      "execution_count": 5,
      "outputs": [
        {
          "output_type": "stream",
          "text": [
            "[26.6516178]\n",
            "[10.57492914]\n",
            "[11.24160366]\n",
            "[16.3201594]\n",
            "[23.70892727]\n"
          ],
          "name": "stdout"
        }
      ]
    },
    {
      "cell_type": "markdown",
      "metadata": {
        "id": "lgJsWTugKkxj",
        "colab_type": "text"
      },
      "source": [
        "  ### Đồ thị Scatter quan hệ giữa x1, x2, x3 và y"
      ]
    },
    {
      "cell_type": "code",
      "metadata": {
        "id": "6AackZ22Kkxl",
        "colab_type": "code",
        "outputId": "a1eaa603-3c1e-4bdf-e25b-79c92ddbdb14",
        "colab": {
          "base_uri": "https://localhost:8080/",
          "height": 34
        }
      },
      "source": [
        "import matplotlib.pyplot as plt\n",
        "print('Import pyplot as plt successfully') \n"
      ],
      "execution_count": 6,
      "outputs": [
        {
          "output_type": "stream",
          "text": [
            "Import pyplot as plt successfully\n"
          ],
          "name": "stdout"
        }
      ]
    },
    {
      "cell_type": "markdown",
      "metadata": {
        "id": "FNLtZEsTKkxr",
        "colab_type": "text"
      },
      "source": [
        "  #### Đồ thị Scatter giữa x1 và y"
      ]
    },
    {
      "cell_type": "code",
      "metadata": {
        "id": "oM-Obr6tKkxt",
        "colab_type": "code",
        "outputId": "30c81559-bb46-4ff4-ded0-e150fd273abb",
        "colab": {
          "base_uri": "https://localhost:8080/",
          "height": 282
        }
      },
      "source": [
        "plt.scatter(x1,y)\n"
      ],
      "execution_count": 7,
      "outputs": [
        {
          "output_type": "execute_result",
          "data": {
            "text/plain": [
              "<matplotlib.collections.PathCollection at 0x7ffb2537d2e8>"
            ]
          },
          "metadata": {
            "tags": []
          },
          "execution_count": 7
        },
        {
          "output_type": "display_data",
          "data": {
            "image/png": "[encoded data removed]",
            "text/plain": [
              "<Figure size 432x288 with 1 Axes>"
            ]
          },
          "metadata": {
            "tags": []
          }
        }
      ]
    },
    {
      "cell_type": "markdown",
      "metadata": {
        "id": "itE36Y9zKkxx",
        "colab_type": "text"
      },
      "source": [
        "  #### Đồ thị Scatter giữa x2 và y"
      ]
    },
    {
      "cell_type": "code",
      "metadata": {
        "id": "CVu48GpTKkxz",
        "colab_type": "code",
        "outputId": "885c38af-1e51-4faa-dc78-93ba344cf076",
        "colab": {
          "base_uri": "https://localhost:8080/",
          "height": 282
        }
      },
      "source": [
        "plt.scatter(x2,y)\n"
      ],
      "execution_count": 8,
      "outputs": [
        {
          "output_type": "execute_result",
          "data": {
            "text/plain": [
              "<matplotlib.collections.PathCollection at 0x7ffb22644550>"
            ]
          },
          "metadata": {
            "tags": []
          },
          "execution_count": 8
        },
        {
          "output_type": "display_data",
          "data": {
            "image/png": "[encoded data removed]",
            "text/plain": [
              "<Figure size 432x288 with 1 Axes>"
            ]
          },
          "metadata": {
            "tags": []
          }
        }
      ]
    },
    {
      "cell_type": "markdown",
      "metadata": {
        "id": "xuSWYeDgKkx5",
        "colab_type": "text"
      },
      "source": [
        " #### Đồ thị Scatter giữa x3 và y"
      ]
    },
    {
      "cell_type": "code",
      "metadata": {
        "id": "LjG1FZUhKkx7",
        "colab_type": "code",
        "outputId": "7c99de43-c68b-4df7-9006-c72602398176",
        "colab": {
          "base_uri": "https://localhost:8080/",
          "height": 282
        }
      },
      "source": [
        "plt.scatter(x3,y)\n",
        "\n"
      ],
      "execution_count": 9,
      "outputs": [
        {
          "output_type": "execute_result",
          "data": {
            "text/plain": [
              "<matplotlib.collections.PathCollection at 0x7ffb225c1a58>"
            ]
          },
          "metadata": {
            "tags": []
          },
          "execution_count": 9
        },
        {
          "output_type": "display_data",
          "data": {
            "image/png": "[encoded data removed]",
            "text/plain": [
              "<Figure size 432x288 with 1 Axes>"
            ]
          },
          "metadata": {
            "tags": []
          }
        }
      ]
    },
    {
      "cell_type": "markdown",
      "metadata": {
        "id": "Y2UWUjcGKkyB",
        "colab_type": "text"
      },
      "source": [
        " ### Tính toán $\\hat{\\theta}$ sử dụng Normal Equation"
      ]
    },
    {
      "cell_type": "markdown",
      "metadata": {
        "id": "P4A5ywjCKkyD",
        "colab_type": "text"
      },
      "source": [
        " ### Tiến hành tính toán $\\hat{\\theta}$\n",
        " #### Ta sẽ lần lượt tính toán $\\hat{\\theta}_0$, $\\hat{\\theta}_1$, $\\hat{\\theta}_2$ và $\\hat{\\theta}_3$"
      ]
    },
    {
      "cell_type": "markdown",
      "metadata": {
        "id": "53yc5nhrKkyF",
        "colab_type": "text"
      },
      "source": [
        " ### Tiến hành tính toán $\\hat{\\theta}$\n",
        " #### Ta sẽ lần lượt tính toán $\\hat{\\theta}_0$, $\\hat{\\theta}_1$, $\\hat{\\theta}_2$ và $\\hat{\\theta}_3$"
      ]
    },
    {
      "cell_type": "code",
      "metadata": {
        "id": "SBRe7eQtKkyG",
        "colab_type": "code",
        "colab": {}
      },
      "source": [
        "X = np.array([x1,x2,x3]) #easier to iterate\n",
        "min_theta = [[0,0]] * 3 #for every [0,0] contains theta0 and theta[i]\n",
        "                        # Further explanation below \n",
        "for i in range(3): #calculate theta \n",
        "    X_b = np.c_[np.ones((100,1)),X[i]]\n",
        "    theta_best = np.linalg.inv(X_b.T.dot(X_b)).dot(X_b.T).dot(y) #return theta0 and theta[i]\n",
        "    min_theta[i] = theta_best\n"
      ],
      "execution_count": 0,
      "outputs": []
    },
    {
      "cell_type": "markdown",
      "metadata": {
        "id": "pVBqFmytKkyK",
        "colab_type": "text"
      },
      "source": [
        " ### Xem kết quả vừa tính toán được\n",
        " #### Giải thích thêm về min_theta\n",
        " #### min_theta là mảng 2 chiều, mỗi phần tử trong mảng chứa kết quả theta0 và theta[i]"
      ]
    },
    {
      "cell_type": "code",
      "metadata": {
        "id": "DYzdY_gsKkyL",
        "colab_type": "code",
        "outputId": "862358dd-8a3c-44b5-f1d8-58cb1b32a42f",
        "colab": {
          "base_uri": "https://localhost:8080/",
          "height": 123
        }
      },
      "source": [
        "for i in range(3): \n",
        "    print(min_theta[i])\n"
      ],
      "execution_count": 11,
      "outputs": [
        {
          "output_type": "stream",
          "text": [
            "[[14.13568315]\n",
            " [ 3.91115335]]\n",
            "[[10.31867157]\n",
            " [ 5.44433303]]\n",
            "[[12.58499126]\n",
            " [ 2.76141222]]\n"
          ],
          "name": "stdout"
        }
      ]
    },
    {
      "cell_type": "markdown",
      "metadata": {
        "id": "uD3VgUFNKkyQ",
        "colab_type": "text"
      },
      "source": [
        " ### Nhận xét:\n",
        " #### * Phương trình ban đầu: $y(x,$${\\theta}$$)$ = 4 + 3$x_1$ + 5$x_2$ + 2$x_3$ + ${\\mu}$\n",
        " #### * Ta nhận thấy được rằng kết quả trả về có sai số khá lớn đặc biệt là theta0 và tương tự đối với các theta còn lại.\n",
        " #### * Đồng thời ta còn nhận được 2 kết quả theta0 khác nhau vì vậy ta sẽ không tiến hành kiểm tra kết quả (Prediction) của model"
      ]
    },
    {
      "cell_type": "markdown",
      "metadata": {
        "id": "fZMgksskKkyR",
        "colab_type": "text"
      },
      "source": [
        " ## Sử dụng Linear Regression trên thư viện Scikit-learn\n",
        " ### Thêm thư viện"
      ]
    },
    {
      "cell_type": "code",
      "metadata": {
        "id": "L6Twp81JKkyT",
        "colab_type": "code",
        "outputId": "3c25558e-6592-407c-c210-e575e01fd05e",
        "colab": {
          "base_uri": "https://localhost:8080/",
          "height": 34
        }
      },
      "source": [
        "from sklearn.linear_model import LinearRegression\n",
        "print('Import Linear Regression from Sklearn successfully')\n",
        "lin_reg = LinearRegression"
      ],
      "execution_count": 12,
      "outputs": [
        {
          "output_type": "stream",
          "text": [
            "Import Linear Regression from Sklearn successfully\n"
          ],
          "name": "stdout"
        }
      ]
    }
  ]
}