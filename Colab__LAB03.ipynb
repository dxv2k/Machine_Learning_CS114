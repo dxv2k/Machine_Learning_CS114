{
  "nbformat": 4,
  "nbformat_minor": 0,
  "metadata": {
    "kernelspec": {
      "display_name": "Python 3",
      "language": "python",
      "name": "python3"
    },
    "language_info": {
      "codemirror_mode": {
        "name": "ipython",
        "version": 3
      },
      "file_extension": ".py",
      "mimetype": "text/x-python",
      "name": "python",
      "nbconvert_exporter": "python",
      "pygments_lexer": "ipython3",
      "version": "3.7.6"
    },
    "colab": {
      "name": "Colab _LAB03.ipynb",
      "provenance": [],
      "collapsed_sections": [],
      "include_colab_link": true
    }
  },
  "cells": [
    {
      "cell_type": "markdown",
      "metadata": {
        "id": "view-in-github",
        "colab_type": "text"
      },
      "source": [
        "<a href=\"https://colab.research.google.com/github/dxv2k/Machine_Learning_CS114/blob/LAB02/Colab__LAB03.ipynb\" target=\"_parent\"><img src=\"https://colab.research.google.com/assets/colab-badge.svg\" alt=\"Open In Colab\"/></a>"
      ]
    },
    {
      "cell_type": "code",
      "metadata": {
        "id": "pFCsMVqsam7z",
        "colab_type": "code",
        "outputId": "02e67de7-a4f0-47bc-fe8b-edd2dcb2e131",
        "colab": {
          "base_uri": "https://localhost:8080/",
          "height": 34
        }
      },
      "source": [
        "import pandas as pd\n",
        "import numpy as np\n",
        "import statsmodels.api as sm\n",
        "import matplotlib.pyplot as plt\n",
        "from sklearn.metrics import mean_squared_error\n",
        "from sklearn.impute import SimpleImputer\n",
        "from sklearn.preprocessing import LabelEncoder\n",
        "print('Import libraries successfully')"
      ],
      "execution_count": 58,
      "outputs": [
        {
          "output_type": "stream",
          "text": [
            "Import libraries successfully\n"
          ],
          "name": "stdout"
        }
      ]
    },
    {
      "cell_type": "markdown",
      "metadata": {
        "id": "3xj4eU94am8J",
        "colab_type": "text"
      },
      "source": [
        "# Đọc dữ liệu và quan sát nhanh dữ liệu California Housing Prices đã được chia thành 3 tập Train, Dev, và Test\n",
        "* Lệnh ``pd.read_csv()`` tham khảo tại trang 47 trong sách Hands-on Machine Learning with Scikit-Learn, Keras, and TensorFlow\n",
        "* Lệnh ``df.head()`` tham khảo tại trang 47 trong sách Hands-on Machine Learning with Scikit-Learn, Keras, and TensorFlow\n",
        "* Lệnh ``df.info()`` tham khảo tại trang 47 trong sách Hands-on Machine Learning with Scikit-Learn, Keras, and TensorFlow"
      ]
    },
    {
      "cell_type": "code",
      "metadata": {
        "id": "ro0ov20oam8L",
        "colab_type": "code",
        "colab": {}
      },
      "source": [
        "df_train = pd.read_csv('housing_train.csv') # Đọc dữ liệu tập Train (Tập dữ liệu việc huấn luyện mô hình)\n",
        "df_dev = pd.read_csv('housing_dev.csv')     # Đọc dữ liệu tập Dev   (Tập dữ liệu dành cho việc phát triển/tinh chỉnh mô hình)\n",
        "df_test = pd.read_csv('housing_test.csv')   # Đọc dữ liệu tập Test  (Tập dữ liệu dành cho việc kiểm tra mô hình)"
      ],
      "execution_count": 0,
      "outputs": []
    },
    {
      "cell_type": "code",
      "metadata": {
        "id": "hVA5-SQQam8c",
        "colab_type": "code",
        "outputId": "2da6cb8c-eaa3-4d8d-ac99-cebde830ce1d",
        "colab": {
          "base_uri": "https://localhost:8080/",
          "height": 306
        }
      },
      "source": [
        "df_train.info() # Kiểm tra thông tin ban đầu dữ liệu (số dòng, số cột, kiểu dữ liệu của các cột)"
      ],
      "execution_count": 60,
      "outputs": [
        {
          "output_type": "stream",
          "text": [
            "<class 'pandas.core.frame.DataFrame'>\n",
            "RangeIndex: 14447 entries, 0 to 14446\n",
            "Data columns (total 10 columns):\n",
            " #   Column              Non-Null Count  Dtype  \n",
            "---  ------              --------------  -----  \n",
            " 0   longitude           14447 non-null  float64\n",
            " 1   latitude            14447 non-null  float64\n",
            " 2   housing_median_age  14447 non-null  float64\n",
            " 3   total_rooms         14447 non-null  float64\n",
            " 4   total_bedrooms      14287 non-null  float64\n",
            " 5   population          14447 non-null  float64\n",
            " 6   households          14447 non-null  float64\n",
            " 7   median_income       14447 non-null  float64\n",
            " 8   median_house_value  14447 non-null  float64\n",
            " 9   ocean_proximity     14447 non-null  object \n",
            "dtypes: float64(9), object(1)\n",
            "memory usage: 1.1+ MB\n"
          ],
          "name": "stdout"
        }
      ]
    },
    {
      "cell_type": "code",
      "metadata": {
        "id": "WTAh0beCam83",
        "colab_type": "code",
        "outputId": "49a16142-8c0a-46d1-905c-0506a050cb58",
        "colab": {
          "base_uri": "https://localhost:8080/",
          "height": 224
        }
      },
      "source": [
        "df_train.head() # Quan sát nhanh 5 dòng dữ liệu đầu tiên"
      ],
      "execution_count": 61,
      "outputs": [
        {
          "output_type": "execute_result",
          "data": {
            "text/html": [
              "<div>\n",
              "<style scoped>\n",
              "    .dataframe tbody tr th:only-of-type {\n",
              "        vertical-align: middle;\n",
              "    }\n",
              "\n",
              "    .dataframe tbody tr th {\n",
              "        vertical-align: top;\n",
              "    }\n",
              "\n",
              "    .dataframe thead th {\n",
              "        text-align: right;\n",
              "    }\n",
              "</style>\n",
              "<table border=\"1\" class=\"dataframe\">\n",
              "  <thead>\n",
              "    <tr style=\"text-align: right;\">\n",
              "      <th></th>\n",
              "      <th>longitude</th>\n",
              "      <th>latitude</th>\n",
              "      <th>housing_median_age</th>\n",
              "      <th>total_rooms</th>\n",
              "      <th>total_bedrooms</th>\n",
              "      <th>population</th>\n",
              "      <th>households</th>\n",
              "      <th>median_income</th>\n",
              "      <th>median_house_value</th>\n",
              "      <th>ocean_proximity</th>\n",
              "    </tr>\n",
              "  </thead>\n",
              "  <tbody>\n",
              "    <tr>\n",
              "      <th>0</th>\n",
              "      <td>-117.83</td>\n",
              "      <td>34.15</td>\n",
              "      <td>20.0</td>\n",
              "      <td>2421.0</td>\n",
              "      <td>306.0</td>\n",
              "      <td>1023.0</td>\n",
              "      <td>298.0</td>\n",
              "      <td>8.0683</td>\n",
              "      <td>451500.0</td>\n",
              "      <td>INLAND</td>\n",
              "    </tr>\n",
              "    <tr>\n",
              "      <th>1</th>\n",
              "      <td>-119.85</td>\n",
              "      <td>36.77</td>\n",
              "      <td>27.0</td>\n",
              "      <td>1510.0</td>\n",
              "      <td>344.0</td>\n",
              "      <td>847.0</td>\n",
              "      <td>295.0</td>\n",
              "      <td>2.9315</td>\n",
              "      <td>83200.0</td>\n",
              "      <td>INLAND</td>\n",
              "    </tr>\n",
              "    <tr>\n",
              "      <th>2</th>\n",
              "      <td>-122.13</td>\n",
              "      <td>37.67</td>\n",
              "      <td>40.0</td>\n",
              "      <td>1748.0</td>\n",
              "      <td>318.0</td>\n",
              "      <td>914.0</td>\n",
              "      <td>317.0</td>\n",
              "      <td>3.8676</td>\n",
              "      <td>184000.0</td>\n",
              "      <td>NEAR BAY</td>\n",
              "    </tr>\n",
              "    <tr>\n",
              "      <th>3</th>\n",
              "      <td>-119.81</td>\n",
              "      <td>34.46</td>\n",
              "      <td>22.0</td>\n",
              "      <td>3488.0</td>\n",
              "      <td>452.0</td>\n",
              "      <td>1479.0</td>\n",
              "      <td>458.0</td>\n",
              "      <td>7.1687</td>\n",
              "      <td>384400.0</td>\n",
              "      <td>NEAR OCEAN</td>\n",
              "    </tr>\n",
              "    <tr>\n",
              "      <th>4</th>\n",
              "      <td>-120.47</td>\n",
              "      <td>34.65</td>\n",
              "      <td>32.0</td>\n",
              "      <td>2193.0</td>\n",
              "      <td>430.0</td>\n",
              "      <td>1074.0</td>\n",
              "      <td>377.0</td>\n",
              "      <td>2.3333</td>\n",
              "      <td>130200.0</td>\n",
              "      <td>NEAR OCEAN</td>\n",
              "    </tr>\n",
              "  </tbody>\n",
              "</table>\n",
              "</div>"
            ],
            "text/plain": [
              "   longitude  latitude  ...  median_house_value  ocean_proximity\n",
              "0    -117.83     34.15  ...            451500.0           INLAND\n",
              "1    -119.85     36.77  ...             83200.0           INLAND\n",
              "2    -122.13     37.67  ...            184000.0         NEAR BAY\n",
              "3    -119.81     34.46  ...            384400.0       NEAR OCEAN\n",
              "4    -120.47     34.65  ...            130200.0       NEAR OCEAN\n",
              "\n",
              "[5 rows x 10 columns]"
            ]
          },
          "metadata": {
            "tags": []
          },
          "execution_count": 61
        }
      ]
    },
    {
      "cell_type": "code",
      "metadata": {
        "id": "TTnw5Vzpam9K",
        "colab_type": "code",
        "outputId": "dcad2af2-0a81-43bd-cc09-dbe3a9ae4d3c",
        "colab": {
          "base_uri": "https://localhost:8080/",
          "height": 306
        }
      },
      "source": [
        "df_dev.info() # Kiểm tra thông tin ban đầu dữ liệu (số dòng, số cột, kiểu dữ liệu của các cột)"
      ],
      "execution_count": 62,
      "outputs": [
        {
          "output_type": "stream",
          "text": [
            "<class 'pandas.core.frame.DataFrame'>\n",
            "RangeIndex: 2065 entries, 0 to 2064\n",
            "Data columns (total 10 columns):\n",
            " #   Column              Non-Null Count  Dtype  \n",
            "---  ------              --------------  -----  \n",
            " 0   longitude           2065 non-null   float64\n",
            " 1   latitude            2065 non-null   float64\n",
            " 2   housing_median_age  2065 non-null   float64\n",
            " 3   total_rooms         2065 non-null   float64\n",
            " 4   total_bedrooms      2048 non-null   float64\n",
            " 5   population          2065 non-null   float64\n",
            " 6   households          2065 non-null   float64\n",
            " 7   median_income       2065 non-null   float64\n",
            " 8   median_house_value  2065 non-null   float64\n",
            " 9   ocean_proximity     2065 non-null   object \n",
            "dtypes: float64(9), object(1)\n",
            "memory usage: 161.5+ KB\n"
          ],
          "name": "stdout"
        }
      ]
    },
    {
      "cell_type": "code",
      "metadata": {
        "id": "xbI8HxvAam9l",
        "colab_type": "code",
        "outputId": "29062b7c-e6c7-4f14-b53c-3263cb0ddfa0",
        "colab": {
          "base_uri": "https://localhost:8080/",
          "height": 224
        }
      },
      "source": [
        "df_dev.head() # Quan sát nhanh 5 dòng dữ liệu đầu tiên"
      ],
      "execution_count": 63,
      "outputs": [
        {
          "output_type": "execute_result",
          "data": {
            "text/html": [
              "<div>\n",
              "<style scoped>\n",
              "    .dataframe tbody tr th:only-of-type {\n",
              "        vertical-align: middle;\n",
              "    }\n",
              "\n",
              "    .dataframe tbody tr th {\n",
              "        vertical-align: top;\n",
              "    }\n",
              "\n",
              "    .dataframe thead th {\n",
              "        text-align: right;\n",
              "    }\n",
              "</style>\n",
              "<table border=\"1\" class=\"dataframe\">\n",
              "  <thead>\n",
              "    <tr style=\"text-align: right;\">\n",
              "      <th></th>\n",
              "      <th>longitude</th>\n",
              "      <th>latitude</th>\n",
              "      <th>housing_median_age</th>\n",
              "      <th>total_rooms</th>\n",
              "      <th>total_bedrooms</th>\n",
              "      <th>population</th>\n",
              "      <th>households</th>\n",
              "      <th>median_income</th>\n",
              "      <th>median_house_value</th>\n",
              "      <th>ocean_proximity</th>\n",
              "    </tr>\n",
              "  </thead>\n",
              "  <tbody>\n",
              "    <tr>\n",
              "      <th>0</th>\n",
              "      <td>-118.36</td>\n",
              "      <td>33.92</td>\n",
              "      <td>26.0</td>\n",
              "      <td>3695.0</td>\n",
              "      <td>1144.0</td>\n",
              "      <td>2308.0</td>\n",
              "      <td>1009.0</td>\n",
              "      <td>2.6667</td>\n",
              "      <td>229300.0</td>\n",
              "      <td>&lt;1H OCEAN</td>\n",
              "    </tr>\n",
              "    <tr>\n",
              "      <th>1</th>\n",
              "      <td>-118.41</td>\n",
              "      <td>34.19</td>\n",
              "      <td>45.0</td>\n",
              "      <td>1106.0</td>\n",
              "      <td>225.0</td>\n",
              "      <td>595.0</td>\n",
              "      <td>228.0</td>\n",
              "      <td>3.6625</td>\n",
              "      <td>190700.0</td>\n",
              "      <td>&lt;1H OCEAN</td>\n",
              "    </tr>\n",
              "    <tr>\n",
              "      <th>2</th>\n",
              "      <td>-122.48</td>\n",
              "      <td>37.73</td>\n",
              "      <td>38.0</td>\n",
              "      <td>3195.0</td>\n",
              "      <td>828.0</td>\n",
              "      <td>2410.0</td>\n",
              "      <td>778.0</td>\n",
              "      <td>3.1359</td>\n",
              "      <td>350000.0</td>\n",
              "      <td>NEAR OCEAN</td>\n",
              "    </tr>\n",
              "    <tr>\n",
              "      <th>3</th>\n",
              "      <td>-117.18</td>\n",
              "      <td>32.76</td>\n",
              "      <td>8.0</td>\n",
              "      <td>3694.0</td>\n",
              "      <td>997.0</td>\n",
              "      <td>1297.0</td>\n",
              "      <td>807.0</td>\n",
              "      <td>3.6492</td>\n",
              "      <td>158900.0</td>\n",
              "      <td>NEAR OCEAN</td>\n",
              "    </tr>\n",
              "    <tr>\n",
              "      <th>4</th>\n",
              "      <td>-117.15</td>\n",
              "      <td>33.14</td>\n",
              "      <td>15.0</td>\n",
              "      <td>1070.0</td>\n",
              "      <td>208.0</td>\n",
              "      <td>470.0</td>\n",
              "      <td>217.0</td>\n",
              "      <td>2.3062</td>\n",
              "      <td>158900.0</td>\n",
              "      <td>&lt;1H OCEAN</td>\n",
              "    </tr>\n",
              "  </tbody>\n",
              "</table>\n",
              "</div>"
            ],
            "text/plain": [
              "   longitude  latitude  ...  median_house_value  ocean_proximity\n",
              "0    -118.36     33.92  ...            229300.0        <1H OCEAN\n",
              "1    -118.41     34.19  ...            190700.0        <1H OCEAN\n",
              "2    -122.48     37.73  ...            350000.0       NEAR OCEAN\n",
              "3    -117.18     32.76  ...            158900.0       NEAR OCEAN\n",
              "4    -117.15     33.14  ...            158900.0        <1H OCEAN\n",
              "\n",
              "[5 rows x 10 columns]"
            ]
          },
          "metadata": {
            "tags": []
          },
          "execution_count": 63
        }
      ]
    },
    {
      "cell_type": "code",
      "metadata": {
        "id": "_XD-InX8am98",
        "colab_type": "code",
        "outputId": "ae69fcd7-8394-4a3d-dfbb-69e6e4bab19c",
        "colab": {
          "base_uri": "https://localhost:8080/",
          "height": 306
        }
      },
      "source": [
        "df_test.info() # Kiểm tra thông tin ban đầu dữ liệu (số dòng, số cột, kiểu dữ liệu của các cột)"
      ],
      "execution_count": 64,
      "outputs": [
        {
          "output_type": "stream",
          "text": [
            "<class 'pandas.core.frame.DataFrame'>\n",
            "RangeIndex: 4128 entries, 0 to 4127\n",
            "Data columns (total 10 columns):\n",
            " #   Column              Non-Null Count  Dtype  \n",
            "---  ------              --------------  -----  \n",
            " 0   longitude           4128 non-null   float64\n",
            " 1   latitude            4128 non-null   float64\n",
            " 2   housing_median_age  4128 non-null   float64\n",
            " 3   total_rooms         4128 non-null   float64\n",
            " 4   total_bedrooms      4098 non-null   float64\n",
            " 5   population          4128 non-null   float64\n",
            " 6   households          4128 non-null   float64\n",
            " 7   median_income       4128 non-null   float64\n",
            " 8   median_house_value  4128 non-null   float64\n",
            " 9   ocean_proximity     4128 non-null   object \n",
            "dtypes: float64(9), object(1)\n",
            "memory usage: 322.6+ KB\n"
          ],
          "name": "stdout"
        }
      ]
    },
    {
      "cell_type": "code",
      "metadata": {
        "id": "C2q-pVWjam-Q",
        "colab_type": "code",
        "outputId": "2b86444d-d93a-4882-aa8a-9892f0ae5134",
        "colab": {
          "base_uri": "https://localhost:8080/",
          "height": 224
        }
      },
      "source": [
        "df_test.head() # Quan sát nhanh 5 dòng dữ liệu đầu tiên"
      ],
      "execution_count": 65,
      "outputs": [
        {
          "output_type": "execute_result",
          "data": {
            "text/html": [
              "<div>\n",
              "<style scoped>\n",
              "    .dataframe tbody tr th:only-of-type {\n",
              "        vertical-align: middle;\n",
              "    }\n",
              "\n",
              "    .dataframe tbody tr th {\n",
              "        vertical-align: top;\n",
              "    }\n",
              "\n",
              "    .dataframe thead th {\n",
              "        text-align: right;\n",
              "    }\n",
              "</style>\n",
              "<table border=\"1\" class=\"dataframe\">\n",
              "  <thead>\n",
              "    <tr style=\"text-align: right;\">\n",
              "      <th></th>\n",
              "      <th>longitude</th>\n",
              "      <th>latitude</th>\n",
              "      <th>housing_median_age</th>\n",
              "      <th>total_rooms</th>\n",
              "      <th>total_bedrooms</th>\n",
              "      <th>population</th>\n",
              "      <th>households</th>\n",
              "      <th>median_income</th>\n",
              "      <th>median_house_value</th>\n",
              "      <th>ocean_proximity</th>\n",
              "    </tr>\n",
              "  </thead>\n",
              "  <tbody>\n",
              "    <tr>\n",
              "      <th>0</th>\n",
              "      <td>-122.41</td>\n",
              "      <td>37.65</td>\n",
              "      <td>32.0</td>\n",
              "      <td>3436.0</td>\n",
              "      <td>868.0</td>\n",
              "      <td>2583.0</td>\n",
              "      <td>817.0</td>\n",
              "      <td>3.5039</td>\n",
              "      <td>232400.0</td>\n",
              "      <td>NEAR OCEAN</td>\n",
              "    </tr>\n",
              "    <tr>\n",
              "      <th>1</th>\n",
              "      <td>-117.91</td>\n",
              "      <td>33.84</td>\n",
              "      <td>25.0</td>\n",
              "      <td>1021.0</td>\n",
              "      <td>252.0</td>\n",
              "      <td>975.0</td>\n",
              "      <td>258.0</td>\n",
              "      <td>3.1250</td>\n",
              "      <td>168100.0</td>\n",
              "      <td>&lt;1H OCEAN</td>\n",
              "    </tr>\n",
              "    <tr>\n",
              "      <th>2</th>\n",
              "      <td>-118.35</td>\n",
              "      <td>34.08</td>\n",
              "      <td>52.0</td>\n",
              "      <td>1801.0</td>\n",
              "      <td>313.0</td>\n",
              "      <td>714.0</td>\n",
              "      <td>293.0</td>\n",
              "      <td>4.6838</td>\n",
              "      <td>479000.0</td>\n",
              "      <td>&lt;1H OCEAN</td>\n",
              "    </tr>\n",
              "    <tr>\n",
              "      <th>3</th>\n",
              "      <td>-121.02</td>\n",
              "      <td>37.61</td>\n",
              "      <td>33.0</td>\n",
              "      <td>1469.0</td>\n",
              "      <td>370.0</td>\n",
              "      <td>1318.0</td>\n",
              "      <td>349.0</td>\n",
              "      <td>1.7104</td>\n",
              "      <td>59000.0</td>\n",
              "      <td>INLAND</td>\n",
              "    </tr>\n",
              "    <tr>\n",
              "      <th>4</th>\n",
              "      <td>-117.65</td>\n",
              "      <td>34.10</td>\n",
              "      <td>30.0</td>\n",
              "      <td>1461.0</td>\n",
              "      <td>341.0</td>\n",
              "      <td>1014.0</td>\n",
              "      <td>345.0</td>\n",
              "      <td>2.4667</td>\n",
              "      <td>106000.0</td>\n",
              "      <td>INLAND</td>\n",
              "    </tr>\n",
              "  </tbody>\n",
              "</table>\n",
              "</div>"
            ],
            "text/plain": [
              "   longitude  latitude  ...  median_house_value  ocean_proximity\n",
              "0    -122.41     37.65  ...            232400.0       NEAR OCEAN\n",
              "1    -117.91     33.84  ...            168100.0        <1H OCEAN\n",
              "2    -118.35     34.08  ...            479000.0        <1H OCEAN\n",
              "3    -121.02     37.61  ...             59000.0           INLAND\n",
              "4    -117.65     34.10  ...            106000.0           INLAND\n",
              "\n",
              "[5 rows x 10 columns]"
            ]
          },
          "metadata": {
            "tags": []
          },
          "execution_count": 65
        }
      ]
    },
    {
      "cell_type": "markdown",
      "metadata": {
        "id": "M8FD9S_iam-g",
        "colab_type": "text"
      },
      "source": [
        "# Tách thuộc tính \"median_house_value\" để làm thuộc tính cần dự đoán  cho bài toán hồi quy tuyến tính (Y), các thuộc tính còn lại là dữ kiện (X).\n",
        "* Lệnh ``df.drop()`` tham khảo tại trang sách số 63 sách tham khảo Hands-on Machine Learning with Scikit-Learn, Keras, and TensorFlow"
      ]
    },
    {
      "cell_type": "code",
      "metadata": {
        "id": "OQk2srnGam-i",
        "colab_type": "code",
        "colab": {}
      },
      "source": [
        "train_X = df_train.drop(\"median_house_value\", axis=1)\n",
        "train_Y = df_train[\"median_house_value\"].copy()\n",
        "# del df_train\n",
        "\n",
        "dev_X = df_dev.drop(\"median_house_value\", axis=1)\n",
        "dev_Y = df_dev[\"median_house_value\"].copy()\n",
        "# del df_dev\n",
        "\n",
        "test_X = df_test.drop(\"median_house_value\", axis=1)\n",
        "test_Y = df_test[\"median_house_value\"].copy()\n",
        "# del df_test"
      ],
      "execution_count": 0,
      "outputs": []
    },
    {
      "cell_type": "markdown",
      "metadata": {
        "id": "hskpKk5Iam-y",
        "colab_type": "text"
      },
      "source": [
        "# Kiểm tra các thuộc tính bị khuyết giá trị trong tập Train\n",
        "* Chúng ta có thể cả các lệnh ``df.isnull()`` hoặc ``df.isna()`` để chỉ giá trị bị khuyết (``True``) / không bị khuyết (``False``)\n",
        "* Chúng ta dùng tiếp lệnh ``arr.any(axis=1)`` để trả về các dòng chỉ chứa một cột có giá trị ``True``/``False`` nếu các cột chỉ cần tồn tại một thuộc tính ``True``\n",
        "* Chúng ta tính tổng các dòng kết quả trên bằng lệnh ``arr.sum(axis=0)`` sẽ biết được số trường hợp bị khuyết của mỗi thuộc tính"
      ]
    },
    {
      "cell_type": "code",
      "metadata": {
        "id": "y-9qyI3Nam-0",
        "colab_type": "code",
        "outputId": "2d87a38b-407d-47e9-c433-c3d18d6f1469",
        "colab": {
          "base_uri": "https://localhost:8080/",
          "height": 439
        }
      },
      "source": [
        "train_X.isnull()"
      ],
      "execution_count": 67,
      "outputs": [
        {
          "output_type": "execute_result",
          "data": {
            "text/html": [
              "<div>\n",
              "<style scoped>\n",
              "    .dataframe tbody tr th:only-of-type {\n",
              "        vertical-align: middle;\n",
              "    }\n",
              "\n",
              "    .dataframe tbody tr th {\n",
              "        vertical-align: top;\n",
              "    }\n",
              "\n",
              "    .dataframe thead th {\n",
              "        text-align: right;\n",
              "    }\n",
              "</style>\n",
              "<table border=\"1\" class=\"dataframe\">\n",
              "  <thead>\n",
              "    <tr style=\"text-align: right;\">\n",
              "      <th></th>\n",
              "      <th>longitude</th>\n",
              "      <th>latitude</th>\n",
              "      <th>housing_median_age</th>\n",
              "      <th>total_rooms</th>\n",
              "      <th>total_bedrooms</th>\n",
              "      <th>population</th>\n",
              "      <th>households</th>\n",
              "      <th>median_income</th>\n",
              "      <th>ocean_proximity</th>\n",
              "    </tr>\n",
              "  </thead>\n",
              "  <tbody>\n",
              "    <tr>\n",
              "      <th>0</th>\n",
              "      <td>False</td>\n",
              "      <td>False</td>\n",
              "      <td>False</td>\n",
              "      <td>False</td>\n",
              "      <td>False</td>\n",
              "      <td>False</td>\n",
              "      <td>False</td>\n",
              "      <td>False</td>\n",
              "      <td>False</td>\n",
              "    </tr>\n",
              "    <tr>\n",
              "      <th>1</th>\n",
              "      <td>False</td>\n",
              "      <td>False</td>\n",
              "      <td>False</td>\n",
              "      <td>False</td>\n",
              "      <td>False</td>\n",
              "      <td>False</td>\n",
              "      <td>False</td>\n",
              "      <td>False</td>\n",
              "      <td>False</td>\n",
              "    </tr>\n",
              "    <tr>\n",
              "      <th>2</th>\n",
              "      <td>False</td>\n",
              "      <td>False</td>\n",
              "      <td>False</td>\n",
              "      <td>False</td>\n",
              "      <td>False</td>\n",
              "      <td>False</td>\n",
              "      <td>False</td>\n",
              "      <td>False</td>\n",
              "      <td>False</td>\n",
              "    </tr>\n",
              "    <tr>\n",
              "      <th>3</th>\n",
              "      <td>False</td>\n",
              "      <td>False</td>\n",
              "      <td>False</td>\n",
              "      <td>False</td>\n",
              "      <td>False</td>\n",
              "      <td>False</td>\n",
              "      <td>False</td>\n",
              "      <td>False</td>\n",
              "      <td>False</td>\n",
              "    </tr>\n",
              "    <tr>\n",
              "      <th>4</th>\n",
              "      <td>False</td>\n",
              "      <td>False</td>\n",
              "      <td>False</td>\n",
              "      <td>False</td>\n",
              "      <td>False</td>\n",
              "      <td>False</td>\n",
              "      <td>False</td>\n",
              "      <td>False</td>\n",
              "      <td>False</td>\n",
              "    </tr>\n",
              "    <tr>\n",
              "      <th>...</th>\n",
              "      <td>...</td>\n",
              "      <td>...</td>\n",
              "      <td>...</td>\n",
              "      <td>...</td>\n",
              "      <td>...</td>\n",
              "      <td>...</td>\n",
              "      <td>...</td>\n",
              "      <td>...</td>\n",
              "      <td>...</td>\n",
              "    </tr>\n",
              "    <tr>\n",
              "      <th>14442</th>\n",
              "      <td>False</td>\n",
              "      <td>False</td>\n",
              "      <td>False</td>\n",
              "      <td>False</td>\n",
              "      <td>False</td>\n",
              "      <td>False</td>\n",
              "      <td>False</td>\n",
              "      <td>False</td>\n",
              "      <td>False</td>\n",
              "    </tr>\n",
              "    <tr>\n",
              "      <th>14443</th>\n",
              "      <td>False</td>\n",
              "      <td>False</td>\n",
              "      <td>False</td>\n",
              "      <td>False</td>\n",
              "      <td>False</td>\n",
              "      <td>False</td>\n",
              "      <td>False</td>\n",
              "      <td>False</td>\n",
              "      <td>False</td>\n",
              "    </tr>\n",
              "    <tr>\n",
              "      <th>14444</th>\n",
              "      <td>False</td>\n",
              "      <td>False</td>\n",
              "      <td>False</td>\n",
              "      <td>False</td>\n",
              "      <td>False</td>\n",
              "      <td>False</td>\n",
              "      <td>False</td>\n",
              "      <td>False</td>\n",
              "      <td>False</td>\n",
              "    </tr>\n",
              "    <tr>\n",
              "      <th>14445</th>\n",
              "      <td>False</td>\n",
              "      <td>False</td>\n",
              "      <td>False</td>\n",
              "      <td>False</td>\n",
              "      <td>False</td>\n",
              "      <td>False</td>\n",
              "      <td>False</td>\n",
              "      <td>False</td>\n",
              "      <td>False</td>\n",
              "    </tr>\n",
              "    <tr>\n",
              "      <th>14446</th>\n",
              "      <td>False</td>\n",
              "      <td>False</td>\n",
              "      <td>False</td>\n",
              "      <td>False</td>\n",
              "      <td>False</td>\n",
              "      <td>False</td>\n",
              "      <td>False</td>\n",
              "      <td>False</td>\n",
              "      <td>False</td>\n",
              "    </tr>\n",
              "  </tbody>\n",
              "</table>\n",
              "<p>14447 rows × 9 columns</p>\n",
              "</div>"
            ],
            "text/plain": [
              "       longitude  latitude  ...  median_income  ocean_proximity\n",
              "0          False     False  ...          False            False\n",
              "1          False     False  ...          False            False\n",
              "2          False     False  ...          False            False\n",
              "3          False     False  ...          False            False\n",
              "4          False     False  ...          False            False\n",
              "...          ...       ...  ...            ...              ...\n",
              "14442      False     False  ...          False            False\n",
              "14443      False     False  ...          False            False\n",
              "14444      False     False  ...          False            False\n",
              "14445      False     False  ...          False            False\n",
              "14446      False     False  ...          False            False\n",
              "\n",
              "[14447 rows x 9 columns]"
            ]
          },
          "metadata": {
            "tags": []
          },
          "execution_count": 67
        }
      ]
    },
    {
      "cell_type": "code",
      "metadata": {
        "id": "XdMcYQjOam_N",
        "colab_type": "code",
        "outputId": "6f2ddfb0-2c07-4b0a-cb21-abe0af5df9b4",
        "colab": {
          "base_uri": "https://localhost:8080/",
          "height": 221
        }
      },
      "source": [
        "train_X.isnull().any(axis=1)\n",
        "# train_X.isna().any(axis=1)"
      ],
      "execution_count": 68,
      "outputs": [
        {
          "output_type": "execute_result",
          "data": {
            "text/plain": [
              "0        False\n",
              "1        False\n",
              "2        False\n",
              "3        False\n",
              "4        False\n",
              "         ...  \n",
              "14442    False\n",
              "14443    False\n",
              "14444    False\n",
              "14445    False\n",
              "14446    False\n",
              "Length: 14447, dtype: bool"
            ]
          },
          "metadata": {
            "tags": []
          },
          "execution_count": 68
        }
      ]
    },
    {
      "cell_type": "code",
      "metadata": {
        "id": "zNWKkT6iam_h",
        "colab_type": "code",
        "outputId": "1e26a5a1-43af-4c35-c318-0091d78c6d54",
        "colab": {
          "base_uri": "https://localhost:8080/",
          "height": 439
        }
      },
      "source": [
        "train_X[train_X.isnull().any(axis=1)]\n",
        "# train_X[train_X.isna().any(axis=1)]"
      ],
      "execution_count": 69,
      "outputs": [
        {
          "output_type": "execute_result",
          "data": {
            "text/html": [
              "<div>\n",
              "<style scoped>\n",
              "    .dataframe tbody tr th:only-of-type {\n",
              "        vertical-align: middle;\n",
              "    }\n",
              "\n",
              "    .dataframe tbody tr th {\n",
              "        vertical-align: top;\n",
              "    }\n",
              "\n",
              "    .dataframe thead th {\n",
              "        text-align: right;\n",
              "    }\n",
              "</style>\n",
              "<table border=\"1\" class=\"dataframe\">\n",
              "  <thead>\n",
              "    <tr style=\"text-align: right;\">\n",
              "      <th></th>\n",
              "      <th>longitude</th>\n",
              "      <th>latitude</th>\n",
              "      <th>housing_median_age</th>\n",
              "      <th>total_rooms</th>\n",
              "      <th>total_bedrooms</th>\n",
              "      <th>population</th>\n",
              "      <th>households</th>\n",
              "      <th>median_income</th>\n",
              "      <th>ocean_proximity</th>\n",
              "    </tr>\n",
              "  </thead>\n",
              "  <tbody>\n",
              "    <tr>\n",
              "      <th>41</th>\n",
              "      <td>-124.00</td>\n",
              "      <td>40.92</td>\n",
              "      <td>29.0</td>\n",
              "      <td>1429.0</td>\n",
              "      <td>NaN</td>\n",
              "      <td>672.0</td>\n",
              "      <td>266.0</td>\n",
              "      <td>2.9485</td>\n",
              "      <td>&lt;1H OCEAN</td>\n",
              "    </tr>\n",
              "    <tr>\n",
              "      <th>204</th>\n",
              "      <td>-120.97</td>\n",
              "      <td>37.43</td>\n",
              "      <td>27.0</td>\n",
              "      <td>1380.0</td>\n",
              "      <td>NaN</td>\n",
              "      <td>810.0</td>\n",
              "      <td>262.0</td>\n",
              "      <td>2.1875</td>\n",
              "      <td>INLAND</td>\n",
              "    </tr>\n",
              "    <tr>\n",
              "      <th>403</th>\n",
              "      <td>-118.27</td>\n",
              "      <td>34.07</td>\n",
              "      <td>27.0</td>\n",
              "      <td>1190.0</td>\n",
              "      <td>NaN</td>\n",
              "      <td>1795.0</td>\n",
              "      <td>422.0</td>\n",
              "      <td>1.7016</td>\n",
              "      <td>&lt;1H OCEAN</td>\n",
              "    </tr>\n",
              "    <tr>\n",
              "      <th>413</th>\n",
              "      <td>-119.45</td>\n",
              "      <td>36.61</td>\n",
              "      <td>24.0</td>\n",
              "      <td>1302.0</td>\n",
              "      <td>NaN</td>\n",
              "      <td>693.0</td>\n",
              "      <td>243.0</td>\n",
              "      <td>3.7917</td>\n",
              "      <td>INLAND</td>\n",
              "    </tr>\n",
              "    <tr>\n",
              "      <th>586</th>\n",
              "      <td>-121.30</td>\n",
              "      <td>38.58</td>\n",
              "      <td>16.0</td>\n",
              "      <td>1537.0</td>\n",
              "      <td>NaN</td>\n",
              "      <td>1125.0</td>\n",
              "      <td>375.0</td>\n",
              "      <td>2.6471</td>\n",
              "      <td>INLAND</td>\n",
              "    </tr>\n",
              "    <tr>\n",
              "      <th>...</th>\n",
              "      <td>...</td>\n",
              "      <td>...</td>\n",
              "      <td>...</td>\n",
              "      <td>...</td>\n",
              "      <td>...</td>\n",
              "      <td>...</td>\n",
              "      <td>...</td>\n",
              "      <td>...</td>\n",
              "      <td>...</td>\n",
              "    </tr>\n",
              "    <tr>\n",
              "      <th>13865</th>\n",
              "      <td>-121.75</td>\n",
              "      <td>37.11</td>\n",
              "      <td>18.0</td>\n",
              "      <td>3167.0</td>\n",
              "      <td>NaN</td>\n",
              "      <td>1414.0</td>\n",
              "      <td>482.0</td>\n",
              "      <td>6.8773</td>\n",
              "      <td>&lt;1H OCEAN</td>\n",
              "    </tr>\n",
              "    <tr>\n",
              "      <th>13918</th>\n",
              "      <td>-118.10</td>\n",
              "      <td>33.74</td>\n",
              "      <td>32.0</td>\n",
              "      <td>2035.0</td>\n",
              "      <td>NaN</td>\n",
              "      <td>934.0</td>\n",
              "      <td>512.0</td>\n",
              "      <td>4.2287</td>\n",
              "      <td>NEAR OCEAN</td>\n",
              "    </tr>\n",
              "    <tr>\n",
              "      <th>14004</th>\n",
              "      <td>-122.08</td>\n",
              "      <td>37.37</td>\n",
              "      <td>29.0</td>\n",
              "      <td>1229.0</td>\n",
              "      <td>NaN</td>\n",
              "      <td>707.0</td>\n",
              "      <td>194.0</td>\n",
              "      <td>7.1108</td>\n",
              "      <td>NEAR BAY</td>\n",
              "    </tr>\n",
              "    <tr>\n",
              "      <th>14168</th>\n",
              "      <td>-119.38</td>\n",
              "      <td>36.53</td>\n",
              "      <td>38.0</td>\n",
              "      <td>1281.0</td>\n",
              "      <td>NaN</td>\n",
              "      <td>1423.0</td>\n",
              "      <td>293.0</td>\n",
              "      <td>1.9602</td>\n",
              "      <td>INLAND</td>\n",
              "    </tr>\n",
              "    <tr>\n",
              "      <th>14371</th>\n",
              "      <td>-117.91</td>\n",
              "      <td>33.87</td>\n",
              "      <td>29.0</td>\n",
              "      <td>1121.0</td>\n",
              "      <td>NaN</td>\n",
              "      <td>762.0</td>\n",
              "      <td>276.0</td>\n",
              "      <td>2.5000</td>\n",
              "      <td>&lt;1H OCEAN</td>\n",
              "    </tr>\n",
              "  </tbody>\n",
              "</table>\n",
              "<p>160 rows × 9 columns</p>\n",
              "</div>"
            ],
            "text/plain": [
              "       longitude  latitude  ...  median_income  ocean_proximity\n",
              "41       -124.00     40.92  ...         2.9485        <1H OCEAN\n",
              "204      -120.97     37.43  ...         2.1875           INLAND\n",
              "403      -118.27     34.07  ...         1.7016        <1H OCEAN\n",
              "413      -119.45     36.61  ...         3.7917           INLAND\n",
              "586      -121.30     38.58  ...         2.6471           INLAND\n",
              "...          ...       ...  ...            ...              ...\n",
              "13865    -121.75     37.11  ...         6.8773        <1H OCEAN\n",
              "13918    -118.10     33.74  ...         4.2287       NEAR OCEAN\n",
              "14004    -122.08     37.37  ...         7.1108         NEAR BAY\n",
              "14168    -119.38     36.53  ...         1.9602           INLAND\n",
              "14371    -117.91     33.87  ...         2.5000        <1H OCEAN\n",
              "\n",
              "[160 rows x 9 columns]"
            ]
          },
          "metadata": {
            "tags": []
          },
          "execution_count": 69
        }
      ]
    },
    {
      "cell_type": "code",
      "metadata": {
        "id": "_r5VFND0am_v",
        "colab_type": "code",
        "outputId": "50222faa-9f06-4ab6-fc8d-25341d7aa1c6",
        "colab": {
          "base_uri": "https://localhost:8080/",
          "height": 187
        }
      },
      "source": [
        "train_X.isnull().sum(axis = 0)\n",
        "# train_X.isna().sum(axis = 0)"
      ],
      "execution_count": 70,
      "outputs": [
        {
          "output_type": "execute_result",
          "data": {
            "text/plain": [
              "longitude               0\n",
              "latitude                0\n",
              "housing_median_age      0\n",
              "total_rooms             0\n",
              "total_bedrooms        160\n",
              "population              0\n",
              "households              0\n",
              "median_income           0\n",
              "ocean_proximity         0\n",
              "dtype: int64"
            ]
          },
          "metadata": {
            "tags": []
          },
          "execution_count": 70
        }
      ]
    },
    {
      "cell_type": "markdown",
      "metadata": {
        "id": "HcIvk4Ksam_8",
        "colab_type": "text"
      },
      "source": [
        "# Xử lý các cột bị khuyết dữ liệu trên tập Train\n",
        "1. Phương án 1: Xóa toàn bộ một dòng có cột dữ liệu bị khuyết\n",
        "2. Phương án 2: Thay thế giá trị số bằng cách dùng trung bình cộng (``mean``) của toàn cột dữ liệu đó\n",
        "    * Cách xử lý 1: Dùng lớp ``SimpleImputer`` từ thư viện ``sklearn.impute``\n",
        "    * Cách xử lý 2: Cách hai thực hiện một số thao tác trên cột\n",
        "\n",
        "Các bạn có thể tham khảo tại trang số 63 sách Hands-on Machine Learning with Scikit-Learn, Keras, and TensorFlow"
      ]
    },
    {
      "cell_type": "code",
      "metadata": {
        "id": "TN0AAoY7am__",
        "colab_type": "code",
        "colab": {}
      },
      "source": [
        "# Cách 1:\n",
        "imputer_mean = SimpleImputer(missing_values=np.nan, strategy='mean')\n",
        "imputer_mean.fit(train_X[\"total_bedrooms\"].values.reshape(-1, 1))\n",
        "tmp_total_bedrooms = imputer_mean.transform(train_X['total_bedrooms'].values.reshape(-1, 1))"
      ],
      "execution_count": 0,
      "outputs": []
    },
    {
      "cell_type": "code",
      "metadata": {
        "id": "ZjspAv7NanAJ",
        "colab_type": "code",
        "outputId": "578b2da4-5349-442d-bb61-6a265f4605ed",
        "colab": {
          "base_uri": "https://localhost:8080/",
          "height": 221
        }
      },
      "source": [
        "# Cách 2:\n",
        "idx_null = train_X[\"total_bedrooms\"].isnull() # kiểm tra giá trị khuyết\n",
        "mean_total_bedrooms = train_X[\"total_bedrooms\"][train_X[\"total_bedrooms\"].isna() == False].mean() # tính trung bình cộng các giá trị không bị khuyết\n",
        "train_X[\"total_bedrooms\"].fillna(mean_total_bedrooms, inplace=True) # thay thế các dòng không bị khuyết bởi giá trị trung bình\n",
        "print(train_X[\"total_bedrooms\"][idx_null == True]) # in ra màn hình giá trị các dòng bị khuyết ban đầu để kiểm tra"
      ],
      "execution_count": 72,
      "outputs": [
        {
          "output_type": "stream",
          "text": [
            "41       538.66578\n",
            "204      538.66578\n",
            "403      538.66578\n",
            "413      538.66578\n",
            "586      538.66578\n",
            "           ...    \n",
            "13865    538.66578\n",
            "13918    538.66578\n",
            "14004    538.66578\n",
            "14168    538.66578\n",
            "14371    538.66578\n",
            "Name: total_bedrooms, Length: 160, dtype: float64\n"
          ],
          "name": "stdout"
        }
      ]
    },
    {
      "cell_type": "code",
      "metadata": {
        "id": "ok1NF6EcanAV",
        "colab_type": "code",
        "outputId": "6aa25e8b-158b-42c9-85f2-c3c8b1c9a02a",
        "colab": {
          "base_uri": "https://localhost:8080/",
          "height": 51
        }
      },
      "source": [
        "print((train_X[\"total_bedrooms\"] == tmp_total_bedrooms.squeeze()).all()) # Kiểm tra kết quả Cách 1 và Cách 2 có giống nhau hay không?\n",
        "\n",
        "print((train_X[\"total_bedrooms\"].isna() == False).all()) # Kiểm tra kết quả sau khi áp dụng Cách 2 còn giá trị nào bị khuyết hay không?"
      ],
      "execution_count": 73,
      "outputs": [
        {
          "output_type": "stream",
          "text": [
            "True\n",
            "True\n"
          ],
          "name": "stdout"
        }
      ]
    },
    {
      "cell_type": "markdown",
      "metadata": {
        "id": "_GhC0l8ZanAl",
        "colab_type": "text"
      },
      "source": [
        "# Yêu cầu 1: Xử lý các cột bị khuyết dữ liệu trên tập Dev/Test"
      ]
    },
    {
      "cell_type": "markdown",
      "metadata": {
        "id": "9IJvbs5GH6Jf",
        "colab_type": "text"
      },
      "source": [
        "### Xử lí development set "
      ]
    },
    {
      "cell_type": "code",
      "metadata": {
        "id": "Kf5vSF9ganAo",
        "colab_type": "code",
        "outputId": "df3a217c-5532-4f3d-b048-0a92ea99db5d",
        "colab": {
          "base_uri": "https://localhost:8080/",
          "height": 439
        }
      },
      "source": [
        "# Take a look at empty element \n",
        "dev_X.isnull()"
      ],
      "execution_count": 74,
      "outputs": [
        {
          "output_type": "execute_result",
          "data": {
            "text/html": [
              "<div>\n",
              "<style scoped>\n",
              "    .dataframe tbody tr th:only-of-type {\n",
              "        vertical-align: middle;\n",
              "    }\n",
              "\n",
              "    .dataframe tbody tr th {\n",
              "        vertical-align: top;\n",
              "    }\n",
              "\n",
              "    .dataframe thead th {\n",
              "        text-align: right;\n",
              "    }\n",
              "</style>\n",
              "<table border=\"1\" class=\"dataframe\">\n",
              "  <thead>\n",
              "    <tr style=\"text-align: right;\">\n",
              "      <th></th>\n",
              "      <th>longitude</th>\n",
              "      <th>latitude</th>\n",
              "      <th>housing_median_age</th>\n",
              "      <th>total_rooms</th>\n",
              "      <th>total_bedrooms</th>\n",
              "      <th>population</th>\n",
              "      <th>households</th>\n",
              "      <th>median_income</th>\n",
              "      <th>ocean_proximity</th>\n",
              "    </tr>\n",
              "  </thead>\n",
              "  <tbody>\n",
              "    <tr>\n",
              "      <th>0</th>\n",
              "      <td>False</td>\n",
              "      <td>False</td>\n",
              "      <td>False</td>\n",
              "      <td>False</td>\n",
              "      <td>False</td>\n",
              "      <td>False</td>\n",
              "      <td>False</td>\n",
              "      <td>False</td>\n",
              "      <td>False</td>\n",
              "    </tr>\n",
              "    <tr>\n",
              "      <th>1</th>\n",
              "      <td>False</td>\n",
              "      <td>False</td>\n",
              "      <td>False</td>\n",
              "      <td>False</td>\n",
              "      <td>False</td>\n",
              "      <td>False</td>\n",
              "      <td>False</td>\n",
              "      <td>False</td>\n",
              "      <td>False</td>\n",
              "    </tr>\n",
              "    <tr>\n",
              "      <th>2</th>\n",
              "      <td>False</td>\n",
              "      <td>False</td>\n",
              "      <td>False</td>\n",
              "      <td>False</td>\n",
              "      <td>False</td>\n",
              "      <td>False</td>\n",
              "      <td>False</td>\n",
              "      <td>False</td>\n",
              "      <td>False</td>\n",
              "    </tr>\n",
              "    <tr>\n",
              "      <th>3</th>\n",
              "      <td>False</td>\n",
              "      <td>False</td>\n",
              "      <td>False</td>\n",
              "      <td>False</td>\n",
              "      <td>False</td>\n",
              "      <td>False</td>\n",
              "      <td>False</td>\n",
              "      <td>False</td>\n",
              "      <td>False</td>\n",
              "    </tr>\n",
              "    <tr>\n",
              "      <th>4</th>\n",
              "      <td>False</td>\n",
              "      <td>False</td>\n",
              "      <td>False</td>\n",
              "      <td>False</td>\n",
              "      <td>False</td>\n",
              "      <td>False</td>\n",
              "      <td>False</td>\n",
              "      <td>False</td>\n",
              "      <td>False</td>\n",
              "    </tr>\n",
              "    <tr>\n",
              "      <th>...</th>\n",
              "      <td>...</td>\n",
              "      <td>...</td>\n",
              "      <td>...</td>\n",
              "      <td>...</td>\n",
              "      <td>...</td>\n",
              "      <td>...</td>\n",
              "      <td>...</td>\n",
              "      <td>...</td>\n",
              "      <td>...</td>\n",
              "    </tr>\n",
              "    <tr>\n",
              "      <th>2060</th>\n",
              "      <td>False</td>\n",
              "      <td>False</td>\n",
              "      <td>False</td>\n",
              "      <td>False</td>\n",
              "      <td>False</td>\n",
              "      <td>False</td>\n",
              "      <td>False</td>\n",
              "      <td>False</td>\n",
              "      <td>False</td>\n",
              "    </tr>\n",
              "    <tr>\n",
              "      <th>2061</th>\n",
              "      <td>False</td>\n",
              "      <td>False</td>\n",
              "      <td>False</td>\n",
              "      <td>False</td>\n",
              "      <td>False</td>\n",
              "      <td>False</td>\n",
              "      <td>False</td>\n",
              "      <td>False</td>\n",
              "      <td>False</td>\n",
              "    </tr>\n",
              "    <tr>\n",
              "      <th>2062</th>\n",
              "      <td>False</td>\n",
              "      <td>False</td>\n",
              "      <td>False</td>\n",
              "      <td>False</td>\n",
              "      <td>False</td>\n",
              "      <td>False</td>\n",
              "      <td>False</td>\n",
              "      <td>False</td>\n",
              "      <td>False</td>\n",
              "    </tr>\n",
              "    <tr>\n",
              "      <th>2063</th>\n",
              "      <td>False</td>\n",
              "      <td>False</td>\n",
              "      <td>False</td>\n",
              "      <td>False</td>\n",
              "      <td>False</td>\n",
              "      <td>False</td>\n",
              "      <td>False</td>\n",
              "      <td>False</td>\n",
              "      <td>False</td>\n",
              "    </tr>\n",
              "    <tr>\n",
              "      <th>2064</th>\n",
              "      <td>False</td>\n",
              "      <td>False</td>\n",
              "      <td>False</td>\n",
              "      <td>False</td>\n",
              "      <td>False</td>\n",
              "      <td>False</td>\n",
              "      <td>False</td>\n",
              "      <td>False</td>\n",
              "      <td>False</td>\n",
              "    </tr>\n",
              "  </tbody>\n",
              "</table>\n",
              "<p>2065 rows × 9 columns</p>\n",
              "</div>"
            ],
            "text/plain": [
              "      longitude  latitude  ...  median_income  ocean_proximity\n",
              "0         False     False  ...          False            False\n",
              "1         False     False  ...          False            False\n",
              "2         False     False  ...          False            False\n",
              "3         False     False  ...          False            False\n",
              "4         False     False  ...          False            False\n",
              "...         ...       ...  ...            ...              ...\n",
              "2060      False     False  ...          False            False\n",
              "2061      False     False  ...          False            False\n",
              "2062      False     False  ...          False            False\n",
              "2063      False     False  ...          False            False\n",
              "2064      False     False  ...          False            False\n",
              "\n",
              "[2065 rows x 9 columns]"
            ]
          },
          "metadata": {
            "tags": []
          },
          "execution_count": 74
        }
      ]
    },
    {
      "cell_type": "code",
      "metadata": {
        "id": "H_oxUNpXanA0",
        "colab_type": "code",
        "outputId": "a7662b42-042f-40cd-97b2-d6ef4f91c89a",
        "colab": {
          "base_uri": "https://localhost:8080/",
          "height": 221
        }
      },
      "source": [
        "#Return row-only that has empty element\n",
        "dev_X.isnull().any(axis = 1)"
      ],
      "execution_count": 75,
      "outputs": [
        {
          "output_type": "execute_result",
          "data": {
            "text/plain": [
              "0       False\n",
              "1       False\n",
              "2       False\n",
              "3       False\n",
              "4       False\n",
              "        ...  \n",
              "2060    False\n",
              "2061    False\n",
              "2062    False\n",
              "2063    False\n",
              "2064    False\n",
              "Length: 2065, dtype: bool"
            ]
          },
          "metadata": {
            "tags": []
          },
          "execution_count": 75
        }
      ]
    },
    {
      "cell_type": "code",
      "metadata": {
        "id": "hwi8kl6NanA6",
        "colab_type": "code",
        "outputId": "da37a229-d350-4660-f688-a2b97a919fed",
        "colab": {
          "base_uri": "https://localhost:8080/",
          "height": 596
        }
      },
      "source": [
        "#Return empty row elements (also their attribute)\n",
        "dev_X[dev_X.isnull().any(axis = 1)]"
      ],
      "execution_count": 76,
      "outputs": [
        {
          "output_type": "execute_result",
          "data": {
            "text/html": [
              "<div>\n",
              "<style scoped>\n",
              "    .dataframe tbody tr th:only-of-type {\n",
              "        vertical-align: middle;\n",
              "    }\n",
              "\n",
              "    .dataframe tbody tr th {\n",
              "        vertical-align: top;\n",
              "    }\n",
              "\n",
              "    .dataframe thead th {\n",
              "        text-align: right;\n",
              "    }\n",
              "</style>\n",
              "<table border=\"1\" class=\"dataframe\">\n",
              "  <thead>\n",
              "    <tr style=\"text-align: right;\">\n",
              "      <th></th>\n",
              "      <th>longitude</th>\n",
              "      <th>latitude</th>\n",
              "      <th>housing_median_age</th>\n",
              "      <th>total_rooms</th>\n",
              "      <th>total_bedrooms</th>\n",
              "      <th>population</th>\n",
              "      <th>households</th>\n",
              "      <th>median_income</th>\n",
              "      <th>ocean_proximity</th>\n",
              "    </tr>\n",
              "  </thead>\n",
              "  <tbody>\n",
              "    <tr>\n",
              "      <th>91</th>\n",
              "      <td>-122.48</td>\n",
              "      <td>37.70</td>\n",
              "      <td>33.0</td>\n",
              "      <td>4492.0</td>\n",
              "      <td>NaN</td>\n",
              "      <td>3477.0</td>\n",
              "      <td>1537.0</td>\n",
              "      <td>3.0546</td>\n",
              "      <td>NEAR OCEAN</td>\n",
              "    </tr>\n",
              "    <tr>\n",
              "      <th>234</th>\n",
              "      <td>-122.38</td>\n",
              "      <td>37.73</td>\n",
              "      <td>40.0</td>\n",
              "      <td>543.0</td>\n",
              "      <td>NaN</td>\n",
              "      <td>259.0</td>\n",
              "      <td>89.0</td>\n",
              "      <td>2.2167</td>\n",
              "      <td>NEAR BAY</td>\n",
              "    </tr>\n",
              "    <tr>\n",
              "      <th>264</th>\n",
              "      <td>-118.16</td>\n",
              "      <td>34.01</td>\n",
              "      <td>40.0</td>\n",
              "      <td>1552.0</td>\n",
              "      <td>NaN</td>\n",
              "      <td>1919.0</td>\n",
              "      <td>427.0</td>\n",
              "      <td>2.2596</td>\n",
              "      <td>&lt;1H OCEAN</td>\n",
              "    </tr>\n",
              "    <tr>\n",
              "      <th>365</th>\n",
              "      <td>-119.30</td>\n",
              "      <td>36.57</td>\n",
              "      <td>32.0</td>\n",
              "      <td>728.0</td>\n",
              "      <td>NaN</td>\n",
              "      <td>461.0</td>\n",
              "      <td>149.0</td>\n",
              "      <td>3.0156</td>\n",
              "      <td>INLAND</td>\n",
              "    </tr>\n",
              "    <tr>\n",
              "      <th>405</th>\n",
              "      <td>-117.64</td>\n",
              "      <td>33.45</td>\n",
              "      <td>26.0</td>\n",
              "      <td>1528.0</td>\n",
              "      <td>NaN</td>\n",
              "      <td>607.0</td>\n",
              "      <td>218.0</td>\n",
              "      <td>6.2871</td>\n",
              "      <td>NEAR OCEAN</td>\n",
              "    </tr>\n",
              "    <tr>\n",
              "      <th>734</th>\n",
              "      <td>-117.09</td>\n",
              "      <td>32.77</td>\n",
              "      <td>31.0</td>\n",
              "      <td>3062.0</td>\n",
              "      <td>NaN</td>\n",
              "      <td>1263.0</td>\n",
              "      <td>539.0</td>\n",
              "      <td>3.0875</td>\n",
              "      <td>NEAR OCEAN</td>\n",
              "    </tr>\n",
              "    <tr>\n",
              "      <th>830</th>\n",
              "      <td>-118.25</td>\n",
              "      <td>33.94</td>\n",
              "      <td>43.0</td>\n",
              "      <td>793.0</td>\n",
              "      <td>NaN</td>\n",
              "      <td>736.0</td>\n",
              "      <td>231.0</td>\n",
              "      <td>0.8527</td>\n",
              "      <td>&lt;1H OCEAN</td>\n",
              "    </tr>\n",
              "    <tr>\n",
              "      <th>868</th>\n",
              "      <td>-118.18</td>\n",
              "      <td>34.19</td>\n",
              "      <td>48.0</td>\n",
              "      <td>1371.0</td>\n",
              "      <td>NaN</td>\n",
              "      <td>528.0</td>\n",
              "      <td>155.0</td>\n",
              "      <td>15.0001</td>\n",
              "      <td>&lt;1H OCEAN</td>\n",
              "    </tr>\n",
              "    <tr>\n",
              "      <th>1246</th>\n",
              "      <td>-119.78</td>\n",
              "      <td>36.82</td>\n",
              "      <td>25.0</td>\n",
              "      <td>5016.0</td>\n",
              "      <td>NaN</td>\n",
              "      <td>2133.0</td>\n",
              "      <td>928.0</td>\n",
              "      <td>3.6250</td>\n",
              "      <td>INLAND</td>\n",
              "    </tr>\n",
              "    <tr>\n",
              "      <th>1290</th>\n",
              "      <td>-122.01</td>\n",
              "      <td>37.94</td>\n",
              "      <td>23.0</td>\n",
              "      <td>3741.0</td>\n",
              "      <td>NaN</td>\n",
              "      <td>1339.0</td>\n",
              "      <td>499.0</td>\n",
              "      <td>6.7061</td>\n",
              "      <td>NEAR BAY</td>\n",
              "    </tr>\n",
              "    <tr>\n",
              "      <th>1301</th>\n",
              "      <td>-117.87</td>\n",
              "      <td>33.83</td>\n",
              "      <td>27.0</td>\n",
              "      <td>2287.0</td>\n",
              "      <td>NaN</td>\n",
              "      <td>1140.0</td>\n",
              "      <td>351.0</td>\n",
              "      <td>5.6163</td>\n",
              "      <td>&lt;1H OCEAN</td>\n",
              "    </tr>\n",
              "    <tr>\n",
              "      <th>1618</th>\n",
              "      <td>-117.30</td>\n",
              "      <td>34.05</td>\n",
              "      <td>6.0</td>\n",
              "      <td>2155.0</td>\n",
              "      <td>NaN</td>\n",
              "      <td>1039.0</td>\n",
              "      <td>391.0</td>\n",
              "      <td>1.6675</td>\n",
              "      <td>INLAND</td>\n",
              "    </tr>\n",
              "    <tr>\n",
              "      <th>1845</th>\n",
              "      <td>-118.09</td>\n",
              "      <td>33.89</td>\n",
              "      <td>42.0</td>\n",
              "      <td>991.0</td>\n",
              "      <td>NaN</td>\n",
              "      <td>717.0</td>\n",
              "      <td>219.0</td>\n",
              "      <td>4.0926</td>\n",
              "      <td>&lt;1H OCEAN</td>\n",
              "    </tr>\n",
              "    <tr>\n",
              "      <th>1904</th>\n",
              "      <td>-117.98</td>\n",
              "      <td>33.73</td>\n",
              "      <td>18.0</td>\n",
              "      <td>3833.0</td>\n",
              "      <td>NaN</td>\n",
              "      <td>2192.0</td>\n",
              "      <td>996.0</td>\n",
              "      <td>3.4679</td>\n",
              "      <td>&lt;1H OCEAN</td>\n",
              "    </tr>\n",
              "    <tr>\n",
              "      <th>1905</th>\n",
              "      <td>-120.61</td>\n",
              "      <td>37.36</td>\n",
              "      <td>16.0</td>\n",
              "      <td>638.0</td>\n",
              "      <td>NaN</td>\n",
              "      <td>380.0</td>\n",
              "      <td>132.0</td>\n",
              "      <td>1.9135</td>\n",
              "      <td>INLAND</td>\n",
              "    </tr>\n",
              "    <tr>\n",
              "      <th>1954</th>\n",
              "      <td>-117.97</td>\n",
              "      <td>34.06</td>\n",
              "      <td>31.0</td>\n",
              "      <td>2516.0</td>\n",
              "      <td>NaN</td>\n",
              "      <td>2194.0</td>\n",
              "      <td>497.0</td>\n",
              "      <td>3.2413</td>\n",
              "      <td>&lt;1H OCEAN</td>\n",
              "    </tr>\n",
              "    <tr>\n",
              "      <th>2013</th>\n",
              "      <td>-118.72</td>\n",
              "      <td>34.28</td>\n",
              "      <td>17.0</td>\n",
              "      <td>3051.0</td>\n",
              "      <td>NaN</td>\n",
              "      <td>1705.0</td>\n",
              "      <td>495.0</td>\n",
              "      <td>5.7376</td>\n",
              "      <td>&lt;1H OCEAN</td>\n",
              "    </tr>\n",
              "  </tbody>\n",
              "</table>\n",
              "</div>"
            ],
            "text/plain": [
              "      longitude  latitude  ...  median_income  ocean_proximity\n",
              "91      -122.48     37.70  ...         3.0546       NEAR OCEAN\n",
              "234     -122.38     37.73  ...         2.2167         NEAR BAY\n",
              "264     -118.16     34.01  ...         2.2596        <1H OCEAN\n",
              "365     -119.30     36.57  ...         3.0156           INLAND\n",
              "405     -117.64     33.45  ...         6.2871       NEAR OCEAN\n",
              "734     -117.09     32.77  ...         3.0875       NEAR OCEAN\n",
              "830     -118.25     33.94  ...         0.8527        <1H OCEAN\n",
              "868     -118.18     34.19  ...        15.0001        <1H OCEAN\n",
              "1246    -119.78     36.82  ...         3.6250           INLAND\n",
              "1290    -122.01     37.94  ...         6.7061         NEAR BAY\n",
              "1301    -117.87     33.83  ...         5.6163        <1H OCEAN\n",
              "1618    -117.30     34.05  ...         1.6675           INLAND\n",
              "1845    -118.09     33.89  ...         4.0926        <1H OCEAN\n",
              "1904    -117.98     33.73  ...         3.4679        <1H OCEAN\n",
              "1905    -120.61     37.36  ...         1.9135           INLAND\n",
              "1954    -117.97     34.06  ...         3.2413        <1H OCEAN\n",
              "2013    -118.72     34.28  ...         5.7376        <1H OCEAN\n",
              "\n",
              "[17 rows x 9 columns]"
            ]
          },
          "metadata": {
            "tags": []
          },
          "execution_count": 76
        }
      ]
    },
    {
      "cell_type": "code",
      "metadata": {
        "id": "oxEU5epyFgv4",
        "colab_type": "code",
        "outputId": "4acbb59c-f6b1-40a5-abaf-3a7939b44975",
        "colab": {
          "base_uri": "https://localhost:8080/",
          "height": 187
        }
      },
      "source": [
        "#Return attribute with total empty row contains it\n",
        "dev_X.isnull().sum(axis = 0)"
      ],
      "execution_count": 77,
      "outputs": [
        {
          "output_type": "execute_result",
          "data": {
            "text/plain": [
              "longitude              0\n",
              "latitude               0\n",
              "housing_median_age     0\n",
              "total_rooms            0\n",
              "total_bedrooms        17\n",
              "population             0\n",
              "households             0\n",
              "median_income          0\n",
              "ocean_proximity        0\n",
              "dtype: int64"
            ]
          },
          "metadata": {
            "tags": []
          },
          "execution_count": 77
        }
      ]
    },
    {
      "cell_type": "code",
      "metadata": {
        "id": "uGQsADbWGa2z",
        "colab_type": "code",
        "colab": {}
      },
      "source": [
        "# Method 1: Implement SimpleSimpleImputter class\n",
        "imputer_mean = SimpleImputer(missing_values=np.nan, strategy='mean')\n",
        "imputer_mean.fit(dev_X[\"total_bedrooms\"].values.reshape(-1, 1))\n",
        "tmp_total_bedrooms = imputer_mean.transform(dev_X['total_bedrooms'].values.reshape(-1, 1))"
      ],
      "execution_count": 0,
      "outputs": []
    },
    {
      "cell_type": "code",
      "metadata": {
        "id": "Vw-62npXFs5j",
        "colab_type": "code",
        "outputId": "1dbf0470-d0db-4e74-f1e6-8095f2e11811",
        "colab": {
          "base_uri": "https://localhost:8080/",
          "height": 323
        }
      },
      "source": [
        "# Method 2: Replace empty element with mean value of their whole attribute in dataset\n",
        "idx_null = dev_X[\"total_bedrooms\"].isnull() # kiểm tra giá trị khuyết\n",
        "mean_total_bedrooms = dev_X[\"total_bedrooms\"][dev_X[\"total_bedrooms\"].isna() == False].mean() # tính trung bình cộng các giá trị không bị khuyết\n",
        "dev_X[\"total_bedrooms\"].fillna(mean_total_bedrooms, inplace=True) # thay thế các dòng không bị khuyết bởi giá trị trung bình\n",
        "print(dev_X[\"total_bedrooms\"][idx_null == True]) # in ra màn hình giá trị các dòng bị khuyết ban đầu để kiểm tra"
      ],
      "execution_count": 79,
      "outputs": [
        {
          "output_type": "stream",
          "text": [
            "91      543.332031\n",
            "234     543.332031\n",
            "264     543.332031\n",
            "365     543.332031\n",
            "405     543.332031\n",
            "734     543.332031\n",
            "830     543.332031\n",
            "868     543.332031\n",
            "1246    543.332031\n",
            "1290    543.332031\n",
            "1301    543.332031\n",
            "1618    543.332031\n",
            "1845    543.332031\n",
            "1904    543.332031\n",
            "1905    543.332031\n",
            "1954    543.332031\n",
            "2013    543.332031\n",
            "Name: total_bedrooms, dtype: float64\n"
          ],
          "name": "stdout"
        }
      ]
    },
    {
      "cell_type": "code",
      "metadata": {
        "id": "l-7YSw15G2n0",
        "colab_type": "code",
        "outputId": "d01889f5-6e53-43e6-9bf8-8bcf6085a14a",
        "colab": {
          "base_uri": "https://localhost:8080/",
          "height": 51
        }
      },
      "source": [
        "#Comparison between 2 methods\n",
        "print((dev_X[\"total_bedrooms\"] == tmp_total_bedrooms.squeeze()).all()) # Kiểm tra kết quả Cách 1 và Cách 2 có giống nhau hay không?\n",
        "print((dev_X[\"total_bedrooms\"].isna() == False).all()) # Kiểm tra kết quả sau khi áp dụng Cách 2 còn giá trị nào bị khuyết hay không?"
      ],
      "execution_count": 80,
      "outputs": [
        {
          "output_type": "stream",
          "text": [
            "True\n",
            "True\n"
          ],
          "name": "stdout"
        }
      ]
    },
    {
      "cell_type": "markdown",
      "metadata": {
        "id": "QZCC5WRWLd1b",
        "colab_type": "text"
      },
      "source": [
        "### Tương tự đối với test set ta sẽ rút ngắn quá trình làm \n"
      ]
    },
    {
      "cell_type": "code",
      "metadata": {
        "id": "NEdNGCTHTOpk",
        "colab_type": "code",
        "outputId": "268817ec-eccf-4ea1-c1f0-112b64f78b2a",
        "colab": {
          "base_uri": "https://localhost:8080/",
          "height": 187
        }
      },
      "source": [
        "# Check attributes with empty elements\n",
        "test_X.isnull().sum(axis = 0)"
      ],
      "execution_count": 81,
      "outputs": [
        {
          "output_type": "execute_result",
          "data": {
            "text/plain": [
              "longitude              0\n",
              "latitude               0\n",
              "housing_median_age     0\n",
              "total_rooms            0\n",
              "total_bedrooms        30\n",
              "population             0\n",
              "households             0\n",
              "median_income          0\n",
              "ocean_proximity        0\n",
              "dtype: int64"
            ]
          },
          "metadata": {
            "tags": []
          },
          "execution_count": 81
        }
      ]
    },
    {
      "cell_type": "code",
      "metadata": {
        "id": "BsYwzYmxLoVh",
        "colab_type": "code",
        "colab": {}
      },
      "source": [
        "# Implement SimpleSimpleImputter class\n",
        "imputer_mean = SimpleImputer(missing_values=np.nan, strategy='mean')\n",
        "imputer_mean.fit(test_X[\"total_bedrooms\"].values.reshape(-1, 1))\n",
        "tmp_total_bedrooms = imputer_mean.transform(test_X['total_bedrooms'].values.reshape(-1, 1))"
      ],
      "execution_count": 0,
      "outputs": []
    },
    {
      "cell_type": "code",
      "metadata": {
        "id": "snM6-DMURgHs",
        "colab_type": "code",
        "outputId": "53ffab6c-3e65-40e4-ede4-6dddb7c1bb11",
        "colab": {
          "base_uri": "https://localhost:8080/",
          "height": 544
        }
      },
      "source": [
        "# Replace empty element with mean value of their whole attribute in dataset\n",
        "idx_null = test_X[\"total_bedrooms\"].isnull() # kiểm tra giá trị khuyết\n",
        "mean_total_bedrooms = test_X[\"total_bedrooms\"][test_X[\"total_bedrooms\"].isna() == False].mean() # tính trung bình cộng các giá trị không bị khuyết\n",
        "test_X[\"total_bedrooms\"].fillna(mean_total_bedrooms, inplace=True) # thay thế các dòng không bị khuyết bởi giá trị trung bình\n",
        "print(test_X[\"total_bedrooms\"][idx_null == True]) # in ra màn hình giá trị các dòng bị khuyết ban đầu để kiểm tra"
      ],
      "execution_count": 83,
      "outputs": [
        {
          "output_type": "stream",
          "text": [
            "440     532.368716\n",
            "725     532.368716\n",
            "815     532.368716\n",
            "849     532.368716\n",
            "860     532.368716\n",
            "920     532.368716\n",
            "1116    532.368716\n",
            "1124    532.368716\n",
            "1453    532.368716\n",
            "1480    532.368716\n",
            "1618    532.368716\n",
            "1622    532.368716\n",
            "1668    532.368716\n",
            "1692    532.368716\n",
            "1696    532.368716\n",
            "1793    532.368716\n",
            "1801    532.368716\n",
            "1845    532.368716\n",
            "1967    532.368716\n",
            "2127    532.368716\n",
            "2190    532.368716\n",
            "2369    532.368716\n",
            "2795    532.368716\n",
            "2939    532.368716\n",
            "3057    532.368716\n",
            "3065    532.368716\n",
            "3068    532.368716\n",
            "3278    532.368716\n",
            "3797    532.368716\n",
            "4019    532.368716\n",
            "Name: total_bedrooms, dtype: float64\n"
          ],
          "name": "stdout"
        }
      ]
    },
    {
      "cell_type": "code",
      "metadata": {
        "id": "Jo8zHX8FS9ij",
        "colab_type": "code",
        "outputId": "d7f6baab-6f46-4169-adee-4e342342f532",
        "colab": {
          "base_uri": "https://localhost:8080/",
          "height": 51
        }
      },
      "source": [
        "#Comparison between 2 methods\n",
        "print((test_X[\"total_bedrooms\"] == tmp_total_bedrooms.squeeze()).all()) # Kiểm tra kết quả Cách 1 và Cách 2 có giống nhau hay không?\n",
        "print((test_X[\"total_bedrooms\"].isna() == False).all()) # Kiểm tra kết quả sau khi áp dụng Cách 2 còn giá trị nào bị khuyết hay không?"
      ],
      "execution_count": 84,
      "outputs": [
        {
          "output_type": "stream",
          "text": [
            "True\n",
            "True\n"
          ],
          "name": "stdout"
        }
      ]
    },
    {
      "cell_type": "markdown",
      "metadata": {
        "id": "5diblETzSVTy",
        "colab_type": "text"
      },
      "source": [
        "### Đã thực hiện kiểm tra đối với train_Y, test_Y, dev_Y và không phát hiện thấy thành phần nào bị rỗng"
      ]
    },
    {
      "cell_type": "code",
      "metadata": {
        "id": "4i-kYPUBSf0e",
        "colab_type": "code",
        "outputId": "9d38c1d6-3eb7-4b35-f339-939362d2f08d",
        "colab": {
          "base_uri": "https://localhost:8080/",
          "height": 34
        }
      },
      "source": [
        "print(dev_Y.isnull().sum(axis = 0),\n",
        "      train_Y.isnull().sum(axis = 0),\n",
        "      test_Y.isnull().sum(axis = 0))"
      ],
      "execution_count": 85,
      "outputs": [
        {
          "output_type": "stream",
          "text": [
            "0 0 0\n"
          ],
          "name": "stdout"
        }
      ]
    },
    {
      "cell_type": "markdown",
      "metadata": {
        "id": "DhYpu27oanBI",
        "colab_type": "text"
      },
      "source": [
        "# Yêu cầu 2: Thực hiện các thí nghiệm với việc thêm các thuộc tính tích lũy dẫn\n",
        "Chúng ta có danh sách các thuộc tính: ``longitude``, ``latitude``, ``housing_median_age``, ``total_rooms``, ``total_bedrooms``, ``population``, ``households``, ``median_income``, ``ocean_proximity``\n",
        "\n",
        "1. Thí nghiệm 1: ``longitude``\n",
        "2. Thí nghiệm 2: ``longitude``, ``latitude``\n",
        "3. Thí nghiêm 3: ``longitude``, ``latitude``, ``housing_median_age``\n",
        "4. Thí nghiệm 4: v.v...\n",
        "\n",
        "Lưu ý: Trong quá trình làm, các bạn sẽ tham khảo cách xử lý thuộc tính ``ocean_proximity`` bằng lớp ``LabelEncoder`` từ thư viện ``sklearn.preprocessing``"
      ]
    },
    {
      "cell_type": "code",
      "metadata": {
        "id": "WzyVAqVYanBJ",
        "colab_type": "code",
        "colab": {}
      },
      "source": [
        "#model1\n",
        "features_list_1 = [\"longitude\"]\n",
        "model_1 = sm.OLS(train_Y, train_X[features_list_1]).fit()\n",
        "rmse_train_1 = mean_squared_error(train_Y, model_1.predict(train_X[features_list_1]), squared=False)\n",
        "# If True returns MSE value, if False returns RMSE value.\n",
        "rmse_dev_1 = mean_squared_error(dev_Y, model_1.predict(dev_X[features_list_1]), squared=False)\n",
        "rmse_test_1 = mean_squared_error(test_Y, model_1.predict(test_X[features_list_1]), squared=False)"
      ],
      "execution_count": 0,
      "outputs": []
    },
    {
      "cell_type": "code",
      "metadata": {
        "id": "qnBcP6teanBU",
        "colab_type": "code",
        "colab": {}
      },
      "source": [
        "#model2\n",
        "features_list_2 = [\"longitude\", \"latitude\"]\n",
        "model_2 = sm.OLS(train_Y, train_X[features_list_2]).fit()\n",
        "rmse_train_2 = mean_squared_error(train_Y, model_2.predict(train_X[features_list_2]), squared=False)\n",
        "rmse_dev_2 = mean_squared_error(dev_Y, model_2.predict(dev_X[features_list_2]), squared=False)\n",
        "rmse_test_2 = mean_squared_error(test_Y, model_2.predict(test_X[features_list_2]), squared=False)"
      ],
      "execution_count": 0,
      "outputs": []
    },
    {
      "cell_type": "markdown",
      "metadata": {
        "id": "6FICK-tDevB2",
        "colab_type": "text"
      },
      "source": [
        "### Trước khi đi sâu vào với việc thêm các thuộc tính tích lũy dần, ta quan sát mối quan hệ giữa các thành phần trong dataset trước tiên để thực hiện thí nghiệm"
      ]
    },
    {
      "cell_type": "code",
      "metadata": {
        "id": "qZiBCtBkanBh",
        "colab_type": "code",
        "outputId": "59afe935-883a-4f16-a378-2c29419a5746",
        "colab": {
          "base_uri": "https://localhost:8080/",
          "height": 224
        }
      },
      "source": [
        "#Create dataframe contains all data (dev,test,train)\n",
        "df_copy = df_train.copy()\n",
        "df_copy.head()"
      ],
      "execution_count": 88,
      "outputs": [
        {
          "output_type": "execute_result",
          "data": {
            "text/html": [
              "<div>\n",
              "<style scoped>\n",
              "    .dataframe tbody tr th:only-of-type {\n",
              "        vertical-align: middle;\n",
              "    }\n",
              "\n",
              "    .dataframe tbody tr th {\n",
              "        vertical-align: top;\n",
              "    }\n",
              "\n",
              "    .dataframe thead th {\n",
              "        text-align: right;\n",
              "    }\n",
              "</style>\n",
              "<table border=\"1\" class=\"dataframe\">\n",
              "  <thead>\n",
              "    <tr style=\"text-align: right;\">\n",
              "      <th></th>\n",
              "      <th>longitude</th>\n",
              "      <th>latitude</th>\n",
              "      <th>housing_median_age</th>\n",
              "      <th>total_rooms</th>\n",
              "      <th>total_bedrooms</th>\n",
              "      <th>population</th>\n",
              "      <th>households</th>\n",
              "      <th>median_income</th>\n",
              "      <th>median_house_value</th>\n",
              "      <th>ocean_proximity</th>\n",
              "    </tr>\n",
              "  </thead>\n",
              "  <tbody>\n",
              "    <tr>\n",
              "      <th>0</th>\n",
              "      <td>-117.83</td>\n",
              "      <td>34.15</td>\n",
              "      <td>20.0</td>\n",
              "      <td>2421.0</td>\n",
              "      <td>306.0</td>\n",
              "      <td>1023.0</td>\n",
              "      <td>298.0</td>\n",
              "      <td>8.0683</td>\n",
              "      <td>451500.0</td>\n",
              "      <td>INLAND</td>\n",
              "    </tr>\n",
              "    <tr>\n",
              "      <th>1</th>\n",
              "      <td>-119.85</td>\n",
              "      <td>36.77</td>\n",
              "      <td>27.0</td>\n",
              "      <td>1510.0</td>\n",
              "      <td>344.0</td>\n",
              "      <td>847.0</td>\n",
              "      <td>295.0</td>\n",
              "      <td>2.9315</td>\n",
              "      <td>83200.0</td>\n",
              "      <td>INLAND</td>\n",
              "    </tr>\n",
              "    <tr>\n",
              "      <th>2</th>\n",
              "      <td>-122.13</td>\n",
              "      <td>37.67</td>\n",
              "      <td>40.0</td>\n",
              "      <td>1748.0</td>\n",
              "      <td>318.0</td>\n",
              "      <td>914.0</td>\n",
              "      <td>317.0</td>\n",
              "      <td>3.8676</td>\n",
              "      <td>184000.0</td>\n",
              "      <td>NEAR BAY</td>\n",
              "    </tr>\n",
              "    <tr>\n",
              "      <th>3</th>\n",
              "      <td>-119.81</td>\n",
              "      <td>34.46</td>\n",
              "      <td>22.0</td>\n",
              "      <td>3488.0</td>\n",
              "      <td>452.0</td>\n",
              "      <td>1479.0</td>\n",
              "      <td>458.0</td>\n",
              "      <td>7.1687</td>\n",
              "      <td>384400.0</td>\n",
              "      <td>NEAR OCEAN</td>\n",
              "    </tr>\n",
              "    <tr>\n",
              "      <th>4</th>\n",
              "      <td>-120.47</td>\n",
              "      <td>34.65</td>\n",
              "      <td>32.0</td>\n",
              "      <td>2193.0</td>\n",
              "      <td>430.0</td>\n",
              "      <td>1074.0</td>\n",
              "      <td>377.0</td>\n",
              "      <td>2.3333</td>\n",
              "      <td>130200.0</td>\n",
              "      <td>NEAR OCEAN</td>\n",
              "    </tr>\n",
              "  </tbody>\n",
              "</table>\n",
              "</div>"
            ],
            "text/plain": [
              "   longitude  latitude  ...  median_house_value  ocean_proximity\n",
              "0    -117.83     34.15  ...            451500.0           INLAND\n",
              "1    -119.85     36.77  ...             83200.0           INLAND\n",
              "2    -122.13     37.67  ...            184000.0         NEAR BAY\n",
              "3    -119.81     34.46  ...            384400.0       NEAR OCEAN\n",
              "4    -120.47     34.65  ...            130200.0       NEAR OCEAN\n",
              "\n",
              "[5 rows x 10 columns]"
            ]
          },
          "metadata": {
            "tags": []
          },
          "execution_count": 88
        }
      ]
    },
    {
      "cell_type": "code",
      "metadata": {
        "id": "RqneKXSflf41",
        "colab_type": "code",
        "outputId": "6ebd950b-66d1-48b0-ef5f-3cb5f5897573",
        "colab": {
          "base_uri": "https://localhost:8080/",
          "height": 224
        }
      },
      "source": [
        "#Append df_dev,df_test to get full dataset\n",
        "df_copy.append(df_dev)\n",
        "df_copy.append(df_test)\n",
        "df_copy.head()"
      ],
      "execution_count": 89,
      "outputs": [
        {
          "output_type": "execute_result",
          "data": {
            "text/html": [
              "<div>\n",
              "<style scoped>\n",
              "    .dataframe tbody tr th:only-of-type {\n",
              "        vertical-align: middle;\n",
              "    }\n",
              "\n",
              "    .dataframe tbody tr th {\n",
              "        vertical-align: top;\n",
              "    }\n",
              "\n",
              "    .dataframe thead th {\n",
              "        text-align: right;\n",
              "    }\n",
              "</style>\n",
              "<table border=\"1\" class=\"dataframe\">\n",
              "  <thead>\n",
              "    <tr style=\"text-align: right;\">\n",
              "      <th></th>\n",
              "      <th>longitude</th>\n",
              "      <th>latitude</th>\n",
              "      <th>housing_median_age</th>\n",
              "      <th>total_rooms</th>\n",
              "      <th>total_bedrooms</th>\n",
              "      <th>population</th>\n",
              "      <th>households</th>\n",
              "      <th>median_income</th>\n",
              "      <th>median_house_value</th>\n",
              "      <th>ocean_proximity</th>\n",
              "    </tr>\n",
              "  </thead>\n",
              "  <tbody>\n",
              "    <tr>\n",
              "      <th>0</th>\n",
              "      <td>-117.83</td>\n",
              "      <td>34.15</td>\n",
              "      <td>20.0</td>\n",
              "      <td>2421.0</td>\n",
              "      <td>306.0</td>\n",
              "      <td>1023.0</td>\n",
              "      <td>298.0</td>\n",
              "      <td>8.0683</td>\n",
              "      <td>451500.0</td>\n",
              "      <td>INLAND</td>\n",
              "    </tr>\n",
              "    <tr>\n",
              "      <th>1</th>\n",
              "      <td>-119.85</td>\n",
              "      <td>36.77</td>\n",
              "      <td>27.0</td>\n",
              "      <td>1510.0</td>\n",
              "      <td>344.0</td>\n",
              "      <td>847.0</td>\n",
              "      <td>295.0</td>\n",
              "      <td>2.9315</td>\n",
              "      <td>83200.0</td>\n",
              "      <td>INLAND</td>\n",
              "    </tr>\n",
              "    <tr>\n",
              "      <th>2</th>\n",
              "      <td>-122.13</td>\n",
              "      <td>37.67</td>\n",
              "      <td>40.0</td>\n",
              "      <td>1748.0</td>\n",
              "      <td>318.0</td>\n",
              "      <td>914.0</td>\n",
              "      <td>317.0</td>\n",
              "      <td>3.8676</td>\n",
              "      <td>184000.0</td>\n",
              "      <td>NEAR BAY</td>\n",
              "    </tr>\n",
              "    <tr>\n",
              "      <th>3</th>\n",
              "      <td>-119.81</td>\n",
              "      <td>34.46</td>\n",
              "      <td>22.0</td>\n",
              "      <td>3488.0</td>\n",
              "      <td>452.0</td>\n",
              "      <td>1479.0</td>\n",
              "      <td>458.0</td>\n",
              "      <td>7.1687</td>\n",
              "      <td>384400.0</td>\n",
              "      <td>NEAR OCEAN</td>\n",
              "    </tr>\n",
              "    <tr>\n",
              "      <th>4</th>\n",
              "      <td>-120.47</td>\n",
              "      <td>34.65</td>\n",
              "      <td>32.0</td>\n",
              "      <td>2193.0</td>\n",
              "      <td>430.0</td>\n",
              "      <td>1074.0</td>\n",
              "      <td>377.0</td>\n",
              "      <td>2.3333</td>\n",
              "      <td>130200.0</td>\n",
              "      <td>NEAR OCEAN</td>\n",
              "    </tr>\n",
              "  </tbody>\n",
              "</table>\n",
              "</div>"
            ],
            "text/plain": [
              "   longitude  latitude  ...  median_house_value  ocean_proximity\n",
              "0    -117.83     34.15  ...            451500.0           INLAND\n",
              "1    -119.85     36.77  ...             83200.0           INLAND\n",
              "2    -122.13     37.67  ...            184000.0         NEAR BAY\n",
              "3    -119.81     34.46  ...            384400.0       NEAR OCEAN\n",
              "4    -120.47     34.65  ...            130200.0       NEAR OCEAN\n",
              "\n",
              "[5 rows x 10 columns]"
            ]
          },
          "metadata": {
            "tags": []
          },
          "execution_count": 89
        }
      ]
    },
    {
      "cell_type": "code",
      "metadata": {
        "id": "lUG2cAsYlzqA",
        "colab_type": "code",
        "outputId": "89aab1a1-d1f5-4c01-9934-f0d56df9c640",
        "colab": {
          "base_uri": "https://localhost:8080/",
          "height": 187
        }
      },
      "source": [
        "corr_matrix = df_copy.corr()\n",
        "print(corr_matrix['median_house_value'].sort_values(ascending = False))"
      ],
      "execution_count": 90,
      "outputs": [
        {
          "output_type": "stream",
          "text": [
            "median_house_value    1.000000\n",
            "median_income         0.687335\n",
            "total_rooms           0.137521\n",
            "housing_median_age    0.092638\n",
            "households            0.068238\n",
            "total_bedrooms        0.052734\n",
            "population           -0.022210\n",
            "longitude            -0.041026\n",
            "latitude             -0.147617\n",
            "Name: median_house_value, dtype: float64\n"
          ],
          "name": "stdout"
        }
      ]
    },
    {
      "cell_type": "markdown",
      "metadata": {
        "id": "0Dbrap0lpVyB",
        "colab_type": "text"
      },
      "source": [
        "Từ bảng ``corr_matrix`` ta thấy được rằng giá cả nhà ngoài yếu tố vị trí còn có thể phụ thuộc vào: \n",
        "*   Mức thu nhập bình quân (``median_income``)\n",
        "*   Số lượng phòng ngủ (``total_rooms``)\n",
        "*   Độ tuổi trung bình (``housing_median_age``)\n",
        "\n",
        "Do chỉ số của các thuộc tính ``population``,``total_bedrooms`` quá thấp nên ta sẽ bỏ qua. Tuy nhiên còn thuộc tính ``ocean_proximity`` ta chưa xem xét đến nên sẽ thực hiện quan ở phần sau.\n",
        "\n"
      ]
    },
    {
      "cell_type": "markdown",
      "metadata": {
        "id": "AJBjU1Tvquf_",
        "colab_type": "text"
      },
      "source": [
        "### Biểu đồ Scatter để mô phỏng điều ta dự đoán và sự tương quan"
      ]
    },
    {
      "cell_type": "code",
      "metadata": {
        "id": "KegzUsjQq6DU",
        "colab_type": "code",
        "outputId": "6b860239-15aa-4850-8c6a-4c0721df0f56",
        "colab": {
          "base_uri": "https://localhost:8080/",
          "height": 34
        }
      },
      "source": [
        "from pandas.plotting import scatter_matrix\n",
        "print('Import scatter_matrix successfully')"
      ],
      "execution_count": 91,
      "outputs": [
        {
          "output_type": "stream",
          "text": [
            "Import scatter_matrix successfully\n"
          ],
          "name": "stdout"
        }
      ]
    },
    {
      "cell_type": "code",
      "metadata": {
        "id": "X4rHuFb6anBu",
        "colab_type": "code",
        "outputId": "4b130e82-0711-435c-c34e-412c26f56cae",
        "colab": {
          "base_uri": "https://localhost:8080/",
          "height": 916
        }
      },
      "source": [
        "attributes = ['median_house_value', 'median_income', 'total_rooms', 'housing_median_age']\n",
        "scatter_matrix(df_copy[attributes],figsize = (10,10))"
      ],
      "execution_count": 92,
      "outputs": [
        {
          "output_type": "execute_result",
          "data": {
            "text/plain": [
              "array([[<matplotlib.axes._subplots.AxesSubplot object at 0x7f465e0b7550>,\n",
              "        <matplotlib.axes._subplots.AxesSubplot object at 0x7f465e075438>,\n",
              "        <matplotlib.axes._subplots.AxesSubplot object at 0x7f465e0266a0>,\n",
              "        <matplotlib.axes._subplots.AxesSubplot object at 0x7f465dfd7908>],\n",
              "       [<matplotlib.axes._subplots.AxesSubplot object at 0x7f465df88b70>,\n",
              "        <matplotlib.axes._subplots.AxesSubplot object at 0x7f465dfb9d30>,\n",
              "        <matplotlib.axes._subplots.AxesSubplot object at 0x7f465df6bf98>,\n",
              "        <matplotlib.axes._subplots.AxesSubplot object at 0x7f465df2c208>],\n",
              "       [<matplotlib.axes._subplots.AxesSubplot object at 0x7f465df2c278>,\n",
              "        <matplotlib.axes._subplots.AxesSubplot object at 0x7f465de95710>,\n",
              "        <matplotlib.axes._subplots.AxesSubplot object at 0x7f465de49978>,\n",
              "        <matplotlib.axes._subplots.AxesSubplot object at 0x7f465de7dbe0>],\n",
              "       [<matplotlib.axes._subplots.AxesSubplot object at 0x7f465de31e48>,\n",
              "        <matplotlib.axes._subplots.AxesSubplot object at 0x7f465ddf10f0>,\n",
              "        <matplotlib.axes._subplots.AxesSubplot object at 0x7f465dda6358>,\n",
              "        <matplotlib.axes._subplots.AxesSubplot object at 0x7f465dd595c0>]],\n",
              "      dtype=object)"
            ]
          },
          "metadata": {
            "tags": []
          },
          "execution_count": 92
        },
        {
          "output_type": "display_data",
          "data": {
            "image/png": "[encoded data removed]",
            "text/plain": [
              "<Figure size 720x720 with 16 Axes>"
            ]
          },
          "metadata": {
            "tags": []
          }
        }
      ]
    },
    {
      "cell_type": "markdown",
      "metadata": {
        "id": "sYDKZpnVsLNL",
        "colab_type": "text"
      },
      "source": [
        "Qua biểu đồ scatter trên ta có thể thấy được rằng một số đặc điểm như sau: \n",
        "*   Giá nhà càng cao khi thu nhập trung bình khu vực càng cao\n",
        "*   Số lượng phòng và giá nhà phụ thuộc vào nhau, từ đây ta có thể tạo ra thêm 1 thuộc tính ``rooms_per_house``\n",
        "*   Độ tuổi trung bình mua nhà và giá cả nhà dường như không liên quan vì vậy sẽ bỏ qua \n",
        "\n",
        "Vậy ta hãy tiến hành thử nghiệm với các thuộc tính ``rooms_per_house``, ``median_income``"
      ]
    },
    {
      "cell_type": "code",
      "metadata": {
        "id": "LLXebDd2sI3d",
        "colab_type": "code",
        "outputId": "fdef21e7-ab42-4009-d723-11571ab12c34",
        "colab": {
          "base_uri": "https://localhost:8080/",
          "height": 224
        }
      },
      "source": [
        "# Experiment with room_per_house on full dataset\n",
        "df_copy['rooms_per_house'] = df_copy['total_rooms']/df_copy['households']\n",
        "df_copy.head()"
      ],
      "execution_count": 93,
      "outputs": [
        {
          "output_type": "execute_result",
          "data": {
            "text/html": [
              "<div>\n",
              "<style scoped>\n",
              "    .dataframe tbody tr th:only-of-type {\n",
              "        vertical-align: middle;\n",
              "    }\n",
              "\n",
              "    .dataframe tbody tr th {\n",
              "        vertical-align: top;\n",
              "    }\n",
              "\n",
              "    .dataframe thead th {\n",
              "        text-align: right;\n",
              "    }\n",
              "</style>\n",
              "<table border=\"1\" class=\"dataframe\">\n",
              "  <thead>\n",
              "    <tr style=\"text-align: right;\">\n",
              "      <th></th>\n",
              "      <th>longitude</th>\n",
              "      <th>latitude</th>\n",
              "      <th>housing_median_age</th>\n",
              "      <th>total_rooms</th>\n",
              "      <th>total_bedrooms</th>\n",
              "      <th>population</th>\n",
              "      <th>households</th>\n",
              "      <th>median_income</th>\n",
              "      <th>median_house_value</th>\n",
              "      <th>ocean_proximity</th>\n",
              "      <th>rooms_per_house</th>\n",
              "    </tr>\n",
              "  </thead>\n",
              "  <tbody>\n",
              "    <tr>\n",
              "      <th>0</th>\n",
              "      <td>-117.83</td>\n",
              "      <td>34.15</td>\n",
              "      <td>20.0</td>\n",
              "      <td>2421.0</td>\n",
              "      <td>306.0</td>\n",
              "      <td>1023.0</td>\n",
              "      <td>298.0</td>\n",
              "      <td>8.0683</td>\n",
              "      <td>451500.0</td>\n",
              "      <td>INLAND</td>\n",
              "      <td>8.124161</td>\n",
              "    </tr>\n",
              "    <tr>\n",
              "      <th>1</th>\n",
              "      <td>-119.85</td>\n",
              "      <td>36.77</td>\n",
              "      <td>27.0</td>\n",
              "      <td>1510.0</td>\n",
              "      <td>344.0</td>\n",
              "      <td>847.0</td>\n",
              "      <td>295.0</td>\n",
              "      <td>2.9315</td>\n",
              "      <td>83200.0</td>\n",
              "      <td>INLAND</td>\n",
              "      <td>5.118644</td>\n",
              "    </tr>\n",
              "    <tr>\n",
              "      <th>2</th>\n",
              "      <td>-122.13</td>\n",
              "      <td>37.67</td>\n",
              "      <td>40.0</td>\n",
              "      <td>1748.0</td>\n",
              "      <td>318.0</td>\n",
              "      <td>914.0</td>\n",
              "      <td>317.0</td>\n",
              "      <td>3.8676</td>\n",
              "      <td>184000.0</td>\n",
              "      <td>NEAR BAY</td>\n",
              "      <td>5.514196</td>\n",
              "    </tr>\n",
              "    <tr>\n",
              "      <th>3</th>\n",
              "      <td>-119.81</td>\n",
              "      <td>34.46</td>\n",
              "      <td>22.0</td>\n",
              "      <td>3488.0</td>\n",
              "      <td>452.0</td>\n",
              "      <td>1479.0</td>\n",
              "      <td>458.0</td>\n",
              "      <td>7.1687</td>\n",
              "      <td>384400.0</td>\n",
              "      <td>NEAR OCEAN</td>\n",
              "      <td>7.615721</td>\n",
              "    </tr>\n",
              "    <tr>\n",
              "      <th>4</th>\n",
              "      <td>-120.47</td>\n",
              "      <td>34.65</td>\n",
              "      <td>32.0</td>\n",
              "      <td>2193.0</td>\n",
              "      <td>430.0</td>\n",
              "      <td>1074.0</td>\n",
              "      <td>377.0</td>\n",
              "      <td>2.3333</td>\n",
              "      <td>130200.0</td>\n",
              "      <td>NEAR OCEAN</td>\n",
              "      <td>5.816976</td>\n",
              "    </tr>\n",
              "  </tbody>\n",
              "</table>\n",
              "</div>"
            ],
            "text/plain": [
              "   longitude  latitude  ...  ocean_proximity  rooms_per_house\n",
              "0    -117.83     34.15  ...           INLAND         8.124161\n",
              "1    -119.85     36.77  ...           INLAND         5.118644\n",
              "2    -122.13     37.67  ...         NEAR BAY         5.514196\n",
              "3    -119.81     34.46  ...       NEAR OCEAN         7.615721\n",
              "4    -120.47     34.65  ...       NEAR OCEAN         5.816976\n",
              "\n",
              "[5 rows x 11 columns]"
            ]
          },
          "metadata": {
            "tags": []
          },
          "execution_count": 93
        }
      ]
    },
    {
      "cell_type": "code",
      "metadata": {
        "id": "qc1EvtK_XuXv",
        "colab_type": "code",
        "outputId": "ad4397f3-470b-4e5c-c718-9b7ea5857065",
        "colab": {
          "base_uri": "https://localhost:8080/",
          "height": 204
        }
      },
      "source": [
        "#Check correlation matrix again \n",
        "corr_matrix = df_copy.corr()\n",
        "print(corr_matrix['median_house_value'].sort_values(ascending = False))"
      ],
      "execution_count": 94,
      "outputs": [
        {
          "output_type": "stream",
          "text": [
            "median_house_value    1.000000\n",
            "median_income         0.687335\n",
            "rooms_per_house       0.151434\n",
            "total_rooms           0.137521\n",
            "housing_median_age    0.092638\n",
            "households            0.068238\n",
            "total_bedrooms        0.052734\n",
            "population           -0.022210\n",
            "longitude            -0.041026\n",
            "latitude             -0.147617\n",
            "Name: median_house_value, dtype: float64\n"
          ],
          "name": "stdout"
        }
      ]
    },
    {
      "cell_type": "markdown",
      "metadata": {
        "id": "N441mWFJtAFW",
        "colab_type": "text"
      },
      "source": [
        "Ta thấy rằng thuộc tính ``bedrooms_per_house`` vừa được tạo ra có mối liên hệ với giá nhà cao hơn so với ``total_rooms`` vì thế ta hãy thử áp dụng để training cho model và rồi thực hiện so sánh giữa 2 ``bedrooms_per_house`` và ``total_rooms``"
      ]
    },
    {
      "cell_type": "code",
      "metadata": {
        "id": "-iSmc6AtVIkB",
        "colab_type": "code",
        "colab": {}
      },
      "source": [
        "# Add rooms_per_house train,test,dev set\n",
        "train_X['rooms_per_house'] = train_X['total_rooms']/train_X['households']\n",
        "dev_X['rooms_per_house'] = dev_X['total_rooms']/dev_X['households']\n",
        "test_X['rooms_per_house'] = test_X['total_rooms']/test_X['households']"
      ],
      "execution_count": 0,
      "outputs": []
    },
    {
      "cell_type": "code",
      "metadata": {
        "id": "m9VO2Iv8MHk7",
        "colab_type": "code",
        "colab": {}
      },
      "source": [
        "# model 3 room_per_house\n",
        "# Experiment with feature longtitude, latitude, room_per_house\n",
        "features_list_3 = [\"longitude\", \"latitude\",\"rooms_per_house\"]\n",
        "model_3 = sm.OLS(train_Y, train_X[features_list_3]).fit()\n",
        "rmse_train_3 = mean_squared_error(train_Y, model_3.predict(train_X[features_list_3]), squared=False)\n",
        "rmse_dev_3 = mean_squared_error(dev_Y, model_3.predict(dev_X[features_list_3]), squared=False)\n",
        "rmse_test_3 = mean_squared_error(test_Y, model_3.predict(test_X[features_list_3]), squared=False)"
      ],
      "execution_count": 0,
      "outputs": []
    },
    {
      "cell_type": "markdown",
      "metadata": {
        "id": "gXqEmBfhMNcK",
        "colab_type": "text"
      },
      "source": [
        "Tiến hành xây dựng model với thuộc tính ``housing_median_age``\n"
      ]
    },
    {
      "cell_type": "code",
      "metadata": {
        "id": "Pk49YDXwL785",
        "colab_type": "code",
        "colab": {}
      },
      "source": [
        "# model 4 housing_median_age\n",
        "# Experiment with feature longtitude, latitude, housing_median_age\n",
        "features_list_4 = [\"longitude\", \"latitude\",\"housing_median_age\"]\n",
        "model_4 = sm.OLS(train_Y, train_X[features_list_4]).fit()\n",
        "rmse_train_4 = mean_squared_error(train_Y, model_4.predict(train_X[features_list_4]), squared=False)\n",
        "rmse_dev_4 = mean_squared_error(dev_Y, model_4.predict(dev_X[features_list_4]), squared=False)\n",
        "rmse_test_4 = mean_squared_error(test_Y, model_4.predict(test_X[features_list_4]), squared=False)"
      ],
      "execution_count": 0,
      "outputs": []
    },
    {
      "cell_type": "markdown",
      "metadata": {
        "id": "FSRCCtAtQfzZ",
        "colab_type": "text"
      },
      "source": [
        "Tiến hành xây dựng model với thuộc tính ``median_income``"
      ]
    },
    {
      "cell_type": "code",
      "metadata": {
        "id": "nS2qAQkbOPqI",
        "colab_type": "code",
        "colab": {}
      },
      "source": [
        "# model 5 median_income\n",
        "# Experiment with feature longtitude, latitude, median_income\n",
        "features_list_5 = [\"longitude\", \"latitude\",\"median_income\"]\n",
        "model_5 = sm.OLS(train_Y, train_X[features_list_5]).fit()\n",
        "rmse_train_5 = mean_squared_error(train_Y, model_5.predict(train_X[features_list_5]), squared=False)\n",
        "rmse_dev_5 = mean_squared_error(dev_Y, model_5.predict(dev_X[features_list_5]), squared=False)\n",
        "rmse_test_5 = mean_squared_error(test_Y, model_5.predict(test_X[features_list_5]), squared=False)"
      ],
      "execution_count": 0,
      "outputs": []
    },
    {
      "cell_type": "markdown",
      "metadata": {
        "id": "ZlJTudAROApM",
        "colab_type": "text"
      },
      "source": [
        "## Ngoài ra, còn thuộc tính ``ocean_proximity``mà ta chưa xét tới\n",
        "Ta thường thấy rằng vị trí địa lý ảnh hưởng rất nhiều đến giá cả nhà đất và may mắn thay trong dataset đã phân loại các loại vị trí"
      ]
    },
    {
      "cell_type": "markdown",
      "metadata": {
        "id": "tNxuf517JzM1",
        "colab_type": "text"
      },
      "source": [
        "Bên dưới là 2 đồ thị biểu thị giá nhà và khu vực được phân loại theo vị trí "
      ]
    },
    {
      "cell_type": "code",
      "metadata": {
        "id": "mFF-282eLVKJ",
        "colab_type": "code",
        "colab": {
          "base_uri": "https://localhost:8080/",
          "height": 436
        },
        "outputId": "4d44fb37-c6d2-483d-d69e-6cbbbe33efc0"
      },
      "source": [
        "df_copy.plot(kind=\"scatter\", x=\"longitude\", y=\"latitude\", alpha=0.4,\n",
        "            s=df_copy[\"population\"]/100, label=\"population\", figsize=(10,7),\n",
        "            c=\"median_house_value\", cmap=plt.get_cmap(\"jet\"), colorbar=True,)\n",
        "plt.legend()"
      ],
      "execution_count": 99,
      "outputs": [
        {
          "output_type": "execute_result",
          "data": {
            "text/plain": [
              "<matplotlib.legend.Legend at 0x7f46616334a8>"
            ]
          },
          "metadata": {
            "tags": []
          },
          "execution_count": 99
        },
        {
          "output_type": "display_data",
          "data": {
            "image/png": "[encoded data removed]",
            "text/plain": [
              "<Figure size 720x504 with 2 Axes>"
            ]
          },
          "metadata": {
            "tags": []
          }
        }
      ]
    },
    {
      "cell_type": "code",
      "metadata": {
        "id": "L5DlyoLyG0sT",
        "colab_type": "code",
        "colab": {
          "base_uri": "https://localhost:8080/",
          "height": 34
        },
        "outputId": "04ba41d8-9c3e-4583-b06b-2acd3485df4e"
      },
      "source": [
        "from mlxtend.plotting import category_scatter\n",
        "print('Import mlxtend.plotting successfully')"
      ],
      "execution_count": 100,
      "outputs": [
        {
          "output_type": "stream",
          "text": [
            "Import mlxtend.plotting successfully\n"
          ],
          "name": "stdout"
        }
      ]
    },
    {
      "cell_type": "code",
      "metadata": {
        "id": "t2PYzfPHHB_Z",
        "colab_type": "code",
        "colab": {
          "base_uri": "https://localhost:8080/",
          "height": 513
        },
        "outputId": "fdbe6c56-81dc-42d7-ad89-c8dfd6ec41d2"
      },
      "source": [
        "category_scatter(x=\"longitude\", y=\"latitude\", label_col = 'ocean_proximity',\n",
        "                data = df_copy, legend_loc = 'upper left')"
      ],
      "execution_count": 101,
      "outputs": [
        {
          "output_type": "execute_result",
          "data": {
            "image/png": "[encoded data removed]",
            "text/plain": [
              "<Figure size 432x288 with 1 Axes>"
            ]
          },
          "metadata": {
            "tags": []
          },
          "execution_count": 101
        },
        {
          "output_type": "display_data",
          "data": {
            "image/png": "[encoded data removed]",
            "text/plain": [
              "<Figure size 432x288 with 1 Axes>"
            ]
          },
          "metadata": {
            "tags": []
          }
        }
      ]
    },
    {
      "cell_type": "code",
      "metadata": {
        "id": "0Bg5anM9c4Ay",
        "colab_type": "code",
        "colab": {}
      },
      "source": [
        "# ENCODE LABEL\n",
        "# Label encode ocean_proximity\n",
        "le = LabelEncoder()\n",
        "# training set \n",
        "le.fit(train_X['ocean_proximity'])\n",
        "train_X['ocean_proximity'] = le.transform(train_X['ocean_proximity'])\n",
        "dict(zip(le.classes_, le.transform(le.classes_)))\n",
        "# development set\n",
        "le.fit(dev_X['ocean_proximity'])\n",
        "dev_X['ocean_proximity'] = le.transform(dev_X['ocean_proximity'])\n",
        "# test set\n",
        "le.fit(test_X['ocean_proximity'])\n",
        "test_X['ocean_proximity'] = le.transform(test_X['ocean_proximity'])"
      ],
      "execution_count": 0,
      "outputs": []
    },
    {
      "cell_type": "code",
      "metadata": {
        "id": "zjhTF1U-PdwS",
        "colab_type": "code",
        "colab": {
          "base_uri": "https://localhost:8080/",
          "height": 34
        },
        "outputId": "c3a0fa27-0587-4602-a600-879500ca427f"
      },
      "source": [
        "dict(zip(le.classes_, le.transform(le.classes_)))"
      ],
      "execution_count": 103,
      "outputs": [
        {
          "output_type": "execute_result",
          "data": {
            "text/plain": [
              "{'<1H OCEAN': 0, 'INLAND': 1, 'ISLAND': 2, 'NEAR BAY': 3, 'NEAR OCEAN': 4}"
            ]
          },
          "metadata": {
            "tags": []
          },
          "execution_count": 103
        }
      ]
    },
    {
      "cell_type": "code",
      "metadata": {
        "id": "DrBVy6ojJQHr",
        "colab_type": "code",
        "colab": {}
      },
      "source": [
        "# model 6 ocean_proximity\n",
        "features_list_6 = [\"longitude\", \"latitude\",\"ocean_proximity\"]\n",
        "model_6 = sm.OLS(train_Y, train_X[features_list_6]).fit()\n",
        "rmse_train_6 = mean_squared_error(train_Y, model_6.predict(train_X[features_list_6]), squared=False)\n",
        "rmse_dev_6 = mean_squared_error(dev_Y, model_6.predict(dev_X[features_list_6]), squared=False)\n",
        "rmse_test_6 = mean_squared_error(test_Y, model_6.predict(test_X[features_list_6]), squared=False)\n",
        "\n",
        "# features_list_5 = [\"longitude\", \"latitude\",\"ocean_proximity\"]\n",
        "# model_5 = sm.OLS(train_Y, train_X[features_list_5]).fit()\n",
        "# rmse_train_5 = mean_squared_error(train_Y, model_5.predict(train_X[features_list_5]), squared=True)\n",
        "# rmse_dev_5 = mean_squared_error(dev_Y, model_5.predict(dev_X[features_list_5]), squared=True)\n",
        "# rmse_test_5 = mean_squared_error(test_Y, model_5.predict(test_X[features_list_5]), squared=True)"
      ],
      "execution_count": 0,
      "outputs": []
    },
    {
      "cell_type": "markdown",
      "metadata": {
        "id": "OI1GVsR-TGwl",
        "colab_type": "text"
      },
      "source": [
        "Mô hình với tất cả các thuộc tính kết hợp lại với nhau"
      ]
    },
    {
      "cell_type": "code",
      "metadata": {
        "id": "PHmIXC1_MZm2",
        "colab_type": "code",
        "colab": {}
      },
      "source": [
        "# model with all atrributes (includes rooms_per_house)\n",
        "model_all = sm.OLS(train_Y, train_X).fit()\n",
        "rmse_train_all = mean_squared_error(train_Y, model_all.predict(train_X), squared=False)\n",
        "rmse_dev_all = mean_squared_error(dev_Y, model_all.predict(dev_X), squared=False)\n",
        "rmse_test_all = mean_squared_error(test_Y, model_all.predict(test_X), squared=False)"
      ],
      "execution_count": 0,
      "outputs": []
    },
    {
      "cell_type": "code",
      "metadata": {
        "id": "1XB6zstN5fja",
        "colab_type": "code",
        "colab": {}
      },
      "source": [
        "#Delete dataframe after use\n",
        "del df_train\n",
        "del df_test\n",
        "del df_dev\n",
        "del df_copy"
      ],
      "execution_count": 0,
      "outputs": []
    },
    {
      "cell_type": "markdown",
      "metadata": {
        "id": "8rTzO8KCanB2",
        "colab_type": "text"
      },
      "source": [
        "# Yêu cầu 3: Trình bày kết quả mô hình vào một bảng bằng thư viện Pandas"
      ]
    },
    {
      "cell_type": "code",
      "metadata": {
        "scrolled": true,
        "id": "sXfwmJPvanB4",
        "colab_type": "code",
        "outputId": "fca3de1b-9a2f-4c07-a9e7-3ab7bf52c3c4",
        "colab": {
          "base_uri": "https://localhost:8080/",
          "height": 266
        }
      },
      "source": [
        "df_result = pd.DataFrame(data = {\n",
        "                                 'RMSE_Train': [rmse_train_1, rmse_train_2, rmse_train_3,rmse_train_4,rmse_train_5,rmse_train_6,rmse_train_all],\n",
        "                                 'RMSE_Dev': [rmse_dev_1, rmse_dev_2, rmse_dev_3,rmse_dev_4,rmse_dev_5,rmse_dev_6,rmse_dev_all],\n",
        "                                 'RMSE_Test': [rmse_test_1, rmse_test_2, rmse_test_3,rmse_test_4,rmse_test_5,rmse_dev_6,rmse_test_all]\n",
        "                                },\n",
        "                         index = [\n",
        "                                  'longitude', #1\n",
        "                                  'longitude + latitude', #2\n",
        "                                  'longitude + latitude + room_per_house', #3\n",
        "                                  'longitude + latitude + housing_median_age', #4\n",
        "                                  'longitude + latitude + median_income', #5\n",
        "                                  'longitude + latitude + ocean_proximity', #6\n",
        "                                  'all attributes', #all, include room_per_house\n",
        "                                  ])\n",
        "df_result"
      ],
      "execution_count": 108,
      "outputs": [
        {
          "output_type": "execute_result",
          "data": {
            "text/html": [
              "<div>\n",
              "<style scoped>\n",
              "    .dataframe tbody tr th:only-of-type {\n",
              "        vertical-align: middle;\n",
              "    }\n",
              "\n",
              "    .dataframe tbody tr th {\n",
              "        vertical-align: top;\n",
              "    }\n",
              "\n",
              "    .dataframe thead th {\n",
              "        text-align: right;\n",
              "    }\n",
              "</style>\n",
              "<table border=\"1\" class=\"dataframe\">\n",
              "  <thead>\n",
              "    <tr style=\"text-align: right;\">\n",
              "      <th></th>\n",
              "      <th>RMSE_Train</th>\n",
              "      <th>RMSE_Dev</th>\n",
              "      <th>RMSE_Test</th>\n",
              "    </tr>\n",
              "  </thead>\n",
              "  <tbody>\n",
              "    <tr>\n",
              "      <th>longitude</th>\n",
              "      <td>114808.126372</td>\n",
              "      <td>114556.559922</td>\n",
              "      <td>117298.758437</td>\n",
              "    </tr>\n",
              "    <tr>\n",
              "      <th>longitude + latitude</th>\n",
              "      <td>111492.089953</td>\n",
              "      <td>112236.756821</td>\n",
              "      <td>113827.915011</td>\n",
              "    </tr>\n",
              "    <tr>\n",
              "      <th>longitude + latitude + room_per_house</th>\n",
              "      <td>109665.214694</td>\n",
              "      <td>110317.907261</td>\n",
              "      <td>112037.996171</td>\n",
              "    </tr>\n",
              "    <tr>\n",
              "      <th>longitude + latitude + housing_median_age</th>\n",
              "      <td>111139.090379</td>\n",
              "      <td>111531.578263</td>\n",
              "      <td>113134.299017</td>\n",
              "    </tr>\n",
              "    <tr>\n",
              "      <th>longitude + latitude + median_income</th>\n",
              "      <td>81840.406615</td>\n",
              "      <td>82893.944075</td>\n",
              "      <td>82780.422497</td>\n",
              "    </tr>\n",
              "    <tr>\n",
              "      <th>longitude + latitude + ocean_proximity</th>\n",
              "      <td>110795.141323</td>\n",
              "      <td>111942.847206</td>\n",
              "      <td>111942.847206</td>\n",
              "    </tr>\n",
              "    <tr>\n",
              "      <th>all attributes</th>\n",
              "      <td>74387.850666</td>\n",
              "      <td>75073.788734</td>\n",
              "      <td>74939.763493</td>\n",
              "    </tr>\n",
              "  </tbody>\n",
              "</table>\n",
              "</div>"
            ],
            "text/plain": [
              "                                              RMSE_Train  ...      RMSE_Test\n",
              "longitude                                  114808.126372  ...  117298.758437\n",
              "longitude + latitude                       111492.089953  ...  113827.915011\n",
              "longitude + latitude + room_per_house      109665.214694  ...  112037.996171\n",
              "longitude + latitude + housing_median_age  111139.090379  ...  113134.299017\n",
              "longitude + latitude + median_income        81840.406615  ...   82780.422497\n",
              "longitude + latitude + ocean_proximity     110795.141323  ...  111942.847206\n",
              "all attributes                              74387.850666  ...   74939.763493\n",
              "\n",
              "[7 rows x 3 columns]"
            ]
          },
          "metadata": {
            "tags": []
          },
          "execution_count": 108
        }
      ]
    },
    {
      "cell_type": "markdown",
      "metadata": {
        "id": "gjuRGuPfanCO",
        "colab_type": "text"
      },
      "source": [
        "# Yêu cầu 4: Nhận xét các kết quả trên\n",
        "Qua một vài thử nghiệm đối với việc kết hợp một số thuộc tính với nhau ta thấy rằng: \n",
        "*   Ta thấy rõ rằng khi chưa đưa các thuộc tính về cùng khoảng (scale) khiến cho RMSE đưa ra kết quả rất lớn (ví dụ như ``median_house_value `` và ``longtitude, latitude`` ) đây chính là điều ta không muốn\n",
        "*   Việc tạo ra một số thuộc tính mới có sự liên quan cao hơn thuộc tính đã có tiêu biểu là ``room_per_house`` cũng có ảnh hưởng rất quan trọng đến kết quả của RMSE\n",
        "*   Ta cũng cần lưu ý lựa chọn kĩ các thuộc tính quan trọng để tính toán và cũng để giảm thiểu khối công việc dư thừa không cần thiết, như ở bảng kết quả RMSE thì ta thấy có các thuộc tính quan trọng như ``longtitude``, ``latitude``, ``median_income`` và ``room_per_house``"
      ]
    },
    {
      "cell_type": "markdown",
      "metadata": {
        "id": "_hduQFpXanCQ",
        "colab_type": "text"
      },
      "source": [
        "# Yêu cầu 5: Thực hiện lại các Yêu cầu 2, 3, 4 khi dùng mô hình ``Support Vector Machine regressor`` (``sklearn.svm.SVR``) để giải quyết bài toán hồi quy tuyến tính "
      ]
    },
    {
      "cell_type": "code",
      "metadata": {
        "id": "pLqADlYNfKYV",
        "colab_type": "code",
        "colab": {
          "base_uri": "https://localhost:8080/",
          "height": 34
        },
        "outputId": "76a07421-4997-48ea-c1b2-f8c07d6b8af5"
      },
      "source": [
        "from sklearn.svm import SVR\n",
        "print('Import Linear Support Vector Regression successfully') "
      ],
      "execution_count": 113,
      "outputs": [
        {
          "output_type": "stream",
          "text": [
            "Import Linear Support Vector Regression successfully\n"
          ],
          "name": "stdout"
        }
      ]
    },
    {
      "cell_type": "code",
      "metadata": {
        "id": "Nsn2lWRbwiHz",
        "colab_type": "code",
        "colab": {}
      },
      "source": [
        "svm_reg = SVR(kernel=\"linear\", ) #default parameter setting "
      ],
      "execution_count": 0,
      "outputs": []
    },
    {
      "cell_type": "markdown",
      "metadata": {
        "id": "jni0tyOywXoT",
        "colab_type": "text"
      },
      "source": [
        "Tương tự với các yêu cầu phía trên, ta cũng thử tính toán lại sử dụng các features list ở phía trên"
      ]
    },
    {
      "cell_type": "code",
      "metadata": {
        "id": "IY0CFYYb_dS_",
        "colab_type": "code",
        "colab": {}
      },
      "source": [
        "# svr model 1 \n",
        "modelSVM_1 = svm_reg.fit(train_X[features_list_1],train_Y)\n",
        "rmseSVM_train_1 = mean_squared_error(train_Y,modelSVM_1.predict(train_X[features_list_1]) , squared=False) # If True returns MSE value, if False returns RMSE value.\n",
        "rmseSVM_test_1 = mean_squared_error(test_Y,modelSVM_1.predict(test_X[features_list_1]) , squared=False)\n",
        "rmseSVM_dev_1 = mean_squared_error(dev_Y,modelSVM_1.predict(dev_X[features_list_1]) , squared=False)"
      ],
      "execution_count": 0,
      "outputs": []
    },
    {
      "cell_type": "code",
      "metadata": {
        "id": "Q_1zv-AjHpSq",
        "colab_type": "code",
        "colab": {}
      },
      "source": [
        "# svr model 2\n",
        "modelSVM_2 = svm_reg.fit(train_X[features_list_2],train_Y)\n",
        "rmseSVM_train_2 = mean_squared_error(train_Y,modelSVM_2.predict(train_X[features_list_2]) , squared=False) # If True returns MSE value, if False returns RMSE value.\n",
        "rmseSVM_test_2 = mean_squared_error(test_Y,modelSVM_2.predict(test_X[features_list_2]) , squared=False)\n",
        "rmseSVM_dev_2 = mean_squared_error(dev_Y,modelSVM_2.predict(dev_X[features_list_2]) , squared=False)"
      ],
      "execution_count": 0,
      "outputs": []
    },
    {
      "cell_type": "code",
      "metadata": {
        "id": "qIXuGB8yviWs",
        "colab_type": "code",
        "colab": {}
      },
      "source": [
        "# svr model 3\n",
        "modelSVM_3 = svm_reg.fit(train_X[features_list_3],train_Y)\n",
        "rmseSVM_train_3 = mean_squared_error(train_Y,modelSVM_3.predict(train_X[features_list_3]) , squared=False) # If True returns MSE value, if False returns RMSE value.\n",
        "rmseSVM_test_3 = mean_squared_error(test_Y,modelSVM_3.predict(test_X[features_list_3]) , squared=False)\n",
        "rmseSVM_dev_3 = mean_squared_error(dev_Y,modelSVM_3.predict(dev_X[features_list_3]) , squared=False)"
      ],
      "execution_count": 0,
      "outputs": []
    },
    {
      "cell_type": "code",
      "metadata": {
        "id": "8mwoRcASTNWV",
        "colab_type": "code",
        "colab": {}
      },
      "source": [
        "# svr model 4\n",
        "modelSVM_4 = svm_reg.fit(train_X[features_list_4],train_Y)\n",
        "rmseSVM_train_4 = mean_squared_error(train_Y,modelSVM_4.predict(train_X[features_list_4]) , squared=False) # If True returns MSE value, if False returns RMSE value.\n",
        "rmseSVM_test_4 = mean_squared_error(test_Y,modelSVM_4.predict(test_X[features_list_4]) , squared=False)\n",
        "rmseSVM_dev_4 = mean_squared_error(dev_Y,modelSVM_4.predict(dev_X[features_list_4]) , squared=False)"
      ],
      "execution_count": 0,
      "outputs": []
    },
    {
      "cell_type": "code",
      "metadata": {
        "id": "qaf8svPJTSdp",
        "colab_type": "code",
        "colab": {}
      },
      "source": [
        "# svr model 5\n",
        "modelSVM_5 = svm_reg.fit(train_X[features_list_5],train_Y)\n",
        "rmseSVM_train_5 = mean_squared_error(train_Y,modelSVM_5.predict(train_X[features_list_5]) , squared=False) # If True returns MSE value, if False returns RMSE value.\n",
        "rmseSVM_test_5 = mean_squared_error(test_Y,modelSVM_5.predict(test_X[features_list_5]) , squared=False)\n",
        "rmseSVM_dev_5 = mean_squared_error(dev_Y,modelSVM_5.predict(dev_X[features_list_5]) , squared=False)"
      ],
      "execution_count": 0,
      "outputs": []
    },
    {
      "cell_type": "code",
      "metadata": {
        "id": "2bxeGAJUTd6w",
        "colab_type": "code",
        "colab": {}
      },
      "source": [
        "# svr model 6\n",
        "modelSVM_6 = svm_reg.fit(train_X[features_list_6],train_Y)\n",
        "rmseSVM_train_6 = mean_squared_error(train_Y,modelSVM_6.predict(train_X[features_list_6]) , squared=False) # If True returns MSE value, if False returns RMSE value.\n",
        "rmseSVM_test_6 = mean_squared_error(test_Y,modelSVM_6.predict(test_X[features_list_6]) , squared=False)\n",
        "rmseSVM_dev_6 = mean_squared_error(dev_Y,modelSVM_6.predict(dev_X[features_list_6]) , squared=False)"
      ],
      "execution_count": 0,
      "outputs": []
    },
    {
      "cell_type": "code",
      "metadata": {
        "id": "6Tw_IDRtThHd",
        "colab_type": "code",
        "colab": {}
      },
      "source": [
        "# svr model all\n",
        "modelSVM_all = svm_reg.fit(train_X,train_Y)\n",
        "rmseSVM_train_all = mean_squared_error(train_Y,modelSVM_all.predict(train_X) , squared=False) # If True returns MSE value, if False returns RMSE value.\n",
        "rmseSVM_test_all = mean_squared_error(test_Y,modelSVM_all.predict(test_X) , squared=False)\n",
        "rmseSVM_dev_all = mean_squared_error(dev_Y,modelSVM_all.predict(dev_X) , squared=False)"
      ],
      "execution_count": 0,
      "outputs": []
    },
    {
      "cell_type": "markdown",
      "metadata": {
        "id": "UClCmLpcUv-W",
        "colab_type": "text"
      },
      "source": [
        "Thể hiện kết quả của mô hình khi sử dụng ``Support Vector Regression`` "
      ]
    },
    {
      "cell_type": "code",
      "metadata": {
        "id": "04DPLwCmT4xm",
        "colab_type": "code",
        "colab": {
          "base_uri": "https://localhost:8080/",
          "height": 266
        },
        "outputId": "90954a9c-4134-4cca-c75c-468fdd207db6"
      },
      "source": [
        "df_resultSVM = pd.DataFrame(data = {\n",
        "                                 'rmseSVM_Train': [rmseSVM_train_1, rmseSVM_train_2, rmseSVM_train_3,rmseSVM_train_4,rmseSVM_train_5,rmseSVM_train_6,rmseSVM_train_all],\n",
        "                                 'rmseSVM_Dev': [rmseSVM_dev_1, rmseSVM_dev_2, rmseSVM_dev_3,rmseSVM_dev_4,rmseSVM_dev_5,rmseSVM_dev_6,rmseSVM_dev_all],\n",
        "                                 'rmseSVM_Test': [rmseSVM_test_1, rmseSVM_test_2, rmseSVM_test_3,rmseSVM_test_4,rmseSVM_test_5,rmseSVM_dev_6,rmseSVM_test_all]\n",
        "                                },\n",
        "                         index = [\n",
        "                                  'longitude', #1\n",
        "                                  'longitude + latitude', #2\n",
        "                                  'longitude + latitude + room_per_house', #3\n",
        "                                  'longitude + latitude + housing_median_age', #4\n",
        "                                  'longitude + latitude + median_income', #5\n",
        "                                  'longitude + latitude + ocean_proximity', #6\n",
        "                                  'all attributes', #all, include room_per_house\n",
        "                                  ])\n",
        "df_resultSVM"
      ],
      "execution_count": 148,
      "outputs": [
        {
          "output_type": "execute_result",
          "data": {
            "text/html": [
              "<div>\n",
              "<style scoped>\n",
              "    .dataframe tbody tr th:only-of-type {\n",
              "        vertical-align: middle;\n",
              "    }\n",
              "\n",
              "    .dataframe tbody tr th {\n",
              "        vertical-align: top;\n",
              "    }\n",
              "\n",
              "    .dataframe thead th {\n",
              "        text-align: right;\n",
              "    }\n",
              "</style>\n",
              "<table border=\"1\" class=\"dataframe\">\n",
              "  <thead>\n",
              "    <tr style=\"text-align: right;\">\n",
              "      <th></th>\n",
              "      <th>rmseSVM_Train</th>\n",
              "      <th>rmseSVM_Dev</th>\n",
              "      <th>rmseSVM_Test</th>\n",
              "    </tr>\n",
              "  </thead>\n",
              "  <tbody>\n",
              "    <tr>\n",
              "      <th>longitude</th>\n",
              "      <td>117924.545628</td>\n",
              "      <td>117463.850111</td>\n",
              "      <td>120561.631810</td>\n",
              "    </tr>\n",
              "    <tr>\n",
              "      <th>longitude + latitude</th>\n",
              "      <td>117146.891674</td>\n",
              "      <td>116903.495457</td>\n",
              "      <td>119738.730333</td>\n",
              "    </tr>\n",
              "    <tr>\n",
              "      <th>longitude + latitude + room_per_house</th>\n",
              "      <td>116237.301904</td>\n",
              "      <td>116063.798058</td>\n",
              "      <td>118563.648849</td>\n",
              "    </tr>\n",
              "    <tr>\n",
              "      <th>longitude + latitude + housing_median_age</th>\n",
              "      <td>116615.889858</td>\n",
              "      <td>116133.145720</td>\n",
              "      <td>118918.313962</td>\n",
              "    </tr>\n",
              "    <tr>\n",
              "      <th>longitude + latitude + median_income</th>\n",
              "      <td>102156.495613</td>\n",
              "      <td>101707.054270</td>\n",
              "      <td>104270.939081</td>\n",
              "    </tr>\n",
              "    <tr>\n",
              "      <th>longitude + latitude + ocean_proximity</th>\n",
              "      <td>117008.947362</td>\n",
              "      <td>116852.296766</td>\n",
              "      <td>116852.296766</td>\n",
              "    </tr>\n",
              "    <tr>\n",
              "      <th>all attributes</th>\n",
              "      <td>95219.539260</td>\n",
              "      <td>94645.983050</td>\n",
              "      <td>95500.095288</td>\n",
              "    </tr>\n",
              "  </tbody>\n",
              "</table>\n",
              "</div>"
            ],
            "text/plain": [
              "                                           rmseSVM_Train  ...   rmseSVM_Test\n",
              "longitude                                  117924.545628  ...  120561.631810\n",
              "longitude + latitude                       117146.891674  ...  119738.730333\n",
              "longitude + latitude + room_per_house      116237.301904  ...  118563.648849\n",
              "longitude + latitude + housing_median_age  116615.889858  ...  118918.313962\n",
              "longitude + latitude + median_income       102156.495613  ...  104270.939081\n",
              "longitude + latitude + ocean_proximity     117008.947362  ...  116852.296766\n",
              "all attributes                              95219.539260  ...   95500.095288\n",
              "\n",
              "[7 rows x 3 columns]"
            ]
          },
          "metadata": {
            "tags": []
          },
          "execution_count": 148
        }
      ]
    },
    {
      "cell_type": "markdown",
      "metadata": {
        "id": "QancEgB3U7-R",
        "colab_type": "text"
      },
      "source": [
        "### Nhận xét \n",
        "*   Ta thấy rằng việc để thông số mặc định khi sử dụng SVR (epsilon = 0.1, l2 penalty (C) = 1.0) làm cho kết quả trả về sai lệch cao hơn so với khi sử dụng OLS \n",
        "*    Vẫn tương tự như nhận xét ở OLS, cần feature scaling để kết quả trả về như ý muốn \n",
        "*    Cần lựa chọn các thuộc tính quan trọng thực hiện áp dụng cho mô hình để giảm chi phí tính toán và thời gian tính toán \n",
        "*    Thời gian tính toán của SVR lâu hơn rất nhiều so với OLS (sử dụng Google Colab để tính toán)"
      ]
    }
  ]
}